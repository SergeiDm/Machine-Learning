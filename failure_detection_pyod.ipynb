{
 "cells": [
  {
   "cell_type": "code",
   "execution_count": 3,
   "metadata": {},
   "outputs": [],
   "source": [
    "# Import dependencies\n",
    "import time\n",
    "import numpy as np\n",
    "import pandas as pd\n",
    "\n",
    "from datetime import timedelta\n",
    "from pyod.models.abod import ABOD\n",
    "from pyod.models.auto_encoder import AutoEncoder\n",
    "from pyod.models.knn import KNN\n",
    "\n",
    "from sklearn.model_selection import train_test_split\n"
   ]
  },
  {
   "cell_type": "code",
   "execution_count": 4,
   "metadata": {},
   "outputs": [
    {
     "name": "stdout",
     "output_type": "stream",
     "text": [
      "Loading saved samples...\n",
      "Finished loading samples in 0:00:00.627467\n",
      "(52254, 40, 64)\n"
     ]
    },
    {
     "data": {
      "text/plain": [
       "array([[[0., 0., 0., ..., 0., 0., 0.],\n",
       "        [0., 0., 0., ..., 0., 0., 0.],\n",
       "        [0., 0., 0., ..., 0., 0., 0.],\n",
       "        ...,\n",
       "        [0., 0., 0., ..., 0., 0., 0.],\n",
       "        [0., 0., 0., ..., 0., 0., 0.],\n",
       "        [0., 0., 0., ..., 0., 0., 0.]]])"
      ]
     },
     "execution_count": 4,
     "metadata": {},
     "output_type": "execute_result"
    }
   ],
   "source": [
    " # Set seed for reproducible result\n",
    "seed = 1234\n",
    "np.random.seed(seed)\n",
    "\n",
    "print(\"Loading saved samples...\")\n",
    "t1 = time.perf_counter()\n",
    "X_load = np.load('samples_32bands_augment_data_06032020.npy')\n",
    "print(f\"Finished loading samples in {timedelta(seconds=time.perf_counter()-t1)}\")\n",
    "\n",
    "print(X_load.shape)\n",
    "X_load[0:1]  # Show some data for sense\n"
   ]
  },
  {
   "cell_type": "code",
   "execution_count": 5,
   "metadata": {},
   "outputs": [
    {
     "name": "stdout",
     "output_type": "stream",
     "text": [
      "X shape: (15000, 2560)\n",
      "Fitting classifier...\n"
     ]
    },
    {
     "name": "stderr",
     "output_type": "stream",
     "text": [
      "c:\\users\\se.vi.dmitriev\\python-virtual-environments\\ml\\lib\\site-packages\\numpy\\core\\fromnumeric.py:3506: RuntimeWarning: Degrees of freedom <= 0 for slice\n",
      "  **kwargs)\n",
      "c:\\users\\se.vi.dmitriev\\python-virtual-environments\\ml\\lib\\site-packages\\numpy\\core\\_methods.py:186: RuntimeWarning: invalid value encountered in true_divide\n",
      "  arrmean, rcount, out=arrmean, casting='unsafe', subok=False)\n",
      "c:\\users\\se.vi.dmitriev\\python-virtual-environments\\ml\\lib\\site-packages\\numpy\\core\\_methods.py:209: RuntimeWarning: invalid value encountered in double_scalars\n",
      "  ret = ret.dtype.type(ret / rcount)\n"
     ]
    },
    {
     "name": "stdout",
     "output_type": "stream",
     "text": [
      "Finished fitting classifier in 0:10:50.550849\n"
     ]
    },
    {
     "name": "stderr",
     "output_type": "stream",
     "text": [
      "c:\\users\\se.vi.dmitriev\\python-virtual-environments\\ml\\lib\\site-packages\\pyod\\models\\base.py:365: RuntimeWarning: invalid value encountered in greater\n",
      "  self.labels_ = (self.decision_scores_ > self.threshold_).astype(\n"
     ]
    }
   ],
   "source": [
    "Num_samples = 15_000\n",
    "X_load_ = np.reshape(X_load[:Num_samples], newshape=(-1, 40*64))\n",
    "print(f\"X shape: {X_load_.shape}\")\n",
    "\n",
    "# Divide data: train, test\n",
    "X_train, X_test = train_test_split(X_load_, shuffle=True, test_size=0.2)\n",
    "\n",
    "print(\"Fitting classifier...\")\n",
    "t1 = time.perf_counter()\n",
    "clf = ABOD(contamination=1e-10)\n",
    "clf.fit(X_train)\n",
    "print(f\"Finished fitting classifier in {timedelta(seconds=time.perf_counter()-t1)}\")\n"
   ]
  },
  {
   "cell_type": "code",
   "execution_count": 6,
   "metadata": {},
   "outputs": [
    {
     "name": "stderr",
     "output_type": "stream",
     "text": [
      "c:\\users\\se.vi.dmitriev\\python-virtual-environments\\ml\\lib\\site-packages\\numpy\\core\\fromnumeric.py:3506: RuntimeWarning: Degrees of freedom <= 0 for slice\n",
      "  **kwargs)\n",
      "c:\\users\\se.vi.dmitriev\\python-virtual-environments\\ml\\lib\\site-packages\\numpy\\core\\_methods.py:186: RuntimeWarning: invalid value encountered in true_divide\n",
      "  arrmean, rcount, out=arrmean, casting='unsafe', subok=False)\n",
      "c:\\users\\se.vi.dmitriev\\python-virtual-environments\\ml\\lib\\site-packages\\numpy\\core\\_methods.py:209: RuntimeWarning: invalid value encountered in double_scalars\n",
      "  ret = ret.dtype.type(ret / rcount)\n",
      "c:\\users\\se.vi.dmitriev\\python-virtual-environments\\ml\\lib\\site-packages\\pyod\\models\\base.py:168: RuntimeWarning: invalid value encountered in greater\n",
      "  return (pred_score > self.threshold_).astype('int').ravel()\n"
     ]
    },
    {
     "data": {
      "text/plain": [
       "array([0, 0, 0, ..., 0, 0, 0])"
      ]
     },
     "execution_count": 6,
     "metadata": {},
     "output_type": "execute_result"
    }
   ],
   "source": [
    "y_test_pred = clf.predict(X_test)\n",
    "y_test_pred"
   ]
  },
  {
   "cell_type": "code",
   "execution_count": 7,
   "metadata": {},
   "outputs": [
    {
     "name": "stderr",
     "output_type": "stream",
     "text": [
      "c:\\users\\se.vi.dmitriev\\python-virtual-environments\\ml\\lib\\site-packages\\pyod\\models\\base.py:168: RuntimeWarning: invalid value encountered in greater\n",
      "  return (pred_score > self.threshold_).astype('int').ravel()\n"
     ]
    },
    {
     "data": {
      "text/plain": [
       "array([0])"
      ]
     },
     "execution_count": 7,
     "metadata": {},
     "output_type": "execute_result"
    }
   ],
   "source": [
    "X_new = X_test[100:101]\n",
    "X_new[0, 0:200] = 1\n",
    "clf.predict(X_new)"
   ]
  },
  {
   "cell_type": "code",
   "execution_count": 13,
   "metadata": {},
   "outputs": [
    {
     "name": "stdout",
     "output_type": "stream",
     "text": [
      "X shape: (52254, 2560)\n",
      "Fitting classifier...\n",
      "Model: \"sequential_5\"\n",
      "_________________________________________________________________\n",
      "Layer (type)                 Output Shape              Param #   \n",
      "=================================================================\n",
      "dense_29 (Dense)             (None, 2560)              6556160   \n",
      "_________________________________________________________________\n",
      "dropout_25 (Dropout)         (None, 2560)              0         \n",
      "_________________________________________________________________\n",
      "dense_30 (Dense)             (None, 2560)              6556160   \n",
      "_________________________________________________________________\n",
      "dropout_26 (Dropout)         (None, 2560)              0         \n",
      "_________________________________________________________________\n",
      "dense_31 (Dense)             (None, 64)                163904    \n",
      "_________________________________________________________________\n",
      "dropout_27 (Dropout)         (None, 64)                0         \n",
      "_________________________________________________________________\n",
      "dense_32 (Dense)             (None, 32)                2080      \n",
      "_________________________________________________________________\n",
      "dropout_28 (Dropout)         (None, 32)                0         \n",
      "_________________________________________________________________\n",
      "dense_33 (Dense)             (None, 32)                1056      \n",
      "_________________________________________________________________\n",
      "dropout_29 (Dropout)         (None, 32)                0         \n",
      "_________________________________________________________________\n",
      "dense_34 (Dense)             (None, 64)                2112      \n",
      "_________________________________________________________________\n",
      "dropout_30 (Dropout)         (None, 64)                0         \n",
      "_________________________________________________________________\n",
      "dense_35 (Dense)             (None, 2560)              166400    \n",
      "=================================================================\n",
      "Total params: 13,447,872\n",
      "Trainable params: 13,447,872\n",
      "Non-trainable params: 0\n",
      "_________________________________________________________________\n",
      "None\n",
      "Train on 37622 samples, validate on 4181 samples\n",
      "Epoch 1/30\n",
      "37622/37622 [==============================] - 327s 9ms/step - loss: 481.7157 - val_loss: 3.0859\n",
      "Epoch 2/30\n",
      "37622/37622 [==============================] - 328s 9ms/step - loss: 1.2819 - val_loss: 1.6021\n",
      "Epoch 3/30\n",
      "37622/37622 [==============================] - 326s 9ms/step - loss: 1.0218 - val_loss: 1.4532\n",
      "Epoch 4/30\n",
      "37622/37622 [==============================] - 325s 9ms/step - loss: 18.2450 - val_loss: 122.5433\n",
      "Epoch 5/30\n",
      "37622/37622 [==============================] - 326s 9ms/step - loss: 320.3498 - val_loss: 309.1694\n",
      "Epoch 6/30\n",
      "37622/37622 [==============================] - 326s 9ms/step - loss: 145.2933 - val_loss: 60.5515\n",
      "Epoch 7/30\n",
      "37622/37622 [==============================] - 326s 9ms/step - loss: 18.2361 - val_loss: 9.3073\n",
      "Epoch 8/30\n",
      "37622/37622 [==============================] - 325s 9ms/step - loss: 2.7531 - val_loss: 5.2049\n",
      "Epoch 9/30\n",
      "37622/37622 [==============================] - 324s 9ms/step - loss: 3.8414 - val_loss: 16.0853\n",
      "Epoch 10/30\n",
      "37622/37622 [==============================] - 324s 9ms/step - loss: 27.8673 - val_loss: 47.0487\n",
      "Epoch 11/30\n",
      "37622/37622 [==============================] - 326s 9ms/step - loss: 43.8415 - val_loss: 43.4446\n",
      "Epoch 12/30\n",
      "37622/37622 [==============================] - 325s 9ms/step - loss: 27.4686 - val_loss: 25.5871\n",
      "Epoch 13/30\n",
      "37622/37622 [==============================] - 324s 9ms/step - loss: 9.7577 - val_loss: 7.9806\n",
      "Epoch 14/30\n",
      "37622/37622 [==============================] - 324s 9ms/step - loss: 3.7548 - val_loss: 9.1890\n",
      "Epoch 15/30\n",
      "37622/37622 [==============================] - 324s 9ms/step - loss: 5.7648 - val_loss: 10.6588\n",
      "Epoch 16/30\n",
      "37622/37622 [==============================] - 324s 9ms/step - loss: 8.2210 - val_loss: 13.5141\n",
      "Epoch 17/30\n",
      "37622/37622 [==============================] - 324s 9ms/step - loss: 8.4277 - val_loss: 12.0200\n",
      "Epoch 18/30\n",
      "37622/37622 [==============================] - 323s 9ms/step - loss: 5.0413 - val_loss: 6.1828\n",
      "Epoch 19/30\n",
      "37622/37622 [==============================] - 323s 9ms/step - loss: 2.6347 - val_loss: 6.4194\n",
      "Epoch 20/30\n",
      "37622/37622 [==============================] - 323s 9ms/step - loss: 2.6304 - val_loss: 7.7609\n",
      "Epoch 21/30\n",
      "37622/37622 [==============================] - 323s 9ms/step - loss: 3.0148 - val_loss: 6.4759\n",
      "Epoch 22/30\n",
      "37622/37622 [==============================] - 323s 9ms/step - loss: 2.5016 - val_loss: 5.6116\n",
      "Epoch 23/30\n",
      "37622/37622 [==============================] - 322s 9ms/step - loss: 2.2675 - val_loss: 5.7136\n",
      "Epoch 24/30\n",
      "37622/37622 [==============================] - 322s 9ms/step - loss: 1.8102 - val_loss: 5.7749\n",
      "Epoch 25/30\n",
      "37622/37622 [==============================] - 323s 9ms/step - loss: 1.8448 - val_loss: 6.0623\n",
      "Epoch 26/30\n",
      "37622/37622 [==============================] - 322s 9ms/step - loss: 1.7410 - val_loss: 5.3167\n",
      "Epoch 27/30\n",
      "37622/37622 [==============================] - 322s 9ms/step - loss: 1.4090 - val_loss: 5.4037\n",
      "Epoch 28/30\n",
      "37622/37622 [==============================] - 323s 9ms/step - loss: 1.5021 - val_loss: 5.1099\n",
      "Epoch 29/30\n",
      "37622/37622 [==============================] - 322s 9ms/step - loss: 1.2871 - val_loss: 5.0887\n",
      "Epoch 30/30\n",
      "37622/37622 [==============================] - 322s 9ms/step - loss: 1.4940 - val_loss: 5.1716\n",
      "Finished fitting classifier in 2:42:42.666878\n"
     ]
    }
   ],
   "source": [
    "# With Autoencoder\n",
    "Num_samples = 1_000_000\n",
    "X_load_1 = np.reshape(X_load[:Num_samples], newshape=(-1, 40*64))\n",
    "#X_load_ = X_load[:Num_samples]\n",
    "print(f\"X shape: {X_load_1.shape}\")\n",
    "\n",
    "# Divide data: train, test\n",
    "X_train1, X_test1 = train_test_split(X_load_1, shuffle=True, test_size=0.2)\n",
    "\n",
    "print(\"Fitting classifier...\")\n",
    "t1 = time.perf_counter()\n",
    "clf1 = AutoEncoder(epochs=30, output_activation='tanh', contamination=1e-10)\n",
    "clf1.fit(X_train1)\n",
    "print(f\"Finished fitting classifier in {timedelta(seconds=time.perf_counter()-t1)}\")\n"
   ]
  },
  {
   "cell_type": "code",
   "execution_count": 14,
   "metadata": {},
   "outputs": [
    {
     "data": {
      "text/plain": [
       "array([0, 0, 0, ..., 0, 0, 0])"
      ]
     },
     "execution_count": 14,
     "metadata": {},
     "output_type": "execute_result"
    }
   ],
   "source": [
    "y_test_pred1 = clf1.predict(X_test1)\n",
    "y_test_pred1"
   ]
  },
  {
   "cell_type": "code",
   "execution_count": 22,
   "metadata": {},
   "outputs": [
    {
     "data": {
      "text/plain": [
       "array([1, 1])"
      ]
     },
     "execution_count": 22,
     "metadata": {},
     "output_type": "execute_result"
    }
   ],
   "source": [
    "y_test_pred1[y_test_pred1 > 0]"
   ]
  },
  {
   "cell_type": "code",
   "execution_count": 20,
   "metadata": {},
   "outputs": [
    {
     "data": {
      "text/plain": [
       "array([1])"
      ]
     },
     "execution_count": 20,
     "metadata": {},
     "output_type": "execute_result"
    }
   ],
   "source": [
    "X_new1 = X_test1[100:101]\n",
    "#X_new1[0, 0:50000] = 1\n",
    "clf1.predict(X_new1)"
   ]
  },
  {
   "cell_type": "code",
   "execution_count": null,
   "metadata": {},
   "outputs": [],
   "source": []
  }
 ],
 "metadata": {
  "kernelspec": {
   "display_name": "ML",
   "language": "python",
   "name": "ml"
  },
  "language_info": {
   "codemirror_mode": {
    "name": "ipython",
    "version": 3
   },
   "file_extension": ".py",
   "mimetype": "text/x-python",
   "name": "python",
   "nbconvert_exporter": "python",
   "pygments_lexer": "ipython3",
   "version": "3.7.5"
  }
 },
 "nbformat": 4,
 "nbformat_minor": 4
}
