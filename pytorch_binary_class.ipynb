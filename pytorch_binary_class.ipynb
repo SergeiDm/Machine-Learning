{
 "cells": [
  {
   "cell_type": "code",
   "execution_count": 5,
   "metadata": {},
   "outputs": [
    {
     "name": "stdout",
     "output_type": "stream",
     "text": [
      "cuda\n"
     ]
    }
   ],
   "source": [
    "import numpy as np\n",
    "import pandas as pd\n",
    "import torch\n",
    "import torch.nn.functional as F\n",
    "\n",
    "from sklearn.datasets import make_classification\n",
    "from sklearn.model_selection import train_test_split\n",
    "from torch import nn, optim\n",
    "from torch.utils.data import DataLoader, TensorDataset\n",
    "\n",
    "SEED = 1234\n",
    "np.random.seed(SEED)\n",
    "torch.manual_seed(SEED)\n",
    "\n",
    "device = torch.device(\"cuda\" if torch.cuda.is_available() else \"cpu\")\n",
    "print(device)"
   ]
  },
  {
   "cell_type": "code",
   "execution_count": 8,
   "metadata": {},
   "outputs": [],
   "source": [
    "X, y = make_classification(n_samples=1000, n_features=10, n_classes=2, n_informative=10, n_redundant=0)\n",
    "X_train, X_test, y_train, y_test = train_test_split(X, y, shuffle=True, stratify=y, train_size=0.8)\n",
    "\n",
    "X_train_t = torch.tensor(X_train, dtype=torch.float)\n",
    "X_test_t = torch.tensor(X_test, dtype=torch.float)\n",
    "y_train_t = torch.tensor(y_train, dtype=torch.float)\n",
    "y_test_t = torch.tensor(y_test, dtype=torch.float)\n",
    "\n",
    "train_ds = TensorDataset(X_train_t, y_train_t)\n",
    "test_ds = TensorDataset(X_test_t, y_test_t)\n",
    "\n",
    "train_loader = DataLoader(train_ds, batch_size=32, shuffle=True)\n",
    "test_loader = DataLoader(test_ds, batch_size=32, shuffle=True)\n"
   ]
  },
  {
   "cell_type": "code",
   "execution_count": 13,
   "metadata": {},
   "outputs": [],
   "source": [
    "class NetClassifier(nn.Module):\n",
    "    def __init__(self):\n",
    "        super(NetClassifier, self).__init__()\n",
    "        self.linear = nn.Linear(10, 32)\n",
    "        self.linear2 = nn.Linear(32, 48)\n",
    "        self.linear3 = nn.Linear(48, 1)\n",
    "    \n",
    "    def forward(self, x):\n",
    "        x = F.relu(self.linear(x))\n",
    "        x = F.relu(self.linear2(x))\n",
    "        x = torch.sigmoid(self.linear3(x))\n",
    "        return x\n",
    "    \n",
    "model = NetClassifier().to(device)\n",
    "criterion = nn.BCELoss(reduction='sum')\n",
    "optimizer = optim.Adam(model.parameters(), lr=1e-3)\n",
    "    "
   ]
  },
  {
   "cell_type": "code",
   "execution_count": 28,
   "metadata": {},
   "outputs": [
    {
     "name": "stdout",
     "output_type": "stream",
     "text": [
      "Epoch: 0 | Train loss: 0.143062 | Train accuracy: 0.9525 | Test loss: 0.094058 | Test accuracy: 0.9450\n",
      "Epoch: 1 | Train loss: 0.140087 | Train accuracy: 0.9487 | Test loss: 0.050826 | Test accuracy: 0.9400\n",
      "Epoch: 2 | Train loss: 0.136174 | Train accuracy: 0.9550 | Test loss: 0.269123 | Test accuracy: 0.9450\n",
      "Epoch: 3 | Train loss: 0.132743 | Train accuracy: 0.9600 | Test loss: 0.086309 | Test accuracy: 0.9350\n",
      "Epoch: 4 | Train loss: 0.129618 | Train accuracy: 0.9575 | Test loss: 0.097866 | Test accuracy: 0.9350\n"
     ]
    }
   ],
   "source": [
    "epochs = 5\n",
    "\n",
    "for epoch in range(epochs):\n",
    "    model.train()\n",
    "    train_loss = 0\n",
    "    train_accuracy = 0\n",
    "    for samples, targets in train_loader:\n",
    "        samples, targets = samples.to(device), targets.to(device)\n",
    "        \n",
    "        optimizer.zero_grad()\n",
    "        output = model.forward(samples)\n",
    "        loss = criterion(output, targets)\n",
    "        outputs = [1 if item > 0.5 else 0 for item in output.squeeze().tolist()]\n",
    "        train_accuracy += sum(np.array(outputs)==np.array(targets.tolist()))\n",
    "        train_loss += loss.item()\n",
    "        loss.backward()\n",
    "        optimizer.step()\n",
    "    else:\n",
    "        train_loss /= len(train_ds)\n",
    "        train_accuracy /= len(train_ds)\n",
    "    \n",
    "    model.eval()\n",
    "    with torch.no_grad():\n",
    "        test_loss = 0\n",
    "        test_accuracy = 0\n",
    "        for samples, targets in test_loader:\n",
    "            samples, targets = samples.to(device), targets.to(device)\n",
    "            output = model.forward(samples)\n",
    "            outputs = [1 if item > 0.5 else 0 for item in output.squeeze().tolist()]\n",
    "            test_accuracy += sum(np.array(outputs)==np.array(targets.tolist()))\n",
    "            test_loss += loss.item()\n",
    "        else:\n",
    "            test_loss /= len(test_ds)\n",
    "            test_accuracy /= len(test_ds)\n",
    "    \n",
    "    print(f\"Epoch: {epoch} | Train loss: {train_loss:.6f} | Train accuracy: {train_accuracy:.4f} | \"\n",
    "          f\"Test loss: {test_loss:.6f} | Test accuracy: {test_accuracy:.4f}\")  \n"
   ]
  },
  {
   "cell_type": "code",
   "execution_count": 31,
   "metadata": {},
   "outputs": [
    {
     "data": {
      "text/plain": [
       "0.8214522004127502"
      ]
     },
     "execution_count": 31,
     "metadata": {},
     "output_type": "execute_result"
    }
   ],
   "source": [
    "result = model.forward(X_train_t[0:1].to(device))\n",
    "result.item()"
   ]
  }
 ],
 "metadata": {
  "kernelspec": {
   "display_name": "PyTorch",
   "language": "python",
   "name": "pytorch"
  },
  "language_info": {
   "codemirror_mode": {
    "name": "ipython",
    "version": 3
   },
   "file_extension": ".py",
   "mimetype": "text/x-python",
   "name": "python",
   "nbconvert_exporter": "python",
   "pygments_lexer": "ipython3",
   "version": "3.7.5"
  }
 },
 "nbformat": 4,
 "nbformat_minor": 4
}
