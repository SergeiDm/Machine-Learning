{
 "cells": [
  {
   "cell_type": "code",
   "execution_count": 1,
   "metadata": {},
   "outputs": [],
   "source": [
    "# Import dependencies\n",
    "import warnings\n",
    "\n",
    "import matplotlib.pyplot as plt\n",
    "import numpy as np\n",
    "import pandas as pd\n",
    "import torch\n",
    "import torch.nn.functional as F\n",
    "\n",
    "from datetime import timedelta\n",
    "from time import time\n",
    "\n",
    "from scipy import stats\n",
    "from sklearn.metrics import mean_squared_error\n",
    "from sklearn.model_selection import train_test_split\n",
    "from torch import nn, optim\n",
    "from torch.utils.data import DataLoader, TensorDataset\n",
    "\n",
    "warnings.filterwarnings(action='ignore')  # filter all warnings, in particular ConversionWarning (by numpy)\n",
    "\n",
    "# Declare constants\n",
    "AMPL_THRESH = 2  # Amplitude threshold\n",
    "BANDS = 32  # Number of frequency bands\n",
    "FREQ_THRESH = 512  # Frequency threshold\n",
    "MU = 0.05  # Mean for adding noise from Gaussian distribution\n",
    "N_FREQ = 12  # Numbers of frequencies\n",
    "OVERLAP_SIZE = 20  # Number of overlapping rows for sliding window\n",
    "SIGMA = 0.02  # Standard deviation for adding noise from Gaussian distribution\n",
    "SLICE_SIZE = 40  # Number of rows which build one sample\n",
    "TEST_BS = 32  # Batch size for testing\n",
    "TRAIN_BS = 32  # Batch size for training\n"
   ]
  },
  {
   "cell_type": "code",
   "execution_count": 2,
   "metadata": {},
   "outputs": [],
   "source": [
    "# Helper functions\n",
    "def clean_data(data, n_freq=12,\n",
    "               ampl_flag=True, ampl_thresh=2,\n",
    "               freq_flag=True, freq_thresh=512):\n",
    "    \"\"\"Changes amplitudes and frequencies which are \n",
    "       more than amplitude/ frequency thresholds to thresholds.\n",
    "    \"\"\"\n",
    "    \n",
    "    data_copied = data[:, 1:].copy()  # do not include 1st column\n",
    "\n",
    "    part1 = data_copied[:, list(range(0, n_freq))]  # amplitude\n",
    "    part2 = data_copied[:, list(range(n_freq, 2*n_freq))]  # frequency\n",
    "    part3 = data_copied[:, list(range(2*n_freq, 3*n_freq))]  # amplitude\n",
    "    part4 = data_copied[:, list(range(3*n_freq, 4*n_freq))]  # frequency\n",
    "\n",
    "    if ampl_flag:\n",
    "        part1[part1 > ampl_thresh] = ampl_thresh\n",
    "        part3[part3 > ampl_thresh] = ampl_thresh\n",
    "    \n",
    "    if freq_flag:\n",
    "        part2[part2 > freq_thresh] = freq_flag\n",
    "        part4[part4 > freq_thresh] = freq_flag\n",
    "  \n",
    "    return np.hstack((part1, part2, part3, part4))\n",
    "\n",
    "\n",
    "def check_data_quality(data, n_freq=12, freq_thresh=512, ampl_thresh=2):\n",
    "    \"\"\"Show statistics for rows where \n",
    "       frequencies and amplitudes more than threshold.\n",
    "    \"\"\"\n",
    "    \n",
    "    data_ampl = data[:, [list(range(0, n_freq)) + list(range(2*n_freq, 3*n_freq))]]\n",
    "    outliers = data_ampl[data_ampl > ampl_thresh]\n",
    "    if len(outliers) > 0:\n",
    "        print(f\"Amplitude outliers (> {ampl_thresh}): {stats.describe(outliers)}\")\n",
    "    else:\n",
    "        print(\"There is no amplitude outliers\")\n",
    "    \n",
    "    data_freq = data[:, [list(range(n_freq, 2*n_freq)) + list(range(3*n_freq, 4*n_freq))]]\n",
    "    outliers = data_freq[data_freq > freq_thresh]\n",
    "    if len(outliers) > 0:\n",
    "        print(f\"Frequency outliers (> {freq_thresh}): {stats.describe(outliers)}\")\n",
    "    else:\n",
    "        print(\"There is no frequency outliers\")\n",
    "\n",
    "\n",
    "def get_stats(data, n_freq=12, figsize=(10, 6)):\n",
    "    \"\"\"Plot histograms for frequencies and amplitudes.\"\"\"\n",
    "    \n",
    "    fig, ax = plt.subplots(3, 2, figsize=figsize)\n",
    "    \n",
    "    frequency = data[:, [list(range(n_freq, 2*n_freq))]].flatten()\n",
    "    print(f\"Stats for frequency axis 1: {stats.describe(frequency)}\")\n",
    "    ax[0][0].hist(frequency, density=True)\n",
    "    ax[0][0].set_title('Frequency axis 1')\n",
    "\n",
    "    amplitude = data[:, [list(range(0, n_freq))]].flatten()\n",
    "    print(f\"Stats for amplitude axis 1: {stats.describe(amplitude)}\")\n",
    "    ax[1][0].hist(amplitude, density=True)\n",
    "    ax[1][0].set_title('Amplitude axis 1')\n",
    "      \n",
    "    frequency = data[:, [list(range(3*n_freq, 4*n_freq))]].flatten()\n",
    "    print(f\"Stats for frequency axis 2: {stats.describe(frequency)}\")\n",
    "    ax[0][1].hist(frequency, density=True)\n",
    "    ax[0][1].set_title('Frequency axis 2')\n",
    "\n",
    "    amplitude = data[:, [list(range(2*n_freq, 3*n_freq))]].flatten()\n",
    "    print(f\"Stats for amplitude axis 2: {stats.describe(amplitude)}\")\n",
    "    ax[1][1].hist(amplitude, density=True)\n",
    "    ax[1][1].set_title('Amplitude axis 2')\n",
    "   \n",
    "    freq_ampl = frequency * amplitude\n",
    "    print(f\"Stats for freq * ampl axis 1: {stats.describe(freq_ampl)}\")\n",
    "    ax[2][0].hist(freq_ampl, density=True)\n",
    "    ax[2][0].set_title('Freq * ampl axis 1')    \n",
    "\n",
    "    freq_ampl = frequency * amplitude\n",
    "    print(f\"Stats for freq * ampl axis 2: {stats.describe(freq_ampl)}\")\n",
    "    ax[2][1].hist(freq_ampl, density=True)\n",
    "    ax[2][1].set_title('Freq_ampl axis 2')    \n",
    "    \n",
    "    fig.tight_layout()\n",
    "\n",
    "\n",
    "def plot_single_row(data, row=0, n_freq=12, figsize=(10, 6)):\n",
    "    \"\"\"Plot single row from data.\"\"\"\n",
    "    \n",
    "    amplitude1 = data[row][0:n_freq]\n",
    "    frequency1 = data[row][n_freq:2*n_freq]\n",
    "    \n",
    "    amplitude2 = data[row][2*n_freq:3*n_freq]    \n",
    "    frequency2 = data[row][3*n_freq:4*n_freq]\n",
    "    \n",
    "    fig, (ax1, ax2) = plt.subplots(1, 2, figsize=figsize)\n",
    "    ax1.stem(frequency1, amplitude1)\n",
    "    ax1.set_title('Axis 1')\n",
    "    ax1.set_xlabel('Frequency')\n",
    "    ax1.set_ylabel('Amplitude')\n",
    "\n",
    "    ax2.stem(frequency2, amplitude2)\n",
    "    ax2.set_title('Axis 2')\n",
    "    ax2.set_xlabel('Frequency')\n",
    "    ax2.set_ylabel('Amplitude')\n",
    "    \n",
    "    fig.tight_layout()\n",
    "\n",
    "\n",
    "def plot_comparison(data1, data2, figsize=(14, 6)): \n",
    "    \"\"\"Plot 2 histograms with each other.\"\"\"\n",
    "    fig, (ax1, ax2) = plt.subplots(1, 2, figsize=figsize, sharey=True)\n",
    "    ax1.hist(data1)\n",
    "    ax2.hist(data2)\n",
    "    fig.tight_layout()    \n"
   ]
  },
  {
   "cell_type": "markdown",
   "metadata": {},
   "source": [
    "# Read and Clean Data\n",
    "The data may have the following problem:\n",
    "- Outliers by amplitudes and frequencies\n",
    "- Number of columns more than 49\n",
    "\n",
    "Input data has the format:\n",
    "\n",
    "- 0th element - 12 - service information\n",
    "- [1-13) - Amplitudes of the first axis\n",
    "- [13-25) - Frequencies of the first axis\n",
    "- [25-37) - Amplitudes of the second axis\n",
    "- [37-49) - Frequencies of the second axis\n",
    "\n",
    "Raw data example:<img src=\"./illustrations/raw_data_example.png\" width=\"1300\" height=\"900\" align=left>"
   ]
  },
  {
   "cell_type": "code",
   "execution_count": 3,
   "metadata": {},
   "outputs": [
    {
     "name": "stdout",
     "output_type": "stream",
     "text": [
      "Reading data...\n",
      "Finished reading data in 0:00:28.279969\n"
     ]
    },
    {
     "data": {
      "text/plain": [
       "array([[12. ,  0. ,  0. ,  0. ,  0. ,  0. ,  0. ,  0. ,  0. ,  0. ,  0. ,\n",
       "         0. ,  0. ,  0. ,  0. ,  0. ,  0. ,  0. ,  0. ,  0. ,  0. ,  0. ,\n",
       "         0. ,  0. ,  0. ,  0. ,  0. ,  0. ,  0. ,  0. ,  0. ,  0. ,  0. ,\n",
       "         0. ,  0. ,  0. ,  0. , 25.6,  0. ,  0. ,  0. ,  0. ,  0. ,  0. ,\n",
       "         0. ,  0. ,  0. ,  0. ,  0. ]])"
      ]
     },
     "execution_count": 3,
     "metadata": {},
     "output_type": "execute_result"
    }
   ],
   "source": [
    "# Read data\n",
    "print(\"Reading data...\")\n",
    "t1 = time()\n",
    "DATA_PATH = r'C:\\Users\\se.vi.dmitriev\\.IdeaIC2019.2\\config\\scratches\\data_norm_06032020_output.txt'\n",
    "raw_data = np.genfromtxt(fname=DATA_PATH, dtype=np.float64, delimiter=',', invalid_raise=False)\n",
    "print(f\"Finished reading data in {timedelta(seconds=time()-t1)}\")\n",
    "\n",
    "raw_data[0:1]  # Show some data for sense\n"
   ]
  },
  {
   "cell_type": "code",
   "execution_count": 4,
   "metadata": {},
   "outputs": [
    {
     "name": "stdout",
     "output_type": "stream",
     "text": [
      "Checking quality of the raw data...\n",
      "Amplitude outliers (> 2): DescribeResult(nobs=6408, minmax=(2.000023, 8191.875), mean=280.8718206939919, variance=675095.4261890579, skewness=5.189883206763977, kurtosis=35.96794977716712)\n",
      "Frequency outliers (> 512): DescribeResult(nobs=1173, minmax=(512.2, 6553.5), mean=1952.311338448423, variance=1722507.7148286677, skewness=1.3894776396434034, kurtosis=2.2361201259830876)\n",
      "Finished checking quality in 0:00:00.512316\n",
      "\n",
      "Cleaning data...\n",
      "Finished cleaning data in 0:00:00.656999\n",
      "\n",
      "Checking quality of the cleaned data...\n",
      "There is no amplitude outliers\n",
      "There is no frequency outliers\n",
      "Finished checking quality in 0:00:00.134361\n"
     ]
    },
    {
     "data": {
      "text/plain": [
       "array([[ 0. ,  0. ,  0. ,  0. ,  0. ,  0. ,  0. ,  0. ,  0. ,  0. ,  0. ,\n",
       "         0. ,  0. ,  0. ,  0. ,  0. ,  0. ,  0. ,  0. ,  0. ,  0. ,  0. ,\n",
       "         0. ,  0. ,  0. ,  0. ,  0. ,  0. ,  0. ,  0. ,  0. ,  0. ,  0. ,\n",
       "         0. ,  0. ,  0. , 25.6,  0. ,  0. ,  0. ,  0. ,  0. ,  0. ,  0. ,\n",
       "         0. ,  0. ,  0. ,  0. ]])"
      ]
     },
     "execution_count": 4,
     "metadata": {},
     "output_type": "execute_result"
    }
   ],
   "source": [
    "# Check quality of the raw data\n",
    "print(\"Checking quality of the raw data...\")\n",
    "t1 = time()\n",
    "check_data_quality(raw_data[:, 1:], n_freq=N_FREQ, freq_thresh=FREQ_THRESH, ampl_thresh=AMPL_THRESH)\n",
    "print(f\"Finished checking quality in {timedelta(seconds=time()-t1)}\")\n",
    "\n",
    "# Clean data\n",
    "print(\"\\nCleaning data...\")\n",
    "t1 = time()\n",
    "data = clean_data(raw_data, n_freq=N_FREQ, freq_flag=True, freq_thresh=FREQ_THRESH, ampl_flag=True, ampl_thresh=AMPL_THRESH)\n",
    "print(f\"Finished cleaning data in {timedelta(seconds=time()-t1)}\")\n",
    "\n",
    "# Check quality of the cleaned data\n",
    "print(\"\\nChecking quality of the cleaned data...\")\n",
    "t1 = time()\n",
    "check_data_quality(data, n_freq=N_FREQ, freq_thresh=FREQ_THRESH, ampl_thresh=AMPL_THRESH)\n",
    "print(f\"Finished checking quality in {timedelta(seconds=time()-t1)}\")\n",
    "\n",
    "data[0:1]  # Show some data for sense\n"
   ]
  },
  {
   "cell_type": "code",
   "execution_count": 10,
   "metadata": {},
   "outputs": [
    {
     "data": {
      "image/png": "[encoded data removed]",
      "text/plain": [
       "<Figure size 720x288 with 2 Axes>"
      ]
     },
     "metadata": {
      "needs_background": "light"
     },
     "output_type": "display_data"
    }
   ],
   "source": [
    "plot_single_row(data, row=50000, n_freq=N_FREQ, figsize=(10, 4))"
   ]
  },
  {
   "cell_type": "code",
   "execution_count": 11,
   "metadata": {},
   "outputs": [
    {
     "name": "stdout",
     "output_type": "stream",
     "text": [
      "Stats for frequency axis 1: DescribeResult(nobs=6270840, minmax=(0.0, 512.0), mean=92.90826578257457, variance=8959.530077266601, skewness=1.31308315956574, kurtosis=1.5365697918154044)\n",
      "Stats for amplitude axis 1: DescribeResult(nobs=6270840, minmax=(0.0, 2.0), mean=0.41939569075916233, variance=0.016696579457844158, skewness=0.3323368059272499, kurtosis=14.352100798958645)\n",
      "Stats for frequency axis 2: DescribeResult(nobs=6270840, minmax=(0.0, 512.0), mean=181.55060966313917, variance=33306.32419328725, skewness=0.5958305001032423, kurtosis=-1.3291951411019194)\n",
      "Stats for amplitude axis 2: DescribeResult(nobs=6270840, minmax=(0.0, 2.0), mean=0.4334412258035173, variance=0.01870983082076092, skewness=0.5291200965647119, kurtosis=13.742665385115433)\n",
      "Stats for freq * ampl axis 1: DescribeResult(nobs=6270840, minmax=(0.0, 1022.0), mean=84.71574754503658, variance=8557.719289859762, skewness=1.0849815529711953, kurtosis=1.353986876459004)\n",
      "Stats for freq * ampl axis 2: DescribeResult(nobs=6270840, minmax=(0.0, 1022.0), mean=84.71574754503658, variance=8557.719289859762, skewness=1.0849815529711953, kurtosis=1.353986876459004)\n"
     ]
    },
    {
     "data": {
      "image/png": "[encoded data removed]",
      "text/plain": [
       "<Figure size 720x432 with 6 Axes>"
      ]
     },
     "metadata": {
      "needs_background": "light"
     },
     "output_type": "display_data"
    }
   ],
   "source": [
    "get_stats(data, n_freq=N_FREQ, figsize=(10, 6))"
   ]
  },
  {
   "cell_type": "markdown",
   "metadata": {},
   "source": [
    "# Generate and Transform Data Samples\n",
    "A data sample - data during 20s window, so 40 records in a raw data (each raw data is generated each 0.5s)"
   ]
  },
  {
   "cell_type": "code",
   "execution_count": 12,
   "metadata": {},
   "outputs": [],
   "source": [
    "# Helper function\n",
    "def generate_samples(data, slice_size=40, overlap_size=20,\n",
    "                     transform=False, n_freq=12, low_freq=0, high_freq=512, num_bands=5,\n",
    "                     data_augmentation=False, n_times=1, mu=0.05, sigma=0.02):\n",
    "    \"\"\"Returns data samples in format (N, slice_size, (num amplitudes and frequencies)), \n",
    "       where N - number of examples.\n",
    "       If 'transform' is True then transform data in a form of table: rows - time, columns - frequency bands.\n",
    "       if 'data_augmentation' is True then generate new data with noise.\n",
    "    \"\"\"\n",
    "    \n",
    "    output = []\n",
    "    current_idx = 0\n",
    "    while (current_idx + slice_size) <= len(data):\n",
    "        output.append(data[current_idx: current_idx+slice_size])\n",
    "        current_idx = current_idx + slice_size - overlap_size\n",
    "    \n",
    "    # Transform data in a form of table: rows - time, columns - frequency bands\n",
    "    if transform:\n",
    "        output_trans = []\n",
    "\n",
    "        # Create bins for frequency bands\n",
    "        bins_freq = np.linspace(low_freq, high_freq, num_bands+1)\n",
    "\n",
    "        for i, sample in enumerate(output, 1):\n",
    "            rows = []  # transformed raw records\n",
    "            for record in sample:\n",
    "                row = np.zeros(shape=num_bands*2)\n",
    "\n",
    "                df_ax1 = pd.DataFrame({'ax1_ampl': record[0:n_freq],\n",
    "                                       'ax1_freq': record[n_freq:2*n_freq]})\n",
    "\n",
    "                df_ax2 = pd.DataFrame({'ax2_ampl': record[2*n_freq:3*n_freq],\n",
    "                                       'ax2_freq': record[3*n_freq:4*n_freq]})\n",
    "\n",
    "                df_ax1['band'] = np.digitize(df_ax1['ax1_freq'], bins_freq, right=True)\n",
    "                df_ax2['band'] = np.digitize(df_ax2['ax2_freq'], bins_freq, right=True)\n",
    "\n",
    "                df_ax1_grouped = df_ax1.groupby(by=['band']).mean()['ax1_ampl']\n",
    "                df_ax2_grouped = df_ax2.groupby(by=['band']).mean()['ax2_ampl']\n",
    "\n",
    "                for idx, value in df_ax1_grouped.items():\n",
    "                    row[idx-1] = value\n",
    "\n",
    "                for idx, value in df_ax2_grouped.items():\n",
    "                    row[num_bands+idx-1] = value\n",
    "\n",
    "                rows.append(row)\n",
    "                \n",
    "            output_trans.append(rows)\n",
    "                                \n",
    "            if i % 5000 == 0:\n",
    "                print(f\"{i} samples are ready\")\n",
    "            \n",
    "        result_ini = np.array(output_trans)\n",
    "        result = result_ini.copy()\n",
    "\n",
    "        if data_augmentation:\n",
    "            for i in range(n_times):\n",
    "                addition = np.clip(result_ini + np.random.normal(mu, sigma, size=result_ini.shape), a_min=0, a_max=None)\n",
    "                result = np.concatenate((result, addition), axis=0)\n",
    "\n",
    "    else:\n",
    "        result_ini = np.array(output)\n",
    "        result = result_ini.copy()\n",
    "\n",
    "        if data_augmentation:\n",
    "            for i in range(n_times):\n",
    "                addition = np.clip(result_ini + np.random.normal(mu, sigma, size=result_ini.shape), a_min=0, a_max=None)\n",
    "                result = np.concatenate((result, addition), axis=0)\n",
    "\n",
    "    return result\n"
   ]
  },
  {
   "cell_type": "code",
   "execution_count": 13,
   "metadata": {},
   "outputs": [
    {
     "name": "stdout",
     "output_type": "stream",
     "text": [
      "Generating samples...\n",
      "5000 samples are ready\n",
      "10000 samples are ready\n",
      "15000 samples are ready\n",
      "20000 samples are ready\n",
      "25000 samples are ready\n",
      "Finished generating samples in 1:14:37.579154\n",
      "Shape: (52254, 40, 64)\n"
     ]
    },
    {
     "data": {
      "text/plain": [
       "array([[[0., 0., 0., ..., 0., 0., 0.],\n",
       "        [0., 0., 0., ..., 0., 0., 0.],\n",
       "        [0., 0., 0., ..., 0., 0., 0.],\n",
       "        ...,\n",
       "        [0., 0., 0., ..., 0., 0., 0.],\n",
       "        [0., 0., 0., ..., 0., 0., 0.],\n",
       "        [0., 0., 0., ..., 0., 0., 0.]]])"
      ]
     },
     "execution_count": 13,
     "metadata": {},
     "output_type": "execute_result"
    }
   ],
   "source": [
    "print(\"Generating samples...\")\n",
    "t1 = time()\n",
    "X = generate_samples(data, slice_size=SLICE_SIZE, overlap_size=OVERLAP_SIZE,\n",
    "                     transform=True, n_freq=N_FREQ, low_freq=0, high_freq=FREQ_THRESH, num_bands=BANDS,\n",
    "                     data_augmentation=True, n_times=1, mu=MU, sigma=SIGMA)\n",
    "\n",
    "print(f\"Finished generating samples in {timedelta(seconds=time()-t1)}\")\n",
    "\n",
    "print(f\"Shape: {X.shape}\")\n",
    "\n",
    "np.save(f\"samples_{BANDS}bands_augment_data_06032020.npy\", X)\n",
    "\n",
    "X[0:1]  # Show some data for sense\n"
   ]
  },
  {
   "cell_type": "code",
   "execution_count": 14,
   "metadata": {},
   "outputs": [
    {
     "name": "stdout",
     "output_type": "stream",
     "text": [
      "Loading saved samples...\n",
      "Finished loading samples in 0:00:00.583474\n",
      "(52254, 40, 64)\n"
     ]
    },
    {
     "data": {
      "text/plain": [
       "array([[[0., 0., 0., ..., 0., 0., 0.],\n",
       "        [0., 0., 0., ..., 0., 0., 0.],\n",
       "        [0., 0., 0., ..., 0., 0., 0.],\n",
       "        ...,\n",
       "        [0., 0., 0., ..., 0., 0., 0.],\n",
       "        [0., 0., 0., ..., 0., 0., 0.],\n",
       "        [0., 0., 0., ..., 0., 0., 0.]]])"
      ]
     },
     "execution_count": 14,
     "metadata": {},
     "output_type": "execute_result"
    }
   ],
   "source": [
    "print(\"Loading saved samples...\")\n",
    "t1 = time()\n",
    "X_load = np.load('samples_32bands_augment_data_06032020.npy')\n",
    "print(f\"Finished loading samples in {timedelta(seconds=time()-t1)}\")\n",
    "\n",
    "print(X_load.shape)\n",
    "X_load[0:1]  # Show some data for sense\n"
   ]
  },
  {
   "cell_type": "markdown",
   "metadata": {},
   "source": [
    "# Autoencoder"
   ]
  },
  {
   "cell_type": "code",
   "execution_count": 15,
   "metadata": {},
   "outputs": [],
   "source": [
    "# Set seed for reproducible result\n",
    "seed = 1234\n",
    "np.random.seed(seed)\n",
    "torch.manual_seed(seed)\n",
    "\n",
    "device = torch.device(\"cuda\" if torch.cuda.is_available() else \"cpu\")\n",
    "\n",
    "X_load_ = X_load[:, np.newaxis, :, :]\n",
    "\n",
    "# Divide data: train, test\n",
    "X_train, X_test = train_test_split(X_load_, shuffle=True, test_size=0.2)\n",
    "X_train_t = torch.tensor(X_train, dtype=torch.float)\n",
    "X_test_t = torch.tensor(X_test, dtype=torch.float)\n",
    "\n",
    "# Prepare data aka DataLoader (pytorch)\n",
    "train_ds = TensorDataset(X_train_t, X_train_t)\n",
    "train_loader = DataLoader(train_ds, batch_size=TRAIN_BS, shuffle=True)\n",
    "\n",
    "test_ds = TensorDataset(X_test_t, X_test_t)\n",
    "test_loader = DataLoader(test_ds, batch_size=TEST_BS, shuffle=True)\n"
   ]
  },
  {
   "cell_type": "code",
   "execution_count": 16,
   "metadata": {},
   "outputs": [
    {
     "name": "stdout",
     "output_type": "stream",
     "text": [
      "AutoEncoder(\n",
      "  (conv1): Conv2d(1, 64, kernel_size=(3, 3), stride=(1, 1), padding=(1, 1))\n",
      "  (pool1): MaxPool2d(kernel_size=2, stride=2, padding=0, dilation=1, ceil_mode=False)\n",
      "  (conv2): Conv2d(64, 32, kernel_size=(3, 3), stride=(1, 1), padding=(1, 1))\n",
      "  (pool2): MaxPool2d(kernel_size=2, stride=2, padding=0, dilation=1, ceil_mode=False)\n",
      "  (conv3): Conv2d(32, 32, kernel_size=(3, 3), stride=(1, 1), padding=(1, 1))\n",
      "  (up1): Upsample(scale_factor=2.0, mode=nearest)\n",
      "  (conv4): Conv2d(32, 64, kernel_size=(3, 3), stride=(1, 1), padding=(1, 1))\n",
      "  (up2): Upsample(scale_factor=2.0, mode=nearest)\n",
      "  (conv5): Conv2d(64, 1, kernel_size=(3, 3), stride=(1, 1), padding=(1, 1))\n",
      ")\n"
     ]
    }
   ],
   "source": [
    "# Create Network\n",
    "class AutoEncoder(nn.Module):\n",
    "    def __init__(self):\n",
    "        super(AutoEncoder, self).__init__()\n",
    "        # Encoder\n",
    "        self.conv1 = nn.Conv2d(1, 64, 3, padding=1)\n",
    "        self.pool1 = nn.MaxPool2d(2, 2)\n",
    "        self.conv2 = nn.Conv2d(64, 32, 3, padding=1)\n",
    "        self.pool2 = nn.MaxPool2d(2, 2)\n",
    "        # Decoder\n",
    "        self.conv3 = nn.Conv2d(32, 32, 3, padding=1)\n",
    "        self.up1 = nn.Upsample(scale_factor=2, mode=\"nearest\")\n",
    "        self.conv4 = nn.Conv2d(32, 64, 3, padding=1)\n",
    "        self.up2 = nn.Upsample(scale_factor=2, mode=\"nearest\")\n",
    "        self.conv5 = nn.Conv2d(64, 1, 3, padding=1)\n",
    "    \n",
    "    def forward(self, x):\n",
    "        x = self.pool1(F.relu(self.conv1(x)))\n",
    "        x = self.pool2(F.relu(self.conv2(x)))\n",
    "        x = self.up1(F.relu(self.conv3(x)))\n",
    "        x = self.up2(F.relu(self.conv4(x)))\n",
    "        x = F.relu(self.conv5(x))\n",
    "        return x\n",
    "\n",
    "model = AutoEncoder()\n",
    "model.to(device)\n",
    "criterion = nn.MSELoss()\n",
    "optimizer = optim.Adam(model.parameters(), lr=1e-3)\n",
    "print(model)\n"
   ]
  },
  {
   "cell_type": "code",
   "execution_count": 17,
   "metadata": {},
   "outputs": [
    {
     "name": "stdout",
     "output_type": "stream",
     "text": [
      "Training neural network...\n",
      "Epoch 1, train loss: 0.0224308, test loss: 0.0186454\n",
      "The testing loss decreased --> Saved the model\n",
      "Epoch 2, train loss: 0.0171445, test loss: 0.0163412\n",
      "The testing loss decreased --> Saved the model\n",
      "Epoch 3, train loss: 0.0155160, test loss: 0.0150071\n",
      "The testing loss decreased --> Saved the model\n",
      "Epoch 4, train loss: 0.0143131, test loss: 0.0138942\n",
      "The testing loss decreased --> Saved the model\n",
      "Epoch 5, train loss: 0.0133785, test loss: 0.0130967\n",
      "The testing loss decreased --> Saved the model\n",
      "Epoch 6, train loss: 0.0127474, test loss: 0.0126905\n",
      "The testing loss decreased --> Saved the model\n",
      "Epoch 7, train loss: 0.0123436, test loss: 0.0122512\n",
      "The testing loss decreased --> Saved the model\n",
      "Epoch 8, train loss: 0.0120523, test loss: 0.0121027\n",
      "The testing loss decreased --> Saved the model\n",
      "Epoch 9, train loss: 0.0118343, test loss: 0.0118181\n",
      "The testing loss decreased --> Saved the model\n",
      "Epoch 10, train loss: 0.0116705, test loss: 0.0116448\n",
      "The testing loss decreased --> Saved the model\n",
      "Epoch 11, train loss: 0.0115184, test loss: 0.0115728\n",
      "Epoch 12, train loss: 0.0113861, test loss: 0.0116397\n",
      "Epoch 13, train loss: 0.0112583, test loss: 0.0112648\n",
      "The testing loss decreased --> Saved the model\n",
      "Epoch 14, train loss: 0.0111530, test loss: 0.0112285\n",
      "Epoch 15, train loss: 0.0110657, test loss: 0.0111730\n",
      "Epoch 16, train loss: 0.0109644, test loss: 0.0110871\n",
      "The testing loss decreased --> Saved the model\n",
      "Epoch 17, train loss: 0.0108797, test loss: 0.0109342\n",
      "The testing loss decreased --> Saved the model\n",
      "Epoch 18, train loss: 0.0108023, test loss: 0.0109852\n",
      "Epoch 19, train loss: 0.0107283, test loss: 0.0111901\n",
      "Epoch 20, train loss: 0.0106601, test loss: 0.0107147\n",
      "The testing loss decreased --> Saved the model\n",
      "Epoch 21, train loss: 0.0103977, test loss: 0.0105124\n",
      "The testing loss decreased --> Saved the model\n",
      "Epoch 22, train loss: 0.0103776, test loss: 0.0104868\n",
      "Epoch 23, train loss: 0.0103606, test loss: 0.0104779\n",
      "Epoch 24, train loss: 0.0103409, test loss: 0.0104488\n",
      "Epoch 25, train loss: 0.0103232, test loss: 0.0104348\n",
      "Epoch 26, train loss: 0.0103053, test loss: 0.0104247\n",
      "Epoch 27, train loss: 0.0102892, test loss: 0.0104145\n",
      "Epoch 28, train loss: 0.0102742, test loss: 0.0103945\n",
      "The testing loss decreased --> Saved the model\n",
      "Epoch 29, train loss: 0.0102583, test loss: 0.0103676\n",
      "Epoch 30, train loss: 0.0102440, test loss: 0.0103818\n",
      "Epoch 31, train loss: 0.0102302, test loss: 0.0103526\n",
      "Epoch 32, train loss: 0.0102165, test loss: 0.0103498\n",
      "Epoch 33, train loss: 0.0102038, test loss: 0.0103232\n",
      "Epoch 34, train loss: 0.0101917, test loss: 0.0103046\n",
      "Epoch 35, train loss: 0.0101792, test loss: 0.0102849\n",
      "The testing loss decreased --> Saved the model\n",
      "Epoch 36, train loss: 0.0101661, test loss: 0.0102850\n",
      "Epoch 37, train loss: 0.0101530, test loss: 0.0102745\n",
      "Epoch 38, train loss: 0.0101423, test loss: 0.0102471\n",
      "Epoch 39, train loss: 0.0101306, test loss: 0.0102373\n",
      "Epoch 40, train loss: 0.0101196, test loss: 0.0102732\n",
      "Epoch 41, train loss: 0.0101081, test loss: 0.0102364\n",
      "Epoch 42, train loss: 0.0100968, test loss: 0.0102165\n",
      "Epoch 43, train loss: 0.0100857, test loss: 0.0102068\n",
      "Epoch 44, train loss: 0.0100750, test loss: 0.0101893\n",
      "Epoch 45, train loss: 0.0100642, test loss: 0.0101829\n",
      "The testing loss decreased --> Saved the model\n",
      "Epoch 46, train loss: 0.0100316, test loss: 0.0101482\n",
      "Epoch 47, train loss: 0.0100300, test loss: 0.0101479\n",
      "Epoch 48, train loss: 0.0100284, test loss: 0.0101467\n",
      "Epoch 49, train loss: 0.0100269, test loss: 0.0101436\n",
      "Epoch 50, train loss: 0.0100251, test loss: 0.0101425\n",
      "Finished training neural network in 0:35:42.113925\n"
     ]
    }
   ],
   "source": [
    "# Train network\n",
    "print(\"Training neural network...\")\n",
    "t1 = time()\n",
    "epochs = 50\n",
    "min_loss = np.Inf\n",
    "eps = 1e-4  # difference between current and previous losses\n",
    "scheduler = optim.lr_scheduler.MultiStepLR(optimizer, milestones=[20, 45], gamma=0.1)\n",
    "\n",
    "for epoch in range(epochs):\n",
    "    model.train()\n",
    "    training_loss = 0\n",
    "    for samples, target in train_loader:\n",
    "        optimizer.zero_grad()    \n",
    "        samples, target = samples.to(device), target.to(device)\n",
    "        output = model.forward(samples)\n",
    "        loss = criterion(output, target)\n",
    "        training_loss += loss.item() * len(samples)\n",
    "        loss.backward()\n",
    "        optimizer.step()\n",
    "    \n",
    "    model.eval()\n",
    "    testing_loss = 0\n",
    "    with torch.no_grad():\n",
    "        for samples, target in test_loader:\n",
    "            samples, target = samples.to(device), target.to(device)\n",
    "            output = model.forward(samples)\n",
    "            loss = criterion(output, target)\n",
    "            testing_loss += loss.item() * len(samples)\n",
    "                \n",
    "    training_loss = training_loss / len(train_ds)\n",
    "    testing_loss = testing_loss / len(test_ds)\n",
    "    print(f\"Epoch {epoch + 1}, train loss: {training_loss:.7f}, \"\n",
    "          f\"test loss: {testing_loss:.7f}\")      \n",
    "    \n",
    "    if (min_loss - testing_loss) > eps:\n",
    "        min_loss = testing_loss\n",
    "        torch.save(model.state_dict(), \"autoencoder_conv_augm_32bands_1channel_data_06032020.pt\")\n",
    "        print(\"The testing loss decreased --> Saved the model\")\n",
    "    \n",
    "    scheduler.step()\n",
    "\n",
    "print(f\"Finished training neural network in {timedelta(seconds=time()-t1)}\")\n"
   ]
  },
  {
   "cell_type": "code",
   "execution_count": 18,
   "metadata": {},
   "outputs": [
    {
     "name": "stdout",
     "output_type": "stream",
     "text": [
      "Building histograms...\n",
      "Finished building histograms in 0:01:16.371205\n"
     ]
    },
    {
     "data": {
      "image/png": "[encoded data removed]",
      "text/plain": [
       "<Figure size 1008x432 with 2 Axes>"
      ]
     },
     "metadata": {
      "needs_background": "light"
     },
     "output_type": "display_data"
    }
   ],
   "source": [
    "# Show losses\n",
    "t1 = time()\n",
    "print(\"Building histograms...\")\n",
    "\n",
    "with torch.no_grad():\n",
    "    train_losses = []\n",
    "    for i in range(len(X_train_t)):\n",
    "        item = X_train_t[i:i+1]\n",
    "        item = item.to(device=device)\n",
    "        train_losses.append(criterion(model.forward(item), item).item())\n",
    "        \n",
    "    test_losses = []\n",
    "    for i in range(len(X_test_t)):\n",
    "        item = X_test_t[i:i+1]\n",
    "        item = item.to(device=device)\n",
    "        test_losses.append(criterion(model.forward(item), item).item())\n",
    "    \n",
    "plot_comparison(train_losses, test_losses)\n",
    "print(f\"Finished building histograms in {timedelta(seconds=time()-t1)}\")\n"
   ]
  },
  {
   "cell_type": "code",
   "execution_count": 9,
   "metadata": {},
   "outputs": [],
   "source": [
    "def transform_data(data, n_freq=12, low_freq=0, high_freq=512, num_bands=5):\n",
    "    \"\"\"Returns data into rows with frequency bands.\n",
    "    \"\"\"\n",
    "\n",
    "    # Create bins for frequency bands\n",
    "    bins_freq = np.linspace(low_freq, high_freq, num_bands+1)\n",
    "\n",
    "    # Transform data in a form of table: rows - time, columns - frequency bands\n",
    "    rows = []  # transformed raw records\n",
    "    for record in data:\n",
    "        row = np.zeros(shape=num_bands*2)\n",
    "\n",
    "        df_ax1 = pd.DataFrame({'ax1_ampl': record[0:n_freq],\n",
    "                                'ax1_freq': record[n_freq:2*n_freq]})\n",
    "\n",
    "        df_ax2 = pd.DataFrame({'ax2_ampl': record[2*n_freq:3*n_freq],\n",
    "                                'ax2_freq': record[3*n_freq:4*n_freq]})\n",
    "\n",
    "        df_ax1['band'] = np.digitize(df_ax1['ax1_freq'], bins_freq, right=True)\n",
    "        df_ax2['band'] = np.digitize(df_ax2['ax2_freq'], bins_freq, right=True)\n",
    "\n",
    "        df_ax1_grouped = df_ax1.groupby(by=['band']).mean()['ax1_ampl']\n",
    "        df_ax2_grouped = df_ax2.groupby(by=['band']).mean()['ax2_ampl']\n",
    "\n",
    "        for idx, value in df_ax1_grouped.items():\n",
    "            row[idx-1] = value\n",
    "\n",
    "        for idx, value in df_ax2_grouped.items():\n",
    "            row[num_bands+idx-1] = value\n",
    "\n",
    "        rows.append(row)                        \n",
    "        \n",
    "    return np.array(rows)[np.newaxis, np.newaxis, :, :]\n"
   ]
  },
  {
   "cell_type": "code",
   "execution_count": 24,
   "metadata": {},
   "outputs": [
    {
     "name": "stdout",
     "output_type": "stream",
     "text": [
      "Loss original data: 0.0003788\n",
      "Loss noise data: 0.0151393\n"
     ]
    }
   ],
   "source": [
    "# Get result\n",
    "class AutoEncoder(nn.Module):\n",
    "    def __init__(self):\n",
    "        super(AutoEncoder, self).__init__()\n",
    "        # Encoder\n",
    "        self.conv1 = nn.Conv2d(1, 64, 3, padding=1)\n",
    "        self.pool1 = nn.MaxPool2d(2, 2)\n",
    "        self.conv2 = nn.Conv2d(64, 32, 3, padding=1)\n",
    "        self.pool2 = nn.MaxPool2d(2, 2)\n",
    "        # Decoder\n",
    "        self.conv3 = nn.Conv2d(32, 32, 3, padding=1)\n",
    "        self.up1 = nn.Upsample(scale_factor=2, mode=\"nearest\")\n",
    "        self.conv4 = nn.Conv2d(32, 64, 3, padding=1)\n",
    "        self.up2 = nn.Upsample(scale_factor=2, mode=\"nearest\")\n",
    "        self.conv5 = nn.Conv2d(64, 1, 3, padding=1)\n",
    "    \n",
    "    def forward(self, x):\n",
    "        x = self.pool1(F.relu(self.conv1(x)))\n",
    "        x = self.pool2(F.relu(self.conv2(x)))\n",
    "        x = self.up1(F.relu(self.conv3(x)))\n",
    "        x = self.up2(F.relu(self.conv4(x)))\n",
    "        x = F.relu(self.conv5(x))\n",
    "        return x\n",
    "\n",
    "criterion = nn.MSELoss()\n",
    "the_model = AutoEncoder()\n",
    "the_model.load_state_dict(torch.load(\"autoencoder_conv_augm_32bands_1channel_data_06032020.pt\"))\n",
    "device = torch.device(\"cuda\" if torch.cuda.is_available() else \"cpu\")\n",
    "the_model.to(device=device)\n",
    "the_model.eval()\n",
    "\n",
    "\n",
    "flask_raw_data = raw_data[10000:10040].copy()\n",
    "flask_data = clean_data(\n",
    "    flask_raw_data, n_freq=N_FREQ, \n",
    "    freq_flag=True, freq_thresh=FREQ_THRESH, \n",
    "    ampl_flag=True, ampl_thresh=AMPL_THRESH\n",
    ")\n",
    "flask_x = transform_data(flask_data, n_freq=N_FREQ, low_freq=0, high_freq=FREQ_THRESH, num_bands=BANDS)\n",
    "item = torch.tensor(flask_x, dtype=torch.float, device=device)\n",
    "loss = criterion(the_model.forward(item), item).item()\n",
    "print(f\"Loss original data: {loss:.7f}\")\n",
    "\n",
    "flask_raw_data[0:20, 0:20] = 100\n",
    "flask_data = clean_data(\n",
    "    flask_raw_data, n_freq=N_FREQ, \n",
    "    freq_flag=True, freq_thresh=FREQ_THRESH, \n",
    "    ampl_flag=True, ampl_thresh=AMPL_THRESH\n",
    ")\n",
    "flask_x = transform_data(flask_data, n_freq=N_FREQ, low_freq=0, high_freq=FREQ_THRESH, num_bands=BANDS)\n",
    "item = torch.tensor(flask_x, dtype=torch.float, device=device)\n",
    "loss = criterion(the_model.forward(item), item).item()\n",
    "print(f\"Loss noise data: {loss:.7f}\")\n"
   ]
  },
  {
   "cell_type": "code",
   "execution_count": 27,
   "metadata": {},
   "outputs": [
    {
     "name": "stdout",
     "output_type": "stream",
     "text": [
      "b'{\"Loss\":0.0151392612606287,\"Normality\":false}\\n'\n"
     ]
    }
   ],
   "source": [
    "# Test\n",
    "import requests\n",
    "\n",
    "url = \"http://10.0.219.147:5000/predict\"\n",
    "\n",
    "payload = str(flask_raw_data.tolist())\n",
    "headers = {\n",
    "  'Content-Type': 'application/json'\n",
    "}\n",
    "\n",
    "response = requests.request(\"POST\", url, headers=headers, data = payload)\n",
    "\n",
    "print(response.text.encode('utf8'))"
   ]
  },
  {
   "cell_type": "code",
   "execution_count": 25,
   "metadata": {},
   "outputs": [
    {
     "data": {
      "text/plain": [
       "'[[100.0, 100.0, 100.0, 100.0, 100.0, 100.0, 100.0, 100.0, 100.0, 100.0, 100.0, 100.0, 100.0, 100.0, 100.0, 100.0, 100.0, 100.0, 100.0, 100.0, 16.0, 25.600000381469727, 8.199999809265137, 0.0, 0.20000000298023224, 0.0, 0.0, 0.0, 0.0, 0.0, 0.0, 0.0, 0.0, 0.0, 0.0, 0.0, 0.0, 0.0, 0.0, 0.0, 25.600000381469727, 0.0, 25.600000381469727, 26.399999618530273, 1.600000023841858, 0.0, 0.0, 128.0, 26.0], [100.0, 100.0, 100.0, 100.0, 100.0, 100.0, 100.0, 100.0, 100.0, 100.0, 100.0, 100.0, 100.0, 100.0, 100.0, 100.0, 100.0, 100.0, 100.0, 100.0, 6.400000095367432, 12.800000190734863, 0.0, 102.5999984741211, 0.0, 0.0, 0.0, 0.0, 0.0, 0.0, 0.0, 0.0, 0.0, 0.0, 0.0, 0.0, 0.0, 0.0, 5.599999904632568, 0.800000011920929, 25.799999237060547, 3.200000047683716, 51.20000076293945, 6.400000095367432, 0.0, 412.79998779296875, 0.0, 3.200000047683716, 8.199999809265137], [100.0, 100.0, 100.0, 100.0, 100.0, 100.0, 100.0, 100.0, 100.0, 100.0, 100.0, 100.0, 100.0, 100.0, 100.0, 100.0, 100.0, 100.0, 100.0, 100.0, 7.0, 89.5999984741211, 0.20000000298023224, 0.0, 0.0, 0.5, 0.1250934600830078, 0.12549783289432526, 0.1250324249267578, 0.1289082169532776, 0.125978484749794, 0.1270160973072052, 0.1250629425048828, 0.00024414435029029846, 0.0, 0.0004882887005805969, 0.0, 26.399999618530273, 0.0, 69.19999694824219, 4.800000190734863, 102.80000305175781, 102.4000015258789, 1.600000023841858, 0.0, 154.39999389648438, 103.0, 0.4000000059604645, 3.5999999046325684], [100.0, 100.0, 100.0, 100.0, 100.0, 100.0, 100.0, 100.0, 100.0, 100.0, 100.0, 100.0, 100.0, 100.0, 100.0, 100.0, 100.0, 100.0, 100.0, 100.0, 1.600000023841858, 1.600000023841858, 0.0, 0.0, 0.0, 0.0, 0.0, 0.0, 0.0, 0.0, 0.0, 0.0, 0.0, 0.0, 0.0, 0.0, 0.0, 25.600000381469727, 0.0, 0.0, 0.0, 15.199999809265137, 51.20000076293945, 25.600000381469727, 0.0, 76.80000305175781, 0.0, 25.600000381469727, 0.0], [100.0, 100.0, 100.0, 100.0, 100.0, 100.0, 100.0, 100.0, 100.0, 100.0, 100.0, 100.0, 100.0, 100.0, 100.0, 100.0, 100.0, 100.0, 100.0, 100.0, 1.600000023841858, 19.200000762939453, 102.4000015258789, 13.399999618530273, 56.0, 0.5, 0.28907454013824463, 0.250980406999588, 0.1250629425048828, 0.12894636392593384, 0.1252460479736328, 0.0, 0.00012207217514514923, 0.0240482185035944, 0.002197299152612686, 0.003906309604644775, 3.051804378628731e-05, 0.0, 0.4000000059604645, 0.0, 51.20000076293945, 0.800000011920929, 6.400000095367432, 0.0, 0.0, 0.0, 1.7999999523162842, 6.400000095367432, 435.20001220703125], [100.0, 100.0, 100.0, 100.0, 100.0, 100.0, 100.0, 100.0, 100.0, 100.0, 100.0, 100.0, 100.0, 100.0, 100.0, 100.0, 100.0, 100.0, 100.0, 100.0, 2.4000000953674316, 102.4000015258789, 4.400000095367432, 12.800000190734863, 6.400000095367432, 0.0, 0.0, 0.0, 0.0, 0.0, 0.0, 0.0, 0.0, 0.0, 0.0, 0.0, 0.0, 0.0, 0.6000000238418579, 6.400000095367432, 0.0, 0.0, 179.1999969482422, 51.20000076293945, 424.0, 38.400001525878906, 25.600000381469727, 25.600000381469727, 38.400001525878906], [100.0, 100.0, 100.0, 100.0, 100.0, 100.0, 100.0, 100.0, 100.0, 100.0, 100.0, 100.0, 100.0, 100.0, 100.0, 100.0, 100.0, 100.0, 100.0, 100.0, 3.200000047683716, 26.799999237060547, 12.800000190734863, 29.600000381469727, 103.19999694824219, 0.5, 0.42188143730163574, 0.251987487077713, 0.14062714576721191, 0.1250019073486328, 0.1291523575782776, 0.1250019073486328, 0.13086900115013123, 0.125490203499794, 0.1252765655517578, 0.1291523575782776, 0.1250019073486328, 0.4000000059604645, 0.0, 0.20000000298023224, 1.7999999523162842, 0.0, 0.0, 51.20000076293945, 1.600000023841858, 0.0, 1.2000000476837158, 51.20000076293945, 1.600000023841858], [100.0, 100.0, 100.0, 100.0, 100.0, 100.0, 100.0, 100.0, 100.0, 100.0, 100.0, 100.0, 100.0, 100.0, 100.0, 100.0, 100.0, 100.0, 100.0, 100.0, 26.0, 8.199999809265137, 3.200000047683716, 0.0, 0.0, 0.5, 0.21979095041751862, 0.18786907196044922, 0.125490203499794, 0.125978484749794, 0.0393759049475193, 0.03617151081562042, 0.01587701216340065, 0.00781261920928955, 0.0079346913844347, 0.0006103608757257462, 0.0, 25.600000381469727, 0.0, 52.400001525878906, 0.20000000298023224, 0.0, 0.0, 0.6000000238418579, 19.200000762939453, 25.600000381469727, 0.20000000298023224, 12.800000190734863, 179.60000610351562], [100.0, 100.0, 100.0, 100.0, 100.0, 100.0, 100.0, 100.0, 100.0, 100.0, 100.0, 100.0, 100.0, 100.0, 100.0, 100.0, 100.0, 100.0, 100.0, 100.0, 0.0, 0.0, 3.200000047683716, 51.20000076293945, 0.0, 0.0, 0.0, 0.0, 0.0, 0.0, 0.0, 0.0, 0.0, 0.0, 0.0, 0.0, 0.0, 0.0, 0.0, 51.599998474121094, 25.600000381469727, 0.4000000059604645, 0.4000000059604645, 51.20000076293945, 6.400000095367432, 8.0, 51.599998474121094, 1.600000023841858, 0.0], [100.0, 100.0, 100.0, 100.0, 100.0, 100.0, 100.0, 100.0, 100.0, 100.0, 100.0, 100.0, 100.0, 100.0, 100.0, 100.0, 100.0, 100.0, 100.0, 100.0, 0.0, 4.0, 0.0, 12.800000190734863, 6.599999904632568, 0.5, 0.4532616138458252, 0.2500038146972656, 0.191409170627594, 0.15637445449829102, 0.13282978534698486, 0.1250019073486328, 0.12500953674316406, 0.1271992027759552, 0.1269550621509552, 0.1250019073486328, 0.125520721077919, 0.0, 0.0, 0.0, 0.0, 0.800000011920929, 189.1999969482422, 0.0, 0.4000000059604645, 0.4000000059604645, 0.0, 0.0, 25.600000381469727], [100.0, 100.0, 100.0, 100.0, 100.0, 100.0, 100.0, 100.0, 100.0, 100.0, 100.0, 100.0, 100.0, 100.0, 100.0, 100.0, 100.0, 100.0, 100.0, 100.0, 1.600000023841858, 8.800000190734863, 0.0, 0.0, 6.800000190734863, 0.0, 0.0, 0.0, 0.0, 0.0, 0.0, 0.0, 0.0, 0.0, 0.0, 0.0, 0.0, 0.0, 1.0, 25.600000381469727, 27.200000762939453, 13.800000190734863, 26.0, 12.800000190734863, 0.4000000059604645, 0.0, 0.4000000059604645, 51.20000076293945, 38.400001525878906], [100.0, 100.0, 100.0, 100.0, 100.0, 100.0, 100.0, 100.0, 100.0, 100.0, 100.0, 100.0, 100.0, 100.0, 100.0, 100.0, 100.0, 100.0, 100.0, 100.0, 0.0, 26.399999618530273, 1.600000023841858, 54.400001525878906, 52.0, 0.0, 0.0, 0.0, 0.0, 0.0, 0.0, 0.0, 0.0, 0.0, 0.0, 0.0, 0.0, 25.799999237060547, 26.0, 6.400000095367432, 0.800000011920929, 6.400000095367432, 13.600000381469727, 423.20001220703125, 0.20000000298023224, 0.0, 0.0, 0.800000011920929, 0.0], [100.0, 100.0, 100.0, 100.0, 100.0, 100.0, 100.0, 100.0, 100.0, 100.0, 100.0, 100.0, 100.0, 100.0, 100.0, 100.0, 100.0, 100.0, 100.0, 100.0, 0.0, 1.600000023841858, 0.0, 25.600000381469727, 54.400001525878906, 0.0, 0.0, 0.0, 0.0, 0.0, 0.0, 0.0, 0.0, 0.0, 0.0, 0.0, 0.0, 0.0, 0.4000000059604645, 0.0, 26.0, 12.800000190734863, 3.200000047683716, 0.0, 94.4000015258789, 3.200000047683716, 20.0, 1.600000023841858, 16.0], [100.0, 100.0, 100.0, 100.0, 100.0, 100.0, 100.0, 100.0, 100.0, 100.0, 100.0, 100.0, 100.0, 100.0, 100.0, 100.0, 100.0, 100.0, 100.0, 100.0, 0.0, 0.0, 0.4000000059604645, 12.800000190734863, 51.400001525878906, 0.0, 0.0, 0.0, 0.0, 0.0, 0.0, 0.0, 0.0, 0.0, 0.0, 0.0, 0.0, 25.600000381469727, 1.7999999523162842, 0.20000000298023224, 6.400000095367432, 0.20000000298023224, 0.0, 0.0, 0.20000000298023224, 3.200000047683716, 0.0, 28.799999237060547, 46.400001525878906], [100.0, 100.0, 100.0, 100.0, 100.0, 100.0, 100.0, 100.0, 100.0, 100.0, 100.0, 100.0, 100.0, 100.0, 100.0, 100.0, 100.0, 100.0, 100.0, 100.0, 0.0, 1.2000000476837158, 1.600000023841858, 0.0, 57.599998474121094, 0.0, 0.0, 0.0, 0.0, 0.0, 0.0, 0.0, 0.0, 0.0, 0.0, 0.0, 0.0, 0.0, 25.600000381469727, 0.0, 19.200000762939453, 3.200000047683716, 0.20000000298023224, 13.0, 0.0, 0.800000011920929, 0.0, 2.4000000953674316, 0.20000000298023224], [100.0, 100.0, 100.0, 100.0, 100.0, 100.0, 100.0, 100.0, 100.0, 100.0, 100.0, 100.0, 100.0, 100.0, 100.0, 100.0, 100.0, 100.0, 100.0, 100.0, 51.20000076293945, 0.0, 0.0, 13.600000381469727, 0.0, 0.5, 0.34473946690559387, 0.2658731937408447, 0.2500038146972656, 0.1250019073486328, 0.125490203499794, 0.126039519906044, 0.1250324249267578, 0.1250934600830078, 0.1251239776611328, 0.12947280704975128, 0.13049516081809998, 0.4000000059604645, 1.0, 51.20000076293945, 12.800000190734863, 12.800000190734863, 9.600000381469727, 4.0, 3.200000047683716, 208.0, 13.0, 3.5999999046325684, 0.4000000059604645], [100.0, 100.0, 100.0, 100.0, 100.0, 100.0, 100.0, 100.0, 100.0, 100.0, 100.0, 100.0, 100.0, 100.0, 100.0, 100.0, 100.0, 100.0, 100.0, 100.0, 19.399999618530273, 0.0, 25.600000381469727, 1.600000023841858, 12.800000190734863, 0.5, 0.29248493909835815, 0.20361639559268951, 0.1289692521095276, 0.1425803005695343, 0.1289845108985901, 0.125551238656044, 0.0009765774011611938, 0.0, 0.0156252384185791, 0.0, 0.00012207217514514923, 0.800000011920929, 0.0, 0.0, 25.600000381469727, 0.800000011920929, 51.20000076293945, 25.600000381469727, 0.0, 28.799999237060547, 0.0, 16.200000762939453, 3.4000000953674316], [100.0, 100.0, 100.0, 100.0, 100.0, 100.0, 100.0, 100.0, 100.0, 100.0, 100.0, 100.0, 100.0, 100.0, 100.0, 100.0, 100.0, 100.0, 100.0, 100.0, 3.200000047683716, 17.600000381469727, 102.4000015258789, 52.0, 0.0, 0.5, 0.2500495910644531, 0.2500648498535156, 0.1251392364501953, 0.1250019073486328, 0.1250019073486328, 0.1251239776611328, 0.1250171661376953, 0.1251239776611328, 0.0019607844296842813, 0.11914244294166565, 0.10986495763063431, 0.0, 6.599999904632568, 0.20000000298023224, 1.600000023841858, 51.20000076293945, 12.800000190734863, 0.0, 0.0, 40.0, 4.0, 38.400001525878906, 0.0], [100.0, 100.0, 100.0, 100.0, 100.0, 100.0, 100.0, 100.0, 100.0, 100.0, 100.0, 100.0, 100.0, 100.0, 100.0, 100.0, 100.0, 100.0, 100.0, 100.0, 1.0, 2.0, 0.0, 0.0, 16.0, 0.0, 0.0, 0.0, 0.0, 0.0, 0.0, 0.0, 0.0, 0.0, 0.0, 0.0, 0.0, 25.600000381469727, 0.0, 0.0, 6.400000095367432, 32.20000076293945, 0.4000000059604645, 6.400000095367432, 51.20000076293945, 26.0, 0.4000000059604645, 5.199999809265137, 0.0], [100.0, 100.0, 100.0, 100.0, 100.0, 100.0, 100.0, 100.0, 100.0, 100.0, 100.0, 100.0, 100.0, 100.0, 100.0, 100.0, 100.0, 100.0, 100.0, 100.0, 0.0, 0.0, 0.0, 6.400000095367432, 2.0, 0.0, 0.0, 0.0, 0.0, 0.0, 0.0, 0.0, 0.0, 0.0, 0.0, 0.0, 0.0, 0.0, 0.0, 0.0, 0.0, 1.600000023841858, 12.800000190734863, 12.800000190734863, 0.0, 25.600000381469727, 25.600000381469727, 6.400000095367432, 0.0], [12.0, 0.5, 0.13301289081573486, 0.1250019073486328, 3.051804378628731e-05, 0.09378194808959961, 0.07868314534425735, 0.0625009536743164, 0.0625009536743164, 0.039078354835510254, 0.0312504768371582, 0.0156252384185791, 0.006057831924408674, 26.0, 102.4000015258789, 0.4000000059604645, 0.0, 0.0, 0.0, 0.0, 0.0, 0.4000000059604645, 0.0, 7.199999809265137, 13.199999809265137, 0.5, 0.15625238418579102, 0.15625238418579102, 0.1250019073486328, 0.1253833770751953, 0.033829253166913986, 0.0161135271191597, 0.0079346913844347, 0.0024414435029029846, 0.00781261920928955, 0.0312809944152832, 0.0312504768371582, 0.0, 25.600000381469727, 0.0, 0.0, 12.800000190734863, 51.20000076293945, 12.800000190734863, 12.0, 3.200000047683716, 38.400001525878906, 41.599998474121094, 0.0], [12.0, 0.0, 0.0, 0.0, 0.0, 0.0, 0.0, 0.0, 0.0, 0.0, 0.0, 0.0, 0.0, 0.0, 0.4000000059604645, 6.400000095367432, 0.20000000298023224, 105.5999984741211, 0.20000000298023224, 0.0, 12.800000190734863, 40.0, 1.600000023841858, 1.600000023841858, 13.199999809265137, 0.0, 0.0, 0.0, 0.0, 0.0, 0.0, 0.0, 0.0, 0.0, 0.0, 0.0, 0.0, 25.600000381469727, 0.0, 0.0, 0.800000011920929, 0.0, 0.0, 0.20000000298023224, 0.0, 0.20000000298023224, 0.0, 0.4000000059604645, 0.4000000059604645], [12.0, 0.5, 0.3134813606739044, 0.1250629425048828, 0.1291523575782776, 0.1250019073486328, 0.04321355000138283, 0.0313115119934082, 0.0312504768371582, 0.0004882887005805969, 0.0, 6.103608757257462e-05, 0.00781261920928955, 13.0, 0.0, 0.20000000298023224, 1.600000023841858, 6.400000095367432, 6.400000095367432, 16.200000762939453, 13.600000381469727, 2.0, 6.599999904632568, 51.599998474121094, 8.0, 0.5, 0.2890669107437134, 0.2666666805744171, 0.0003051804378628731, 0.0312504768371582, 0.03131914138793945, 0.0312657356262207, 0.00024414435029029846, 0.0010376134887337685, 6.103608757257462e-05, 1.5259021893143654e-05, 0.0, 0.4000000059604645, 25.600000381469727, 0.20000000298023224, 0.6000000238418579, 0.0, 460.79998779296875, 3.200000047683716, 0.0, 0.0, 0.0, 237.0, 0.20000000298023224], [12.0, 0.5, 0.23144884407520294, 0.12507057189941406, 0.14073395729064941, 0.1251239776611328, 0.1250476837158203, 0.12500953674316406, 0.1250019073486328, 0.1271381676197052, 0.125612273812294, 0.0019531548023223877, 0.0009765774011611938, 3.4000000953674316, 0.0, 0.0, 3.200000047683716, 26.0, 25.600000381469727, 32.0, 2.200000047683716, 4.0, 25.600000381469727, 154.1999969482422, 0.0, 0.5, 0.28125429153442383, 0.17187762260437012, 0.125978484749794, 0.13281452655792236, 0.0019684138242155313, 0.0, 0.0006332494085654616, 0.00012207217514514923, 0.0, 0.0, 3.051804378628731e-05, 0.0, 0.0, 26.0, 0.0, 0.800000011920929, 0.0, 51.20000076293945, 204.8000030517578, 0.0, 80.0, 0.4000000059604645, 38.79999923706055], [12.0, 0.5, 0.3208056688308716, 0.1263599544763565, 0.1252460479736328, 0.1250324249267578, 0.126222625374794, 0.12726786732673645, 0.00024414435029029846, 0.0, 0.016235599294304848, 0.0158693827688694, 0.00013733119703829288, 51.20000076293945, 0.0, 0.0, 8.199999809265137, 5.599999904632568, 0.6000000238418579, 5.199999809265137, 0.0, 6.400000095367432, 0.0, 1.2000000476837158, 1.600000023841858, 0.5, 0.2539101243019104, 0.1888456493616104, 0.1250171661376953, 0.1289234757423401, 0.00317387655377388, 0.0004959182115271688, 0.005127031356096268, 6.103608757257462e-05, 0.0019531548023223877, 0.10176241397857666, 0.09487296640872955, 0.0, 7.199999809265137, 0.0, 51.20000076293945, 0.0, 2.4000000953674316, 1.7999999523162842, 6.400000095367432, 25.600000381469727, 0.0, 0.0, 14.399999618530273], [12.0, 0.0, 0.0, 0.0, 0.0, 0.0, 0.0, 0.0, 0.0, 0.0, 0.0, 0.0, 0.0, 4.800000190734863, 0.0, 0.800000011920929, 0.0, 12.800000190734863, 3.200000047683716, 104.4000015258789, 0.0, 11.199999809265137, 26.399999618530273, 0.20000000298023224, 0.800000011920929, 0.0, 0.0, 0.0, 0.0, 0.0, 0.0, 0.0, 0.0, 0.0, 0.0, 0.0, 0.0, 0.0, 51.20000076293945, 26.600000381469727, 6.400000095367432, 6.400000095367432, 3.200000047683716, 0.0, 1.600000023841858, 27.200000762939453, 54.79999923706055, 51.20000076293945, 51.599998474121094], [12.0, 0.0, 0.0, 0.0, 0.0, 0.0, 0.0, 0.0, 0.0, 0.0, 0.0, 0.0, 0.0, 0.4000000059604645, 0.0, 51.599998474121094, 12.800000190734863, 0.0, 1.600000023841858, 119.4000015258789, 53.599998474121094, 3.200000047683716, 67.5999984741211, 51.400001525878906, 0.0, 0.0, 0.0, 0.0, 0.0, 0.0, 0.0, 0.0, 0.0, 0.0, 0.0, 0.0, 0.0, 0.0, 0.800000011920929, 0.0, 25.600000381469727, 0.0, 0.0, 51.20000076293945, 0.0, 104.19999694824219, 1.2000000476837158, 3.200000047683716, 0.800000011920929], [12.0, 0.5, 0.2540321946144104, 0.14066529273986816, 0.1250019073486328, 0.1250629425048828, 0.126100555062294, 0.03515678644180298, 0.0, 0.0, 0.0, 0.0019531548023223877, 6.103608757257462e-05, 0.0, 15.0, 0.4000000059604645, 0.0, 1.600000023841858, 105.5999984741211, 0.0, 0.4000000059604645, 76.80000305175781, 0.0, 65.5999984741211, 0.0, 0.5, 0.14062714576721191, 0.1250019073486328, 0.0317692831158638, 0.0019531548023223877, 0.0156252384185791, 1.5259021893143654e-05, 6.103608757257462e-05, 0.00588998245075345, 6.103608757257462e-05, 0.0003051804378628731, 0.008545052260160446, 25.600000381469727, 76.80000305175781, 204.8000030517578, 0.20000000298023224, 27.200000762939453, 1.600000023841858, 0.0, 0.800000011920929, 102.4000015258789, 0.0, 204.8000030517578, 0.0], [12.0, 0.625, 0.4981403052806854, 0.34210726618766785, 0.3149462044239044, 0.3360036611557007, 0.0784313753247261, 0.04898146167397499, 0.04394598305225372, 0.03936827555298805, 0.041599906980991364, 3.8147554732859135e-05, 0.0013733119703829288, 25.600000381469727, 51.20000076293945, 102.4000015258789, 12.800000190734863, 0.0, 25.600000381469727, 3.200000047683716, 0.0, 1.600000023841858, 0.800000011920929, 0.0, 6.400000095367432, 0.625, 0.15625238418579102, 0.15629053115844727, 0.16601815819740295, 0.15625238418579102, 0.15625238418579102, 0.15626192092895508, 0.15893225371837616, 0.15626192092895508, 0.15632867813110352, 0.004882887005805969, 0.03908216953277588, 0.4000000059604645, 51.20000076293945, 25.799999237060547, 25.600000381469727, 51.20000076293945, 12.800000190734863, 6.800000190734863, 0.0, 13.800000190734863, 0.20000000298023224, 12.800000190734863, 256.0], [12.0, 0.625, 0.1574731022119522, 0.16121156513690948, 0.0, 0.005035477224737406, 0.0024414435029029846, 0.1272602379322052, 0.07820248603820801, 0.08300907909870148, 0.07812619209289551, 0.07812619209289551, 0.07892729341983795, 0.0, 0.0, 0.0, 53.0, 52.79999923706055, 0.4000000059604645, 26.399999618530273, 0.0, 118.4000015258789, 26.0, 0.20000000298023224, 0.0, 0.625, 0.4688239097595215, 0.35175859928131104, 0.1586938351392746, 0.17586976289749146, 0.16117341816425323, 0.16601815819740295, 0.15625238418579102, 0.15625238418579102, 0.0, 0.024414435029029846, 0.02075226977467537, 25.600000381469727, 0.0, 51.400001525878906, 6.400000095367432, 0.0, 448.79998779296875, 0.0, 6.400000095367432, 0.4000000059604645, 205.60000610351562, 51.20000076293945, 102.4000015258789], [12.0, 0.0, 0.0, 0.0, 0.0, 0.0, 0.0, 0.0, 0.0, 0.0, 0.0, 0.0, 0.0, 8.0, 52.400001525878906, 0.0, 51.20000076293945, 1.600000023841858, 19.200000762939453, 0.20000000298023224, 0.0, 0.0, 25.600000381469727, 0.0, 6.400000095367432, 0.0, 0.0, 0.0, 0.0, 0.0, 0.0, 0.0, 0.0, 0.0, 0.0, 0.0, 0.0, 26.0, 0.0, 76.80000305175781, 25.600000381469727, 204.8000030517578, 0.20000000298023224, 0.0, 0.800000011920929, 0.20000000298023224, 0.0, 0.0, 0.0], [12.0, 0.0, 0.0, 0.0, 0.0, 0.0, 0.0, 0.0, 0.0, 0.0, 0.0, 0.0, 0.0, 0.800000011920929, 8.199999809265137, 102.80000305175781, 25.600000381469727, 0.0, 0.0, 0.0, 0.0, 0.800000011920929, 12.800000190734863, 0.4000000059604645, 0.0, 0.0, 0.0, 0.0, 0.0, 0.0, 0.0, 0.0, 0.0, 0.0, 0.0, 0.0, 0.0, 0.0, 1.2000000476837158, 6.599999904632568, 0.4000000059604645, 0.0, 0.800000011920929, 0.0, 25.600000381469727, 0.0, 25.600000381469727, 0.0, 0.0], [12.0, 0.0, 0.0, 0.0, 0.0, 0.0, 0.0, 0.0, 0.0, 0.0, 0.0, 0.0, 0.0, 14.600000381469727, 0.0, 51.20000076293945, 0.0, 0.4000000059604645, 0.0, 102.4000015258789, 1.600000023841858, 3.200000047683716, 26.399999618530273, 0.0, 25.799999237060547, 0.0, 0.0, 0.0, 0.0, 0.0, 0.0, 0.0, 0.0, 0.0, 0.0, 0.0, 0.0, 25.600000381469727, 25.600000381469727, 0.4000000059604645, 4.800000190734863, 409.79998779296875, 25.600000381469727, 0.800000011920929, 27.200000762939453, 12.800000190734863, 0.0, 0.800000011920929, 9.600000381469727], [12.0, 0.5, 0.1884794384241104, 0.1881132274866104, 0.1250019073486328, 0.1290302872657776, 0.1250019073486328, 0.0, 0.0020141908898949623, 0.0, 0.0, 9.155413135886192e-05, 0.00024414435029029846, 0.800000011920929, 3.200000047683716, 52.79999923706055, 0.6000000238418579, 0.0, 0.0, 27.0, 0.4000000059604645, 2.0, 0.0, 7.0, 102.4000015258789, 0.5, 0.191409170627594, 0.1569848209619522, 0.1289082169532776, 0.13307392597198486, 0.125734344124794, 0.13282978534698486, 0.1250019073486328, 0.1251239776611328, 0.125490203499794, 0.126222625374794, 0.003906309604644775, 26.0, 1.600000023841858, 0.4000000059604645, 51.400001525878906, 0.4000000059604645, 0.4000000059604645, 6.400000095367432, 25.799999237060547, 6.400000095367432, 25.600000381469727, 25.600000381469727, 1.0], [12.0, 0.0, 0.0, 0.0, 0.0, 0.0, 0.0, 0.0, 0.0, 0.0, 0.0, 0.0, 0.0, 4.800000190734863, 0.800000011920929, 0.0, 0.0, 0.0, 0.4000000059604645, 1.7999999523162842, 3.5999999046325684, 6.400000095367432, 153.60000610351562, 6.400000095367432, 6.400000095367432, 0.0, 0.0, 0.0, 0.0, 0.0, 0.0, 0.0, 0.0, 0.0, 0.0, 0.0, 0.0, 0.20000000298023224, 0.0, 0.4000000059604645, 410.3999938964844, 0.0, 0.4000000059604645, 0.0, 0.0, 67.19999694824219, 8.0, 2.4000000953674316, 0.0], [12.0, 0.5, 0.2539406418800354, 0.18751049041748047, 0.126222625374794, 0.0312504768371582, 0.0004882887005805969, 1.5259021893143654e-05, 0.0, 0.0, 0.0, 0.0009765774011611938, 0.003936827648431063, 0.0, 0.0, 6.400000095367432, 1.399999976158142, 0.4000000059604645, 56.400001525878906, 0.0, 102.4000015258789, 6.599999904632568, 0.0, 0.0, 0.0, 0.5, 0.1269550621509552, 0.14063477516174316, 0.1276874989271164, 0.0625009536743164, 0.0, 0.0, 0.00012207217514514923, 0.032715342938899994, 0.0313115119934082, 0.0012207217514514923, 3.051804378628731e-05, 25.600000381469727, 25.600000381469727, 13.0, 0.0, 409.6000061035156, 57.79999923706055, 0.0, 0.0, 0.0, 12.800000190734863, 17.0, 1.600000023841858], [12.0, 0.125, 0.0625314712524414, 0.03182268887758255, 0.0312504768371582, 0.0312809944152832, 0.0317540243268013, 1.9073777366429567e-06, 0.0, 0.024664301425218582, 0.02441634237766266, 0.024483101442456245, 0.01953345537185669, 4.599999904632568, 0.0, 0.0, 0.0, 0.20000000298023224, 3.200000047683716, 12.800000190734863, 0.20000000298023224, 0.20000000298023224, 0.0, 52.79999923706055, 0.0, 0.125, 0.0625009536743164, 0.05133897811174393, 0.04687762260437012, 0.03320363163948059, 0.0312504768371582, 0.032715342938899994, 0.032471198588609695, 0.03125429153442383, 0.039063096046447754, 0.0322270542383194, 0.03762874752283096, 0.800000011920929, 0.4000000059604645, 5.599999904632568, 19.200000762939453, 0.0, 24.0, 0.4000000059604645, 6.400000095367432, 0.0, 57.599998474121094, 77.0, 51.20000076293945], [12.0, 0.0, 0.0, 0.0, 0.0, 0.0, 0.0, 0.0, 0.0, 0.0, 0.0, 0.0, 0.0, 0.800000011920929, 26.200000762939453, 0.0, 0.0, 0.0, 13.0, 0.20000000298023224, 12.800000190734863, 0.0, 3.200000047683716, 6.400000095367432, 0.800000011920929, 0.0, 0.0, 0.0, 0.0, 0.0, 0.0, 0.0, 0.0, 0.0, 0.0, 0.0, 0.0, 0.0, 0.0, 0.0, 12.800000190734863, 51.400001525878906, 410.0, 0.0, 0.0, 0.20000000298023224, 0.0, 64.0, 0.0], [12.0, 0.0, 0.0, 0.0, 0.0, 0.0, 0.0, 0.0, 0.0, 0.0, 0.0, 0.0, 0.0, 0.20000000298023224, 0.0, 0.4000000059604645, 0.800000011920929, 1.600000023841858, 0.6000000238418579, 102.80000305175781, 0.20000000298023224, 52.79999923706055, 38.79999923706055, 35.599998474121094, 102.4000015258789, 0.0, 0.0, 0.0, 0.0, 0.0, 0.0, 0.0, 0.0, 0.0, 0.0, 0.0, 0.0, 0.0, 1.0, 0.0, 17.600000381469727, 0.4000000059604645, 26.399999618530273, 51.20000076293945, 0.0, 409.6000061035156, 3.4000000953674316, 57.599998474121094, 25.600000381469727], [12.0, 0.5, 0.40674448013305664, 0.1416037231683731, 0.1728847175836563, 0.13478294014930725, 0.1252460479736328, 0.12500953674316406, 0.1275654286146164, 0.0400778204202652, 0.027344167232513428, 0.027344167232513428, 0.0156252384185791, 0.0, 1.2000000476837158, 51.599998474121094, 12.800000190734863, 0.800000011920929, 25.600000381469727, 25.600000381469727, 9.800000190734863, 0.20000000298023224, 0.0, 13.600000381469727, 0.800000011920929, 0.5, 0.3164110779762268, 0.2519722282886505, 0.1289082169532776, 0.14062714576721191, 0.1267261803150177, 0.1250019073486328, 0.1289082169532776, 0.125490203499794, 0.1250019073486328, 0.0019531548023223877, 0.0005340657662600279, 0.0, 0.0, 0.20000000298023224, 25.600000381469727, 25.600000381469727, 0.0, 0.0, 31.200000762939453, 57.599998474121094, 0.800000011920929, 25.600000381469727, 0.800000011920929]]'"
      ]
     },
     "execution_count": 25,
     "metadata": {},
     "output_type": "execute_result"
    }
   ],
   "source": [
    "# Test\n",
    "flask_raw_data = torch.tensor(flask_raw_data, dtype=torch.float, device=device)\n",
    "str(flask_raw_data.tolist())"
   ]
  },
  {
   "cell_type": "code",
   "execution_count": null,
   "metadata": {},
   "outputs": [],
   "source": []
  }
 ],
 "metadata": {
  "kernelspec": {
   "display_name": "PyTorch",
   "language": "python",
   "name": "pytorch"
  },
  "language_info": {
   "codemirror_mode": {
    "name": "ipython",
    "version": 3
   },
   "file_extension": ".py",
   "mimetype": "text/x-python",
   "name": "python",
   "nbconvert_exporter": "python",
   "pygments_lexer": "ipython3",
   "version": "3.7.5"
  }
 },
 "nbformat": 4,
 "nbformat_minor": 4
}
