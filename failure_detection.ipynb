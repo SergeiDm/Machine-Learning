{
 "cells": [
  {
   "cell_type": "markdown",
   "metadata": {},
   "source": [
    "# Проект 'Обнаружение проблем в работе оборудования'\n",
    "## Описание проекта\n",
    "Даже самое надёжное оборудование в процессе эксплуатации подвержено износу, который может привести к его выходу из строя. За счёт своевременных ремонтных работ можно постараться нивелировать данный износ и не допустить простоя оборудования из-за его поломок. Но для заблаговременного обнаружения проблем/неполадок в работе оборудования необходимо понимать насколько хорошо оно работает в текущий момент времени. В настоящий момент для такого класса задач широкое распространение получила вибрационная диагностика, позволяющая за счёт анализа данных от датчика вибраций делать выводы о состоянии деталей и узлов оборудования. В данном проекте используется датчик вибраций, прикрепляемый к корпусу оборудования. Датчик фиксирует 12 максимальных амплитуд и соответствующих им частот каждые 0.5 сек.\n",
    "\n",
    "## Цель проекта\n",
    "Минимизировать риск внезапного выхода из строя оборудования за счёт сигнализирования о начавшихся возможных проблемах в его работе по данным от датчика вибраций. В свою очередь это позволит:  \n",
    "1) сэкономить средства на замене сломанного оборудования;  \n",
    "2) сократить потери времени на перепланирование производства в связи с выходом из строя оборудования.   \n",
    "\n",
    "## Ожидаемый результат\n",
    "Программный код, выполняющий анализ данных, фиксируемых датчиком вибраций. Программа должна классифицировать данные, диагностирующие исправную и неисправную работу оборудования."
   ]
  },
  {
   "cell_type": "code",
   "execution_count": 1,
   "metadata": {},
   "outputs": [],
   "source": [
    "# Импорт зависимостей\n",
    "from datetime import timedelta\n",
    "from time import perf_counter\n",
    "import itertools\n",
    "import pickle\n",
    "\n",
    "from scipy import stats\n",
    "from sklearn.metrics import classification_report, confusion_matrix\n",
    "from sklearn.model_selection import train_test_split\n",
    "from sklearn.neighbors import KNeighborsClassifier\n",
    "from sklearn.pipeline import Pipeline\n",
    "from sklearn.preprocessing import MinMaxScaler\n",
    "import numpy as np\n",
    "import pandas as pd\n",
    "import matplotlib.pyplot as plt\n",
    "\n",
    "seed = 1234  # начальное значение для генератора случайных чисел\n",
    "np.random.seed(seed)"
   ]
  },
  {
   "cell_type": "markdown",
   "metadata": {},
   "source": [
    "# 0. Подготовка данных, диагностирующих неисправность\n",
    "> !!! Внимание: этот раздел не нужно выполнять, он только показывает как были получены данные диагностирующие неисправность\n",
    "Этот раздел не должен быть включен в ваши проекты. Дело в том, что в реальности не было возможности снять данные с плохо работающего станка, поэтому они были сгенерированы только в рамках данного проекта для Академии Калашников."
   ]
  },
  {
   "cell_type": "code",
   "execution_count": 36,
   "metadata": {},
   "outputs": [],
   "source": [
    "# Загрузить данные из файла\n",
    "path = 'correct_data.csv'\n",
    "correct_data = np.genfromtxt(\n",
    "    fname=path, dtype=np.float64, delimiter=',', \n",
    "    skip_header=1, usecols=range(2, 50), \n",
    "    invalid_raise=False\n",
    ")"
   ]
  },
  {
   "cell_type": "code",
   "execution_count": 37,
   "metadata": {},
   "outputs": [],
   "source": [
    "# Сгенерировать шум для амплитуд и частот\n",
    "n = 12\n",
    "malfunction_data = np.zeros(shape=(correct_data.shape[0], 49))\n",
    "for idx, row in enumerate(correct_data):\n",
    "    part1 = row[list(range(0, n))]  # амплитуды\n",
    "    part2 = row[list(range(n, 2*n))]  # частоты\n",
    "    part3 = row[list(range(2*n, 3*n))]  # амплитуды\n",
    "    part4 = row[list(range(3*n, 4*n))]  # частоты\n",
    "    if np.random.random() < 0.5:\n",
    "        noise_part1 = np.random.normal(0.2, 0.5, size=part1.shape)\n",
    "        part1 = np.clip(part1 + noise_part1, a_min=0, a_max=2)\n",
    "        \n",
    "        noise_part2 = np.random.normal(0, 10, size=part2.shape)\n",
    "        part2 = np.clip(part2 + noise_part2, a_min=0, a_max=512)\n",
    "    else:\n",
    "        noise_part3 = np.random.normal(0.2, 0.5, size=part3.shape)\n",
    "        part3 = np.clip(part3 + noise_part3, a_min=0, a_max=2)\n",
    "        \n",
    "        noise_part4 = np.random.normal(0, 10, size=part4.shape)\n",
    "        part4 = np.clip(part4 + noise_part4, a_min=0, a_max=512)\n",
    "    \n",
    "    malfunction_data[idx] = np.hstack(([12], part1, part2, part3, part4))\n",
    "\n",
    "# Сохранить данные в файл\n",
    "pd.DataFrame(data=malfunction_data).to_csv('malfunction_data.csv')"
   ]
  },
  {
   "cell_type": "markdown",
   "metadata": {},
   "source": [
    "# 1. Загрузка данных"
   ]
  },
  {
   "cell_type": "markdown",
   "metadata": {},
   "source": [
    "## Описание формата данных\n",
    "Каждая строка в файле с данными записывается с помощью датчика вибраций каждые 0.5 сек. и состоит из следующих элементов: \n",
    "- нулевой элемент - всегда равен 12 и является сервисной информацией, означает количество максимальных амплитуд и соответствующих им частот. Обратите внимание, что столбец с данной информацией для последующей обработки не загружается.\n",
    "- элементы [1-12] - максимальные амплитуды для первой оси\n",
    "- элементы [13-24] - частоты первой оси, соответствующие максимальным амплитудам\n",
    "- элементы [25-36] - максимальные амплитуды для второй оси\n",
    "- элементы [37-48] - частоты второй оси, соответствующие максимальным амплитудам\n",
    "\n",
    "Пример данных:  \n",
    "<img src=\"./illustrations/raw_data_example.png\" width=\"1300\" height=\"900\" align=left>"
   ]
  },
  {
   "cell_type": "markdown",
   "metadata": {},
   "source": [
    "## 1.1. Загрузка данных, соответствующих нормальной работе оборудования"
   ]
  },
  {
   "cell_type": "code",
   "execution_count": 38,
   "metadata": {},
   "outputs": [
    {
     "name": "stdout",
     "output_type": "stream",
     "text": [
      "Загрузка данных завершена за 0:00:15.570673\n",
      "Всего строк в данных: 522570\n"
     ]
    },
    {
     "data": {
      "text/plain": [
       "array([[ 0. ,  0. ,  0. ,  0. ,  0. ,  0. ,  0. ,  0. ,  0. ,  0. ,  0. ,\n",
       "         0. ,  0. ,  0. ,  0. ,  0. ,  0. ,  0. ,  0. ,  0. ,  0. ,  0. ,\n",
       "         0. ,  0. ,  0. ,  0. ,  0. ,  0. ,  0. ,  0. ,  0. ,  0. ,  0. ,\n",
       "         0. ,  0. ,  0. , 25.6,  0. ,  0. ,  0. ,  0. ,  0. ,  0. ,  0. ,\n",
       "         0. ,  0. ,  0. ,  0. ]])"
      ]
     },
     "execution_count": 38,
     "metadata": {},
     "output_type": "execute_result"
    }
   ],
   "source": [
    "# Загрузить из файла данные, соответствующие нормальной работе оборудования\n",
    "t1 = perf_counter()\n",
    "path = 'correct_data.csv'\n",
    "correct_data = np.genfromtxt(\n",
    "    fname=path, dtype=np.float64, delimiter=',', \n",
    "    skip_header=1, usecols=range(2, 50), \n",
    "    invalid_raise=False\n",
    ")\n",
    "print(f\"Загрузка данных завершена за {timedelta(seconds=perf_counter()-t1)}\")\n",
    "print(f\"Всего строк в данных: {len(correct_data)}\")\n",
    "\n",
    "# Показать первую строку в данных\n",
    "correct_data[0:1]"
   ]
  },
  {
   "cell_type": "markdown",
   "metadata": {},
   "source": [
    "## 1.2. Загрузка данных, диагностирующих неисправность в работе оборудования"
   ]
  },
  {
   "cell_type": "code",
   "execution_count": 39,
   "metadata": {},
   "outputs": [
    {
     "name": "stdout",
     "output_type": "stream",
     "text": [
      "Загрузка данных завершена за 0:00:19.720596\n",
      "Всего строк в данных: 522570\n"
     ]
    },
    {
     "data": {
      "text/plain": [
       "array([[ 0.44161671,  1.46536014,  0.        ,  0.73138613,  0.89739185,\n",
       "         0.56905551,  0.        ,  0.75874068,  0.        ,  0.49789372,\n",
       "         0.        ,  0.12146838,  0.        ,  8.55755367, 25.01266719,\n",
       "         2.69262084,  0.        , 12.05158457,  0.        ,  0.        ,\n",
       "         9.53865838, 24.53275832,  3.78533138,  0.        ,  0.        ,\n",
       "         0.        ,  0.        ,  0.        ,  0.        ,  0.        ,\n",
       "         0.        ,  0.        ,  0.        ,  0.        ,  0.        ,\n",
       "         0.        , 25.6       ,  0.        ,  0.        ,  0.        ,\n",
       "         0.        ,  0.        ,  0.        ,  0.        ,  0.        ,\n",
       "         0.        ,  0.        ,  0.        ]])"
      ]
     },
     "execution_count": 39,
     "metadata": {},
     "output_type": "execute_result"
    }
   ],
   "source": [
    "# Загрузить из файла данные, диагностирующие несиправность в работе оборудования\n",
    "t1 = perf_counter()\n",
    "path = 'malfunction_data.csv'\n",
    "malfunction_data = np.genfromtxt(\n",
    "    fname=path, dtype=np.float64, delimiter=',', \n",
    "    skip_header=1, usecols=range(2, 50), \n",
    "    invalid_raise=False\n",
    ")\n",
    "print(f\"Загрузка данных завершена за {timedelta(seconds=perf_counter()-t1)}\")\n",
    "print(f\"Всего строк в данных: {len(malfunction_data)}\")\n",
    "\n",
    "# Показать первую строку в данных\n",
    "malfunction_data[0:1]"
   ]
  },
  {
   "cell_type": "markdown",
   "metadata": {},
   "source": [
    "# 2. Разведочный анализ данных (Exploratory Data Analysis)"
   ]
  },
  {
   "cell_type": "markdown",
   "metadata": {},
   "source": [
    "> Выясним имеются ли в данных выбросы и отобразим гистограммы распределений для амплитуд и частот. Выбросы (измерения, выделяющиеся из общей выборки) могут возникать в результате воздействия случайных сторонних факторов."
   ]
  },
  {
   "cell_type": "markdown",
   "metadata": {},
   "source": [
    "## Вспомогательные функции для анализа данных"
   ]
  },
  {
   "cell_type": "code",
   "execution_count": 40,
   "metadata": {},
   "outputs": [],
   "source": [
    "def check_data_quality(data, n=12, ampl_thresh=2, freq_thresh=512):\n",
    "    \"\"\"Функция показывает статистику по тем строкам в данных,\n",
    "    в которых амплитуда или частота превышают пороговые значения.\n",
    "    \n",
    "    Параметры\n",
    "    ----------\n",
    "    data: array. Строки с амплитудами и частотами.\n",
    "    n: int. Количество амплитуд и частот в строке в разрезе каждой оси.\n",
    "    ampl_thresh: float. Пороговое значение для амплитуды. Если значение амплитуды больше,\n",
    "    то считаем что это выброс.\n",
    "    freq_thresh: float. Пороговое значение для частоты. Если значение частоты больше,\n",
    "    то считаем что это выброс.\n",
    "    \n",
    "    Результат\n",
    "    -------\n",
    "    None.\n",
    "    \"\"\"\n",
    "    \n",
    "    data_ampl = data[:, [list(range(0, n)) + list(range(2*n, 3*n))]]\n",
    "    outliers = data_ampl[data_ampl > ampl_thresh]\n",
    "    if len(outliers) > 0:\n",
    "        print(f\"Выбросы у амплитуд (> {ampl_thresh}): {stats.describe(outliers)}\")\n",
    "    else:\n",
    "        print(\"Выбросы у амплитуд отсутствуют\")\n",
    "    \n",
    "    data_freq = data[:, [list(range(n, 2*n)) + list(range(3*n, 4*n))]]\n",
    "    outliers = data_freq[data_freq > freq_thresh]\n",
    "    if len(outliers) > 0:\n",
    "        print(f\"Выбросы у частот (> {freq_thresh}): {stats.describe(outliers)}\")\n",
    "    else:\n",
    "        print(\"Выбросы у частот отсутствуют\")\n",
    "\n",
    "        \n",
    "def clean_data(data, n=12,\n",
    "               ampl_flag=True, ampl_thresh=2,\n",
    "               freq_flag=True, freq_thresh=512):\n",
    "    \"\"\"Функция изменяет амплитуды и частоты, превышающие пороговые значения, на их пороговые значения.\n",
    "    \n",
    "    Параметры\n",
    "    ----------\n",
    "    data: array. Строки с амплитудами и частотами.\n",
    "    n: int. Количество амплитуд и частот в строке в разрезе каждой оси.\n",
    "    ampl_flag: bool. Если значение True, то производить изменение амплитуд.\n",
    "    ampl_thresh: float. Пороговое значение для амплитуды. Если значение амплитуды больше,\n",
    "    то считаем что это выброс.\n",
    "    freq_flag: bool. Если значение True, то производить изменение частот.\n",
    "    freq_thresh: float. Пороговое значение для частоты. Если значение частоты больше,\n",
    "    то считаем что это выброс.\n",
    "    \n",
    "    Результат\n",
    "    -------\n",
    "    clean_data: array. Строки с амплитудами и частотами, укладывающимися в пороговые значения.\n",
    "    \"\"\"\n",
    "\n",
    "    part1 = data[:, list(range(0, n))]  # амплитуды\n",
    "    part2 = data[:, list(range(n, 2*n))]  # частоты\n",
    "    part3 = data[:, list(range(2*n, 3*n))]  # амплитуды\n",
    "    part4 = data[:, list(range(3*n, 4*n))]  # частоты\n",
    "\n",
    "    if ampl_flag:\n",
    "        part1[part1 > ampl_thresh] = ampl_thresh\n",
    "        part3[part3 > ampl_thresh] = ampl_thresh\n",
    "    \n",
    "    if freq_flag:\n",
    "        part2[part2 > freq_thresh] = freq_flag\n",
    "        part4[part4 > freq_thresh] = freq_flag\n",
    "  \n",
    "    return np.hstack((part1, part2, part3, part4))\n",
    "\n",
    "\n",
    "def plot_histogram(data, n=12, figsize=(10, 6)):\n",
    "    \"\"\" Функция строит гистограмму для частот и амплитуд.\n",
    "    \n",
    "    Параметры\n",
    "    ----------\n",
    "    data: array. Строки с амплитудами и частотами.\n",
    "    n: int. Количество амплитуд и частот в строке в разрезе каждой оси.\n",
    "    figsize: tuple. Размер фигуры (ширина, высота).\n",
    "    \n",
    "    Результат\n",
    "    -------\n",
    "    None.\n",
    "    \"\"\"\n",
    "    \n",
    "    fig, ax = plt.subplots(2, 2, figsize=figsize)\n",
    "    \n",
    "    amplitude = data[:, [list(range(0, n))]].flatten()\n",
    "    print(f\"Статистика для амплитуд оси 1: {stats.describe(amplitude)}\")\n",
    "    ax[0][0].hist(amplitude, density=True)\n",
    "    ax[0][0].set_title('Амплитуды оси 1')\n",
    "    \n",
    "    frequency = data[:, [list(range(n, 2*n))]].flatten()\n",
    "    print(f\"Статистика для частот оси 1: {stats.describe(frequency)}\")\n",
    "    ax[0][1].hist(frequency, density=True)\n",
    "    ax[0][1].set_title('Частоты оси 1')\n",
    "\n",
    "    amplitude = data[:, [list(range(2*n, 3*n))]].flatten()\n",
    "    print(f\"Статистика для амплитуд оси 2: {stats.describe(amplitude)}\")\n",
    "    ax[1][0].hist(amplitude, density=True)\n",
    "    ax[1][0].set_title('Амплитуды оси 2')\n",
    "      \n",
    "    frequency = data[:, [list(range(3*n, 4*n))]].flatten()\n",
    "    print(f\"Статистика для частот оси 2: {stats.describe(frequency)}\")\n",
    "    ax[1][1].hist(frequency, density=True)\n",
    "    ax[1][1].set_title('Частоты оси 2')   \n",
    "    \n",
    "    fig.tight_layout()"
   ]
  },
  {
   "cell_type": "markdown",
   "metadata": {},
   "source": [
    "## 2.1. Анализ данных, соответствующих нормальной работе оборудования"
   ]
  },
  {
   "cell_type": "code",
   "execution_count": 41,
   "metadata": {},
   "outputs": [
    {
     "name": "stdout",
     "output_type": "stream",
     "text": [
      "Выбросы у амплитуд (> 2): DescribeResult(nobs=6408, minmax=(2.000023, 8191.875), mean=280.8718206939919, variance=675095.4261890579, skewness=5.189883206763977, kurtosis=35.96794977716712)\n",
      "Выбросы у частот (> 512): DescribeResult(nobs=1173, minmax=(512.2, 6553.5), mean=1952.311338448423, variance=1722507.7148286677, skewness=1.3894776396434034, kurtosis=2.2361201259830876)\n"
     ]
    }
   ],
   "source": [
    "# Проверить данные на наличие выбросов\n",
    "check_data_quality(correct_data)"
   ]
  },
  {
   "cell_type": "markdown",
   "metadata": {},
   "source": [
    "> Как видно есть строки в которых амплитуды и/ или частоты превышают их пороговые значения.  \n",
    "Есть разные варианты обработки выбросов. Например удаление наблюдений с выбросами, или их исправление, т.е. присвоение значений не превышающих пороговые. Выберем второй вариант - исправлений значений выбросов."
   ]
  },
  {
   "cell_type": "code",
   "execution_count": 42,
   "metadata": {},
   "outputs": [
    {
     "name": "stdout",
     "output_type": "stream",
     "text": [
      "Выбросы у амплитуд отсутствуют\n",
      "Выбросы у частот отсутствуют\n"
     ]
    }
   ],
   "source": [
    "# Сделать корректировку амплитуд и частот\n",
    "# согласно их пороговым значениям\n",
    "correct_data = clean_data(correct_data)\n",
    "\n",
    "# Снова проверить данные на наличие выбросов\n",
    "# чтобы убедиться в отсутствии выбросов после корректировки\n",
    "check_data_quality(correct_data)"
   ]
  },
  {
   "cell_type": "markdown",
   "metadata": {},
   "source": [
    "> При работе с данными их важно визуализировать, чтобы лучше понять их.\n",
    "Построим гистограммы распределений для амплитуд и частот."
   ]
  },
  {
   "cell_type": "code",
   "execution_count": 43,
   "metadata": {},
   "outputs": [
    {
     "name": "stdout",
     "output_type": "stream",
     "text": [
      "Статистика для амплитуд оси 1: DescribeResult(nobs=6270840, minmax=(0.0, 2.0), mean=0.41939569075916233, variance=0.016696579457844158, skewness=0.3323368059272499, kurtosis=14.352100798958645)\n",
      "Статистика для частот оси 1: DescribeResult(nobs=6270840, minmax=(0.0, 512.0), mean=92.90826578257457, variance=8959.530077266601, skewness=1.31308315956574, kurtosis=1.5365697918154044)\n",
      "Статистика для амплитуд оси 2: DescribeResult(nobs=6270840, minmax=(0.0, 2.0), mean=0.4334412258035173, variance=0.01870983082076092, skewness=0.5291200965647119, kurtosis=13.742665385115433)\n",
      "Статистика для частот оси 2: DescribeResult(nobs=6270840, minmax=(0.0, 512.0), mean=181.55060966313917, variance=33306.32419328725, skewness=0.5958305001032423, kurtosis=-1.3291951411019194)\n"
     ]
    },
    {
     "data": {
      "image/png": "[encoded data removed]",
      "text/plain": [
       "<Figure size 720x432 with 4 Axes>"
      ]
     },
     "metadata": {
      "needs_background": "light"
     },
     "output_type": "display_data"
    }
   ],
   "source": [
    "# Построить гистограммы для амплитуд и частот\n",
    "plot_histogram(correct_data, n=12, figsize=(10, 6))"
   ]
  },
  {
   "cell_type": "markdown",
   "metadata": {},
   "source": [
    "> Как можно заметить частоты для оси 1 и 2 отличаются. Таким образом для последующего решения задачи важны данные с обеих осей."
   ]
  },
  {
   "cell_type": "markdown",
   "metadata": {},
   "source": [
    "## 2.2. Анализ данных, диагностирующих неисправность в работе оборудования"
   ]
  },
  {
   "cell_type": "code",
   "execution_count": 44,
   "metadata": {},
   "outputs": [
    {
     "name": "stdout",
     "output_type": "stream",
     "text": [
      "Выбросы у амплитуд (> 2): DescribeResult(nobs=3163, minmax=(2.0000305, 8191.875), mean=283.33046285023715, variance=684584.386293671, skewness=5.155690397252597, kurtosis=35.37904998466892)\n",
      "Выбросы у частот (> 512): DescribeResult(nobs=610, minmax=(512.2, 6553.5), mean=1995.7452459016395, variance=1936772.502415785, skewness=1.3871709689661016, kurtosis=2.024624019133997)\n"
     ]
    }
   ],
   "source": [
    "# Проверить данные на наличие выбросов\n",
    "check_data_quality(malfunction_data)"
   ]
  },
  {
   "cell_type": "code",
   "execution_count": 45,
   "metadata": {},
   "outputs": [
    {
     "name": "stdout",
     "output_type": "stream",
     "text": [
      "Выбросы у амплитуд отсутствуют\n",
      "Выбросы у частот отсутствуют\n"
     ]
    }
   ],
   "source": [
    "# Сделать корректировку амплитуд и частот\n",
    "# согласно их пороговым значениям\n",
    "malfunction_data = clean_data(malfunction_data)\n",
    "\n",
    "# Снова проверить данные на наличие выбросов\n",
    "# чтобы убедиться в отсутствии выбросов после корректировки\n",
    "check_data_quality(malfunction_data)"
   ]
  },
  {
   "cell_type": "code",
   "execution_count": 46,
   "metadata": {},
   "outputs": [
    {
     "name": "stdout",
     "output_type": "stream",
     "text": [
      "Статистика для амплитуд оси 1: DescribeResult(nobs=6270840, minmax=(0.0, 2.0), mean=0.533313936696871, variance=0.12848354045502716, skewness=1.1982871755811002, kurtosis=1.824579374865749)\n",
      "Статистика для частот оси 1: DescribeResult(nobs=6270840, minmax=(0.0, 512.0), mean=93.22911707259456, variance=8957.662363027031, skewness=1.3170604137443631, kurtosis=1.5544226280142688)\n",
      "Статистика для амплитуд оси 2: DescribeResult(nobs=6270840, minmax=(0.0, 2.0), mean=0.5471848891759447, variance=0.1314993545388886, skewness=1.1640469822352475, kurtosis=1.7365371649159194)\n",
      "Статистика для частот оси 2: DescribeResult(nobs=6270840, minmax=(0.0, 512.0), mean=181.80934442356224, variance=33248.44057678187, skewness=0.596659684402397, kurtosis=-1.3264951958021833)\n"
     ]
    },
    {
     "data": {
      "image/png": "[encoded data removed]",
      "text/plain": [
       "<Figure size 720x432 with 4 Axes>"
      ]
     },
     "metadata": {
      "needs_background": "light"
     },
     "output_type": "display_data"
    }
   ],
   "source": [
    "# Построить гистограммы для амплитуд и частот\n",
    "plot_histogram(malfunction_data, n=12, figsize=(10, 6))"
   ]
  },
  {
   "cell_type": "markdown",
   "metadata": {},
   "source": [
    "# 3. Предобработка данных"
   ]
  },
  {
   "cell_type": "markdown",
   "metadata": {},
   "source": [
    "> Как лучше представить данные чтобы модель разработанная на их основе работала быстро и эффективно? Вместо каждой строки в исходных данных рассмотрим совокупность строк одновременно."
   ]
  },
  {
   "cell_type": "markdown",
   "metadata": {},
   "source": [
    "## Вспомогательные функции для предобработки данных"
   ]
  },
  {
   "cell_type": "code",
   "execution_count": 47,
   "metadata": {},
   "outputs": [],
   "source": [
    "def generate_samples(data, n=12, slice_size=20, overlap_size=2):\n",
    "    \"\"\"Функция разбивает данные на партии состоящие из нескольких строк одновременно.\n",
    "    При этом данные в строке заменяются на 4 числа: среднее значения для амплитуд оси 1,\n",
    "    среднее значения для частот оси 1, среднее значения для амплитуд оси 2,\n",
    "    среднее значения для частот оси 2.\n",
    "    \n",
    "    Параметры\n",
    "    ----------\n",
    "    data: array. Строки с амплитудами и частотами.\n",
    "    n: int. Количество амплитуд и частот в строке в разрезе каждой оси.\n",
    "    slice_size: int. Количество одновременно рассматриваемых строк.\n",
    "    overlap_size: int. Размер перекрытия строк. \n",
    "    \n",
    "    Результат\n",
    "    -------\n",
    "    None.\n",
    "    \"\"\"\n",
    "    \n",
    "    current_idx = 0\n",
    "    output = []\n",
    "\n",
    "    while (current_idx + slice_size) <= len(data):\n",
    "        part_data = data[current_idx: current_idx+slice_size]\n",
    "        mean_ampl1 = np.mean(part_data[:, 0:n], axis=0)\n",
    "        mean_freq1 = np.mean(part_data[:, n:2*n], axis=0)\n",
    "        mean_ampl2 = np.mean(part_data[:, 2*n:3*n], axis=0)\n",
    "        mean_freq2 = np.mean(part_data[:, 3*n:4*n], axis=0)\n",
    "\n",
    "        ampl_freq_concat = np.concatenate((mean_ampl1, mean_freq1, mean_ampl2, mean_freq2))\n",
    "        output.append(ampl_freq_concat)\n",
    "\n",
    "        current_idx = current_idx + slice_size - overlap_size\n",
    "\n",
    "    return np.array(output)"
   ]
  },
  {
   "cell_type": "markdown",
   "metadata": {},
   "source": [
    "## 3.1. Предобработка данных, соответствующих нормальной работе оборудования"
   ]
  },
  {
   "cell_type": "code",
   "execution_count": 48,
   "metadata": {},
   "outputs": [
    {
     "name": "stdout",
     "output_type": "stream",
     "text": [
      "Предобработка данных завершена за 0:00:00.901828\n"
     ]
    }
   ],
   "source": [
    "t1 = perf_counter()\n",
    "X_correct = generate_samples(correct_data)\n",
    "print(f\"Предобработка данных завершена за {timedelta(seconds=perf_counter()-t1)}\")\n",
    "\n",
    "# Cгенерировать вектор состоящий из нулей, этот вектор будет показывать\n",
    "# принадлежность к классу - нормальная работа станка\n",
    "y_correct = np.zeros(len(X_correct))"
   ]
  },
  {
   "cell_type": "markdown",
   "metadata": {},
   "source": [
    "## 3.2. Предобработка данных, диагностирующих неисправность в работе оборудования"
   ]
  },
  {
   "cell_type": "code",
   "execution_count": 49,
   "metadata": {},
   "outputs": [
    {
     "name": "stdout",
     "output_type": "stream",
     "text": [
      "Предобработка данных завершена за 0:00:00.965314\n"
     ]
    }
   ],
   "source": [
    "t1 = perf_counter()\n",
    "X_malfunction = generate_samples(malfunction_data)\n",
    "print(f\"Предобработка данных завершена за {timedelta(seconds=perf_counter()-t1)}\")\n",
    "\n",
    "# Cгенерировать вектор состоящий из единиц, этот вектор будет показывать\n",
    "# принадлежность к классу - неисправная работа станка\n",
    "y_malfunction = np.ones(len(X_malfunction))"
   ]
  },
  {
   "cell_type": "markdown",
   "metadata": {},
   "source": [
    "# 4. Создание датасета"
   ]
  },
  {
   "cell_type": "code",
   "execution_count": 50,
   "metadata": {},
   "outputs": [
    {
     "name": "stdout",
     "output_type": "stream",
     "text": [
      "X shape: (58062, 48)\n",
      "y shape: (58062,)\n"
     ]
    }
   ],
   "source": [
    "# Объединить данные в один датасет\n",
    "X = np.concatenate((X_correct, X_malfunction), axis=0)\n",
    "y = np.concatenate((y_correct, y_malfunction), axis=0)\n",
    "print(f\"X shape: {X.shape}\")\n",
    "print(f\"y shape: {y.shape}\")\n",
    "\n",
    "# Разделить данные на тренировочную и тестовые выборки\n",
    "X_train, X_test, y_train, y_test = train_test_split(\n",
    "    X, y, train_size=0.7, stratify=y, shuffle=True, \n",
    "    random_state=seed\n",
    ")"
   ]
  },
  {
   "cell_type": "markdown",
   "metadata": {},
   "source": [
    "# 5. Моделирование"
   ]
  },
  {
   "cell_type": "markdown",
   "metadata": {},
   "source": [
    "## Вспомогательная функция для моделирования"
   ]
  },
  {
   "cell_type": "code",
   "execution_count": 51,
   "metadata": {},
   "outputs": [],
   "source": [
    "def plot_confusion_matrix(y_actual, y_pred, figsize=(7, 5)):\n",
    "    \"\"\"Функция строит матрицу несоответствий.\n",
    "    \n",
    "    Параметры\n",
    "    ----------\n",
    "    y_actual: array. Актуальные значения класса.\n",
    "    y_pred: array. Прогнозируемые значения класса.\n",
    "    figsize: tuple. Размер фигуры (ширина, высота).\n",
    "    \n",
    "    Результат\n",
    "    -------\n",
    "    None.\n",
    "    \"\"\"\n",
    "    cm = confusion_matrix(y_actual, y_pred)\n",
    "    cm_norm = cm\n",
    "\n",
    "    fig, ax = plt.subplots(figsize=figsize)\n",
    "    im = ax.imshow(cm_norm, interpolation='none', cmap='coolwarm', aspect='equal')\n",
    "    ax.figure.colorbar(im, ax=ax, shrink=0.85)\n",
    "    ax.set_title('Матрица несоответствий', fontsize=14)\n",
    "    tick_marks = np.arange(2)\n",
    "    ax.set_xticks(tick_marks)\n",
    "    ax.set_yticks(tick_marks)\n",
    "    categories = ['норма', 'неисправность']\n",
    "    ax.set_xticklabels(categories, rotation=90)\n",
    "    ax.set_yticklabels(categories)\n",
    "\n",
    "    for i, j in itertools.product(range(cm_norm.shape[0]), range(cm_norm.shape[1])):\n",
    "        if cm_norm[i, j]!=0:\n",
    "            ax.text(\n",
    "                j, i,\n",
    "                format(cm_norm[i, j], '.0f'),\n",
    "                horizontalalignment='center', verticalalignment='center',\n",
    "                color = 'white',\n",
    "                fontsize=14,\n",
    "                fontweight=700\n",
    "            )\n",
    "\n",
    "    ax.set_xlabel('Прогнозируемые значения', fontsize=14)\n",
    "    ax.set_ylabel('Актуальные значения', fontsize=14)\n",
    "    ax.grid(linestyle=':')"
   ]
  },
  {
   "cell_type": "code",
   "execution_count": 52,
   "metadata": {},
   "outputs": [
    {
     "name": "stdout",
     "output_type": "stream",
     "text": [
      "Обучение модели завершено за 0:00:22.421790\n",
      "              precision    recall  f1-score   support\n",
      "\n",
      "         0.0       0.93      1.00      0.96      8709\n",
      "         1.0       1.00      0.92      0.96      8710\n",
      "\n",
      "    accuracy                           0.96     17419\n",
      "   macro avg       0.96      0.96      0.96     17419\n",
      "weighted avg       0.96      0.96      0.96     17419\n",
      "\n"
     ]
    },
    {
     "data": {
      "image/png": "[encoded data removed]",
      "text/plain": [
       "<Figure size 504x360 with 2 Axes>"
      ]
     },
     "metadata": {
      "needs_background": "light"
     },
     "output_type": "display_data"
    }
   ],
   "source": [
    "# Построить модель для классификации\n",
    "# В ней будет использоваться Метод ближайщих соседей\n",
    "# Перед использованием метода будет применяться нормализация данных MinMaxScaler\n",
    "t1 = perf_counter()\n",
    "pipe = Pipeline([\n",
    "    ('preprocessor', MinMaxScaler()),\n",
    "    ('classifier', KNeighborsClassifier(n_neighbors=15, weights='uniform', n_jobs=-1))\n",
    "])\n",
    "pipe.fit(X_train, y_train)\n",
    "y_pred = pipe.predict(X_test)\n",
    "print(f\"Обучение модели завершено за {timedelta(seconds=perf_counter()-t1)}\")\n",
    "\n",
    "print(classification_report(y_test, y_pred))\n",
    "\n",
    "plot_confusion_matrix(y_test, y_pred)"
   ]
  },
  {
   "cell_type": "markdown",
   "metadata": {},
   "source": [
    "# 6. Сохранение модели"
   ]
  },
  {
   "cell_type": "code",
   "execution_count": 53,
   "metadata": {},
   "outputs": [],
   "source": [
    "# Сохранить модель на диск\n",
    "# для дальнейшего переиспользования\n",
    "filename = 'finalized_model.pk'\n",
    "pickle.dump(pipe, open(filename, 'wb'))"
   ]
  },
  {
   "cell_type": "code",
   "execution_count": null,
   "metadata": {},
   "outputs": [],
   "source": []
  }
 ],
 "metadata": {
  "kernelspec": {
   "display_name": "ds",
   "language": "python",
   "name": "ds"
  },
  "language_info": {
   "codemirror_mode": {
    "name": "ipython",
    "version": 3
   },
   "file_extension": ".py",
   "mimetype": "text/x-python",
   "name": "python",
   "nbconvert_exporter": "python",
   "pygments_lexer": "ipython3",
   "version": "3.8.6"
  }
 },
 "nbformat": 4,
 "nbformat_minor": 4
}
