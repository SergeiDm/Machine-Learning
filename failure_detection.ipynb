{
 "cells": [
  {
   "cell_type": "markdown",
   "metadata": {},
   "source": [
    "# Описание проекта 'Обнаружение проблем в работе оборудования'\n",
    "## Задача производства\n",
    "Более точное планирование заблаговременных ремонтных/ профилактических работ оборудования с учетом их текущего состояния.\n",
    "\n",
    "## Цель задачи\n",
    "Минимизировать риск внезапного выхода из строя оборудования.\n",
    "\n",
    "## Ожидаемый результат\n",
    "1. Экономия средств на ремонте или замене оборудования\n",
    "2. Сокращение потерь времени на перепланирование производства в связи с выходом из строя оборудования\n",
    "\n",
    "## Ограничения\n",
    "pass"
   ]
  },
  {
   "cell_type": "code",
   "execution_count": 55,
   "metadata": {},
   "outputs": [],
   "source": [
    "from datetime import timedelta\n",
    "from time import perf_counter\n",
    "import itertools\n",
    "import pickle\n",
    "\n",
    "from sklearn.metrics import classification_report, confusion_matrix\n",
    "from sklearn.model_selection import train_test_split\n",
    "from sklearn.neighbors import KNeighborsClassifier\n",
    "from sklearn.pipeline import Pipeline\n",
    "from sklearn.preprocessing import MinMaxScaler\n",
    "import numpy as np\n",
    "import pandas as pd\n",
    "import matplotlib.pyplot as plt\n",
    "\n",
    "seed = 1234"
   ]
  },
  {
   "cell_type": "markdown",
   "metadata": {},
   "source": [
    "# 1. Загрузка данных"
   ]
  },
  {
   "cell_type": "markdown",
   "metadata": {},
   "source": [
    "## Описание формата данных\n",
    "Каждая строка в файле с данными записывается с помощью датчика вибраций каждые 0.5 сек. и состоит из следующих элементов: \n",
    "- нулевой элемент - всегда равен 12 и является сервисной информацией, означает количество максимальных амплитуд и соответствующих им частот. Обратите внимание, что столбец с данной информацией для последующей обработки не загружается.\n",
    "- элементы [1-12] - максимальные амплитуды для первой оси\n",
    "- элементы [13-24] - частоты первой оси, соответствующие максимальным амплитудам\n",
    "- элементы [25-36] - максимальные амплитуды для второй оси\n",
    "- элементы [37-48] - частоты второй оси, соответствующие максимальным амплитудам\n",
    "\n",
    "Пример данных:  \n",
    "<img src=\"./illustrations/raw_data_example.png\" width=\"1300\" height=\"900\" align=left>"
   ]
  },
  {
   "cell_type": "code",
   "execution_count": 8,
   "metadata": {},
   "outputs": [
    {
     "name": "stdout",
     "output_type": "stream",
     "text": [
      "Загрузка данных завершена за 0:00:33.438241\n"
     ]
    },
    {
     "data": {
      "text/plain": [
       "array([[ 0. ,  0. ,  0. ,  0. ,  0. ,  0. ,  0. ,  0. ,  0. ,  0. ,  0. ,\n",
       "         0. ,  0. ,  0. ,  0. ,  0. ,  0. ,  0. ,  0. ,  0. ,  0. ,  0. ,\n",
       "         0. ,  0. ,  0. ,  0. ,  0. ,  0. ,  0. ,  0. ,  0. ,  0. ,  0. ,\n",
       "         0. ,  0. ,  0. , 25.6,  0. ,  0. ,  0. ,  0. ,  0. ,  0. ,  0. ,\n",
       "         0. ,  0. ,  0. ,  0. ]])"
      ]
     },
     "execution_count": 8,
     "metadata": {},
     "output_type": "execute_result"
    }
   ],
   "source": [
    "# Загрузить данные из файла\n",
    "t1 = perf_counter()\n",
    "path = 'correct_data.csv'\n",
    "data = np.genfromtxt(fname=path, dtype=np.float64, delimiter=',', \n",
    "                     skip_header=1, usecols=range(2, 50), \n",
    "                     invalid_raise=False)\n",
    "print(f\"Загрузка данных завершена за {timedelta(seconds=perf_counter()-t1)}\")\n",
    "\n",
    "# Показать первую строку в данных\n",
    "data[0:1]"
   ]
  },
  {
   "cell_type": "markdown",
   "metadata": {},
   "source": [
    "## 2. Разведовательный анализ данных (Exploratory Data Analysis)\n",
    "Выясним есть ли проблемы с данными, такие как:\n",
    "1. Пропущенные данные\n",
    "2. Дублирующиеся данные\n",
    "3. Выбросы\n",
    "\n",
    "Обычно такой анализ выполняется с помощью готовых инструментов например pandas-profiling"
   ]
  },
  {
   "cell_type": "code",
   "execution_count": null,
   "metadata": {},
   "outputs": [],
   "source": []
  },
  {
   "cell_type": "markdown",
   "metadata": {},
   "source": [
    "## 3. Предобработка данных"
   ]
  },
  {
   "cell_type": "markdown",
   "metadata": {},
   "source": [
    "Как лучше представить данные чтобы модель разработанная на их основе работала быстро и эффективно.\n",
    "Рассмотрим данные как пакет."
   ]
  },
  {
   "cell_type": "code",
   "execution_count": 28,
   "metadata": {},
   "outputs": [],
   "source": [
    "def generate_samples(data, slice_size=20, overlap_size=2, n=12):\n",
    "    \"\"\"Creates input/ output samples according to the following rule:\n",
    "    If X1, X2, X3, X4, X5, X6, X7, ..., Xn is the time series \n",
    "    and 'lag' is 3, so samples wil be:\n",
    "    X               y\n",
    "    [X1, X2, X3] -> X4,\n",
    "    [X2, X3, X4] -> X5,\n",
    "    ...\n",
    "    [Xn-3, Xn-2, Xn-1] -> Xn\n",
    "    \n",
    "    Parameters\n",
    "    ----------\n",
    "    data: pd.DataFrame. Time series data.\n",
    "    lag: int. Size of sliding window.\n",
    "    data_augmentation: bool. If True, initial data will be augmented with new data.\n",
    "    n_times: int. How many times new data will be added to initial data.\n",
    "    mu: float. Mean for noise. \n",
    "        Noise is used to change initial data in order to create new data for augmentation.\n",
    "    sigma: float. Standard deviation for noise. \n",
    "        Noise is used to change initial data in order to create new data for augmentation.\n",
    "    \n",
    "    Returns\n",
    "    -------\n",
    "    Samples: tuple. Input and output data.\n",
    "    \"\"\"\n",
    "    \n",
    "    current_idx = 0\n",
    "    output = []\n",
    "\n",
    "    while (current_idx + slice_size) <= len(data):\n",
    "        part_data = data[current_idx: current_idx+slice_size]\n",
    "        mean_ampl1 = np.mean(part_data[:, 0:n], axis=0)\n",
    "        mean_freq1 = np.mean(part_data[:, n:2*n], axis=0)\n",
    "        mean_ampl2 = np.mean(part_data[:, 2*n:3*n], axis=0)\n",
    "        mean_freq2 = np.mean(part_data[:, 3*n:4*n], axis=0)\n",
    "\n",
    "        ampl_freq_concat = np.concatenate((mean_ampl1, mean_freq1, mean_ampl2, mean_freq2))\n",
    "        output.append(ampl_freq_concat)\n",
    "\n",
    "        current_idx = current_idx + slice_size - overlap_size\n",
    "\n",
    "    return np.array(output)"
   ]
  },
  {
   "cell_type": "code",
   "execution_count": 57,
   "metadata": {},
   "outputs": [
    {
     "name": "stdout",
     "output_type": "stream",
     "text": [
      "Предобработка данных завершена за 0:00:00.918026\n"
     ]
    },
    {
     "data": {
      "text/plain": [
       "array([0., 0., 0., ..., 0., 0., 0.])"
      ]
     },
     "execution_count": 57,
     "metadata": {},
     "output_type": "execute_result"
    }
   ],
   "source": [
    "t1 = perf_counter()\n",
    "output = generate_samples(data, slice_size=20, overlap_size=2)\n",
    "print(f\"Предобработка данных завершена за {timedelta(seconds=perf_counter()-t1)}\")\n",
    "y_ok = np.zeros(len(output))\n",
    "y_ok"
   ]
  },
  {
   "cell_type": "code",
   "execution_count": 30,
   "metadata": {},
   "outputs": [
    {
     "data": {
      "text/plain": [
       "(29031, 48)"
      ]
     },
     "execution_count": 30,
     "metadata": {},
     "output_type": "execute_result"
    }
   ],
   "source": [
    "output.shape"
   ]
  },
  {
   "cell_type": "markdown",
   "metadata": {},
   "source": [
    "## Generate abnormal data"
   ]
  },
  {
   "cell_type": "code",
   "execution_count": 58,
   "metadata": {},
   "outputs": [
    {
     "name": "stdout",
     "output_type": "stream",
     "text": [
      "(522570, 48)\n"
     ]
    },
    {
     "data": {
      "text/plain": [
       "array([1., 1., 1., ..., 1., 1., 1.])"
      ]
     },
     "execution_count": 58,
     "metadata": {},
     "output_type": "execute_result"
    }
   ],
   "source": [
    "noise_X = np.random.normal(0, 10, size=data.shape)\n",
    "data_not_ok = np.clip(data + noise_X, a_min=0, a_max=None)\n",
    "print(data_not_ok.shape)\n",
    "\n",
    "output_not_ok = generate_samples(data_not_ok, slice_size=20, overlap_size=2)\n",
    "\n",
    "y_not_ok = np.ones(len(output_not_ok))\n",
    "y_not_ok"
   ]
  },
  {
   "cell_type": "code",
   "execution_count": 33,
   "metadata": {},
   "outputs": [
    {
     "data": {
      "text/plain": [
       "array([1., 1., 1., ..., 1., 1., 1.])"
      ]
     },
     "execution_count": 33,
     "metadata": {},
     "output_type": "execute_result"
    }
   ],
   "source": []
  },
  {
   "cell_type": "markdown",
   "metadata": {},
   "source": [
    "## Create dataset"
   ]
  },
  {
   "cell_type": "code",
   "execution_count": 59,
   "metadata": {},
   "outputs": [
    {
     "name": "stdout",
     "output_type": "stream",
     "text": [
      "X shape: (58062, 48)\n",
      "y shape: (58062,)\n"
     ]
    }
   ],
   "source": [
    "X = np.concatenate((output, output_not_ok), axis=0)\n",
    "y = np.concatenate((y_ok, y_not_ok), axis=0)\n",
    "print(f\"X shape: {X.shape}\")\n",
    "print(f\"y shape: {y.shape}\")\n",
    "\n",
    "# Разделить данные на тренировочную и тестовые выборки\n",
    "X_train, X_test, y_train, y_test = train_test_split(\n",
    "    X, y, train_size=0.7, stratify=y, shuffle=True, \n",
    "    random_state=seed\n",
    ")"
   ]
  },
  {
   "cell_type": "markdown",
   "metadata": {},
   "source": [
    "## Modeling"
   ]
  },
  {
   "cell_type": "code",
   "execution_count": 54,
   "metadata": {},
   "outputs": [],
   "source": [
    "def plot_confusion_matrix(y_actual, y_pred, figsize=(7, 5)):\n",
    "    \"\"\"Plot confusion matrix.\n",
    "    \"\"\"\n",
    "    cm = confusion_matrix(y_actual, y_pred)\n",
    "#     cm_norm = cm.astype('float') / cm.sum(axis=1)[:, np.newaxis]\n",
    "    cm_norm = cm\n",
    "\n",
    "    fig, ax = plt.subplots(figsize=figsize)\n",
    "    im = ax.imshow(cm_norm, interpolation='none', cmap='coolwarm', aspect='equal')\n",
    "    ax.figure.colorbar(im, ax=ax, shrink=0.85)\n",
    "    ax.set_title('Confusion matrix', fontsize=14)\n",
    "    tick_marks = np.arange(2)\n",
    "    ax.set_xticks(tick_marks)\n",
    "    ax.set_yticks(tick_marks)\n",
    "    categories = ['ok', 'non_ok']\n",
    "    ax.set_xticklabels(categories, rotation=90)\n",
    "    ax.set_yticklabels(categories)\n",
    "\n",
    "    for i, j in itertools.product(range(cm_norm.shape[0]), range(cm_norm.shape[1])):\n",
    "        if cm_norm[i, j]!=0:\n",
    "            ax.text(\n",
    "                j, i,\n",
    "                format(cm_norm[i, j], '.0f'),\n",
    "                horizontalalignment='center', verticalalignment='center',\n",
    "                color = 'white',\n",
    "#                 color='black' if (0.35 < cm_norm[i, j] < 0.65) else 'white',\n",
    "                fontsize=14,\n",
    "                fontweight=700\n",
    "            )\n",
    "\n",
    "    ax.set_xlabel('Predicted label', fontsize=14)\n",
    "    ax.set_ylabel('Actual label', fontsize=14)\n",
    "    ax.grid(linestyle=':')"
   ]
  },
  {
   "cell_type": "code",
   "execution_count": 62,
   "metadata": {},
   "outputs": [
    {
     "name": "stdout",
     "output_type": "stream",
     "text": [
      "Обучение модели завершено за 0:00:22.956094\n",
      "              precision    recall  f1-score   support\n",
      "\n",
      "         0.0       0.69      0.91      0.78      8709\n",
      "         1.0       0.87      0.59      0.70      8710\n",
      "\n",
      "    accuracy                           0.75     17419\n",
      "   macro avg       0.78      0.75      0.74     17419\n",
      "weighted avg       0.78      0.75      0.74     17419\n",
      "\n"
     ]
    },
    {
     "data": {
      "image/png": "[encoded data removed]",
      "text/plain": [
       "<Figure size 504x360 with 2 Axes>"
      ]
     },
     "metadata": {
      "needs_background": "light"
     },
     "output_type": "display_data"
    }
   ],
   "source": [
    "t1 = perf_counter()\n",
    "pipe = Pipeline([\n",
    "    ('preprocessor', MinMaxScaler()),\n",
    "    ('classifier', KNeighborsClassifier(n_neighbors=10, weights='uniform', n_jobs=-1))\n",
    "])\n",
    "pipe.fit(X_train, y_train)\n",
    "y_pred = pipe.predict(X_test)\n",
    "print(f\"Обучение модели завершено за {timedelta(seconds=perf_counter()-t1)}\")\n",
    "\n",
    "print(classification_report(y_test, y_pred))\n",
    "\n",
    "plot_confusion_matrix(y_test, y_pred)"
   ]
  },
  {
   "cell_type": "code",
   "execution_count": 60,
   "metadata": {},
   "outputs": [
    {
     "name": "stdout",
     "output_type": "stream",
     "text": [
      "Обучение модели завершено за 0:00:22.603206\n",
      "              precision    recall  f1-score   support\n",
      "\n",
      "         0.0       0.33      0.34      0.33      8709\n",
      "         1.0       0.32      0.31      0.31      8710\n",
      "\n",
      "    accuracy                           0.32     17419\n",
      "   macro avg       0.32      0.32      0.32     17419\n",
      "weighted avg       0.32      0.32      0.32     17419\n",
      "\n"
     ]
    },
    {
     "data": {
      "image/png": "[encoded data removed]",
      "text/plain": [
       "<Figure size 504x360 with 2 Axes>"
      ]
     },
     "metadata": {
      "needs_background": "light"
     },
     "output_type": "display_data"
    }
   ],
   "source": [
    "t1 = perf_counter()\n",
    "pipe = Pipeline([\n",
    "    ('preprocessor', MinMaxScaler()),\n",
    "    ('classifier', KNeighborsClassifier(n_neighbors=5, weights='distance', n_jobs=-1))\n",
    "])\n",
    "pipe.fit(X_train, y_train)\n",
    "y_pred = pipe.predict(X_test)\n",
    "print(f\"Обучение модели завершено за {timedelta(seconds=perf_counter()-t1)}\")\n",
    "\n",
    "print(classification_report(y_test, y_pred))\n",
    "\n",
    "plot_confusion_matrix(y_test, y_pred)"
   ]
  },
  {
   "cell_type": "markdown",
   "metadata": {},
   "source": [
    "## Save model"
   ]
  },
  {
   "cell_type": "code",
   "execution_count": null,
   "metadata": {},
   "outputs": [],
   "source": [
    "filename = 'finalized_model.pk'\n",
    "pickle.dump(model, open(filename, 'wb'))\n",
    " \n",
    "# some time later...\n",
    " \n",
    "# load the model from disk\n",
    "loaded_model = pickle.load(open(filename, 'rb'))\n",
    "result = loaded_model.score(X_test, Y_test)"
   ]
  },
  {
   "cell_type": "code",
   "execution_count": null,
   "metadata": {},
   "outputs": [],
   "source": []
  },
  {
   "cell_type": "code",
   "execution_count": 50,
   "metadata": {},
   "outputs": [
    {
     "name": "stdout",
     "output_type": "stream",
     "text": [
      "Обучение модели завершено за 0:00:22.392171\n",
      "              precision    recall  f1-score   support\n",
      "\n",
      "         0.0       0.15      0.15      0.15      8709\n",
      "         1.0       0.15      0.15      0.15      8710\n",
      "\n",
      "    accuracy                           0.15     17419\n",
      "   macro avg       0.15      0.15      0.15     17419\n",
      "weighted avg       0.15      0.15      0.15     17419\n",
      "\n"
     ]
    },
    {
     "data": {
      "image/png": "[encoded data removed]",
      "text/plain": [
       "<Figure size 504x360 with 2 Axes>"
      ]
     },
     "metadata": {
      "needs_background": "light"
     },
     "output_type": "display_data"
    }
   ],
   "source": [
    "t1 = perf_counter()\n",
    "classifier = KNeighborsClassifier(n_neighbors=5, weights='distance', n_jobs=-1)\n",
    "classifier.fit(X_train, y_train)\n",
    "y_pred = classifier.predict(X_test)\n",
    "print(f\"Обучение модели завершено за {timedelta(seconds=perf_counter()-t1)}\")\n",
    "\n",
    "print(classification_report(y_test, y_pred))\n",
    "\n",
    "plot_confusion_matrix(y_test, y_pred)"
   ]
  },
  {
   "cell_type": "code",
   "execution_count": null,
   "metadata": {},
   "outputs": [],
   "source": []
  }
 ],
 "metadata": {
  "kernelspec": {
   "display_name": "ds",
   "language": "python",
   "name": "ds"
  },
  "language_info": {
   "codemirror_mode": {
    "name": "ipython",
    "version": 3
   },
   "file_extension": ".py",
   "mimetype": "text/x-python",
   "name": "python",
   "nbconvert_exporter": "python",
   "pygments_lexer": "ipython3",
   "version": "3.8.6"
  }
 },
 "nbformat": 4,
 "nbformat_minor": 4
}
