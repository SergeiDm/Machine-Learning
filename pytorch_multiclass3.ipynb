{
 "cells": [
  {
   "cell_type": "code",
   "execution_count": 1,
   "metadata": {},
   "outputs": [],
   "source": [
    "import matplotlib.pyplot as plt\n",
    "import numpy as np\n",
    "import pandas as pd\n",
    "import torch\n",
    "import torch.nn.functional as F\n",
    "\n",
    "from sklearn.datasets import make_classification\n",
    "from sklearn.metrics import confusion_matrix\n",
    "from sklearn.model_selection import train_test_split\n",
    "from sklearn.naive_bayes import BernoulliNB\n",
    "from torch import nn, optim\n",
    "from torch.utils.data import DataLoader, TensorDataset\n"
   ]
  },
  {
   "cell_type": "code",
   "execution_count": 2,
   "metadata": {},
   "outputs": [
    {
     "name": "stdout",
     "output_type": "stream",
     "text": [
      "[[ 0.90394545  0.35413361]\n",
      " [-1.03106689 -1.05752257]]\n",
      "[0 2]\n"
     ]
    }
   ],
   "source": [
    "X, y = make_classification(n_features=2, n_redundant=0, n_informative=2, random_state=1,\n",
    "                            n_classes=3, n_clusters_per_class=1)\n",
    "# Print some data\n",
    "print(X[:2])\n",
    "print(y[:2])"
   ]
  },
  {
   "cell_type": "code",
   "execution_count": 3,
   "metadata": {},
   "outputs": [
    {
     "data": {
      "image/png": "[encoded data removed]",
      "text/plain": [
       "<Figure size 432x432 with 1 Axes>"
      ]
     },
     "metadata": {
      "needs_background": "light"
     },
     "output_type": "display_data"
    }
   ],
   "source": [
    "# Visualize points\n",
    "fig, ax = plt.subplots(figsize=(6, 6))\n",
    "ax.scatter(X[:, 0], X[:, 1], c=y)\n",
    "plt.show()"
   ]
  },
  {
   "cell_type": "code",
   "execution_count": 4,
   "metadata": {},
   "outputs": [],
   "source": [
    "SEED = 1234\n",
    "np.random.seed(SEED)\n",
    "torch.manual_seed(SEED)\n",
    "\n",
    "# Divide into train test split\n",
    "X_train, X_test, y_train, y_test = train_test_split(X, y, shuffle=True, stratify=y, train_size=0.8)\n"
   ]
  },
  {
   "cell_type": "code",
   "execution_count": 5,
   "metadata": {},
   "outputs": [
    {
     "data": {
      "text/plain": [
       "array([[7, 0, 0],\n",
       "       [0, 6, 0],\n",
       "       [0, 1, 6]], dtype=int64)"
      ]
     },
     "execution_count": 5,
     "metadata": {},
     "output_type": "execute_result"
    }
   ],
   "source": [
    "# Build baseline model\n",
    "NB_classifier = BernoulliNB()\n",
    "NB_classifier.fit(X_train, y_train)\n",
    "confusion_matrix(y_test, NB_classifier.predict(X_test))"
   ]
  },
  {
   "cell_type": "code",
   "execution_count": 34,
   "metadata": {},
   "outputs": [],
   "source": [
    "# Build torch model\n",
    "device = \"cuda\" if torch.cuda.is_available else \"cpu\"\n",
    "\n",
    "class Classifier(nn.Module):\n",
    "    \n",
    "    def __init__(self) -> None:\n",
    "        super(Classifier, self).__init__()\n",
    "        self.linear = nn.Linear(2, 25)\n",
    "        self.linear2 = nn.Linear(25, 10)\n",
    "        self.linear3 = nn.Linear(10, 3)\n",
    "        self.dropout = nn.Dropout(p=0.2)\n",
    "    \n",
    "    def forward(self, x):\n",
    "        x = F.relu(self.linear(x))\n",
    "        x = self.dropout(x)\n",
    "        x = F.relu(self.linear2(x))\n",
    "        x = self.dropout(x)\n",
    "        x = self.linear3(x)\n",
    "        return x\n",
    "\n",
    "model = Classifier()\n",
    "model.to(device)\n",
    "criterion = nn.CrossEntropyLoss()\n",
    "optimizer = optim.Adam(model.parameters(), lr=1e-3)        \n",
    "\n",
    "X_train_t, X_test_t = torch.tensor(X_train, dtype=torch.float), torch.tensor(X_test, dtype=torch.float)\n",
    "y_train_t, y_test_t = torch.tensor(y_train, dtype=torch.long), torch.tensor(y_test, dtype=torch.long)\n",
    "train_ds = TensorDataset(X_train_t, y_train_t)\n",
    "test_ds = TensorDataset(X_test_t, y_test_t)\n",
    "\n",
    "batch_train = 8\n",
    "batch_test = 8\n",
    "\n",
    "train_loader = DataLoader(train_ds, batch_size=batch_train, shuffle=True)\n",
    "test_loader = DataLoader(test_ds, batch_size=batch_test, shuffle=True)\n"
   ]
  },
  {
   "cell_type": "code",
   "execution_count": 45,
   "metadata": {},
   "outputs": [
    {
     "name": "stdout",
     "output_type": "stream",
     "text": [
      "Epoch 1 | Train loss: 0.919710 | Test loss: 0.868865\n",
      "Epoch 2 | Train loss: 0.892493 | Test loss: 0.825242\n",
      "Epoch 3 | Train loss: 0.861391 | Test loss: 0.778668\n",
      "Epoch 4 | Train loss: 0.820064 | Test loss: 0.730537\n",
      "Epoch 5 | Train loss: 0.800007 | Test loss: 0.678926\n",
      "Epoch 6 | Train loss: 0.727357 | Test loss: 0.625631\n",
      "Epoch 7 | Train loss: 0.706073 | Test loss: 0.569427\n",
      "Epoch 8 | Train loss: 0.668718 | Test loss: 0.513871\n",
      "Epoch 9 | Train loss: 0.602717 | Test loss: 0.463848\n",
      "Epoch 10 | Train loss: 0.554947 | Test loss: 0.414881\n",
      "Epoch 11 | Train loss: 0.562240 | Test loss: 0.369192\n",
      "Epoch 12 | Train loss: 0.489068 | Test loss: 0.328093\n",
      "Epoch 13 | Train loss: 0.475832 | Test loss: 0.293790\n",
      "Epoch 14 | Train loss: 0.396460 | Test loss: 0.261630\n",
      "Epoch 15 | Train loss: 0.393991 | Test loss: 0.233169\n",
      "Epoch 16 | Train loss: 0.424646 | Test loss: 0.208187\n",
      "Epoch 17 | Train loss: 0.368379 | Test loss: 0.188266\n",
      "Epoch 18 | Train loss: 0.328060 | Test loss: 0.171311\n",
      "Epoch 19 | Train loss: 0.338181 | Test loss: 0.157413\n",
      "Epoch 20 | Train loss: 0.331592 | Test loss: 0.144435\n",
      "Epoch 21 | Train loss: 0.291101 | Test loss: 0.134798\n",
      "Epoch 22 | Train loss: 0.281714 | Test loss: 0.124929\n",
      "Epoch 23 | Train loss: 0.222650 | Test loss: 0.115407\n",
      "Epoch 24 | Train loss: 0.276265 | Test loss: 0.105939\n",
      "Epoch 25 | Train loss: 0.238861 | Test loss: 0.098081\n",
      "Epoch 26 | Train loss: 0.278925 | Test loss: 0.091772\n",
      "Epoch 27 | Train loss: 0.235697 | Test loss: 0.087053\n",
      "Epoch 28 | Train loss: 0.235996 | Test loss: 0.082380\n",
      "Epoch 29 | Train loss: 0.224618 | Test loss: 0.079039\n",
      "Epoch 30 | Train loss: 0.220643 | Test loss: 0.074721\n",
      "Epoch 31 | Train loss: 0.181804 | Test loss: 0.071846\n",
      "Epoch 32 | Train loss: 0.220066 | Test loss: 0.068170\n",
      "Epoch 33 | Train loss: 0.176167 | Test loss: 0.066124\n",
      "Epoch 34 | Train loss: 0.195215 | Test loss: 0.063458\n",
      "Epoch 35 | Train loss: 0.208379 | Test loss: 0.060499\n",
      "Epoch 36 | Train loss: 0.201118 | Test loss: 0.057321\n",
      "Epoch 37 | Train loss: 0.212661 | Test loss: 0.054894\n",
      "Epoch 38 | Train loss: 0.174859 | Test loss: 0.052283\n",
      "Epoch 39 | Train loss: 0.199913 | Test loss: 0.050093\n",
      "Epoch 40 | Train loss: 0.177624 | Test loss: 0.048416\n",
      "Epoch 41 | Train loss: 0.181716 | Test loss: 0.047184\n",
      "Epoch 42 | Train loss: 0.168233 | Test loss: 0.045743\n",
      "Epoch 43 | Train loss: 0.147953 | Test loss: 0.043879\n",
      "Epoch 44 | Train loss: 0.155398 | Test loss: 0.043365\n",
      "Epoch 45 | Train loss: 0.196464 | Test loss: 0.042265\n",
      "Epoch 46 | Train loss: 0.118429 | Test loss: 0.040290\n",
      "Epoch 47 | Train loss: 0.155937 | Test loss: 0.039332\n",
      "Epoch 48 | Train loss: 0.128399 | Test loss: 0.038404\n",
      "Epoch 49 | Train loss: 0.159794 | Test loss: 0.036424\n",
      "Epoch 50 | Train loss: 0.140890 | Test loss: 0.035786\n"
     ]
    }
   ],
   "source": [
    "# Train torch model\n",
    "epochs = 50\n",
    "\n",
    "for epoch in range(epochs):\n",
    "    model.train()\n",
    "    train_loss = 0\n",
    "    train_conf_matrix = {}\n",
    "    #train_conf_matrix['Pr0_Ac0'] = 0\n",
    "    #train_conf_matrix['Pr0_Ac1'] = 0\n",
    "    #train_conf_matrix['Pr1_Ac0'] = 0\n",
    "    #train_conf_matrix['Pr1_Ac1'] = 0\n",
    "    for samples, targets in train_loader:\n",
    "        optimizer.zero_grad()\n",
    "        samples, targets = samples.to(device), targets.to(device)\n",
    "        output = model.forward(samples)\n",
    "        loss = criterion(output, targets)\n",
    "        train_loss += loss.item() * len(samples)\n",
    "        loss.backward()\n",
    "        optimizer.step()\n",
    "        \n",
    "        '''\n",
    "        output = output.tolist()\n",
    "        targets = targets.tolist()\n",
    "        for i in range(len(samples)):\n",
    "            if targets[i] == 0 and output[i] < 0.5:\n",
    "                train_conf_matrix['Pr0_Ac0'] += 1\n",
    "            elif targets[i] == 1 and output[i] < 0.5:\n",
    "                train_conf_matrix['Pr0_Ac1'] += 1\n",
    "            elif targets[i] == 0 and not(output[i] < 0.5):\n",
    "                train_conf_matrix['Pr1_Ac0'] += 1\n",
    "            elif targets[i] == 1 and not(output[i] < 0.5):\n",
    "                train_conf_matrix['Pr1_Ac1'] += 1\n",
    "        '''\n",
    "    else:\n",
    "        train_loss /= len(train_ds)\n",
    "    \n",
    "    with torch.no_grad():\n",
    "        model.eval()\n",
    "        test_loss = 0\n",
    "        '''\n",
    "        test_conf_matrix = {}\n",
    "        test_conf_matrix['Pr0_Ac0'] = 0\n",
    "        test_conf_matrix['Pr0_Ac1'] = 0\n",
    "        test_conf_matrix['Pr1_Ac0'] = 0\n",
    "        test_conf_matrix['Pr1_Ac1'] = 0\n",
    "        '''\n",
    "        for samples, targets in test_loader:\n",
    "            samples, targets = samples.to(device), targets.to(device)\n",
    "            output = model.forward(samples)\n",
    "            loss = criterion(output, targets)\n",
    "            test_loss += loss.item() * len(samples)\n",
    "            '''\n",
    "            output = output.tolist()\n",
    "            targets = targets.tolist()\n",
    "            for i in range(len(samples)):\n",
    "                if targets[i] == 0 and output[i] < 0.5:\n",
    "                    test_conf_matrix['Pr0_Ac0'] += 1\n",
    "                elif targets[i] == 1 and output[i] < 0.5:\n",
    "                    test_conf_matrix['Pr0_Ac1'] += 1\n",
    "                elif targets[i] == 0 and not(output[i] < 0.5):\n",
    "                    test_conf_matrix['Pr1_Ac0'] += 1\n",
    "                elif targets[i] == 1 and not(output[i] < 0.5):\n",
    "                    test_conf_matrix['Pr1_Ac1'] += 1\n",
    "            '''\n",
    "        else:\n",
    "            test_loss /= len(test_ds)\n",
    "    \n",
    "    print(f\"Epoch {epoch+1} | \"\n",
    "          f\"Train loss: {train_loss:.6f} | \"\n",
    "          f\"Test loss: {test_loss:.6f}\")        \n",
    "    #print(f\"Train confusion matrix: {train_conf_matrix}\")\n",
    "    #print(f\"Test confusion matrix: {test_conf_matrix}\")\n"
   ]
  },
  {
   "cell_type": "code",
   "execution_count": 32,
   "metadata": {},
   "outputs": [
    {
     "data": {
      "text/plain": [
       "tensor([[-0.5065, -0.0320,  0.1544],\n",
       "        [-0.3158,  0.2017,  0.0463],\n",
       "        [-0.3820,  0.0146,  0.1627],\n",
       "        [-0.1860,  0.1572,  0.2190],\n",
       "        [-0.0289,  0.1906,  0.2225],\n",
       "        [-0.0645,  0.0955,  0.2729],\n",
       "        [-0.0133,  0.1582,  0.1566],\n",
       "        [-0.2763,  0.2652,  0.3632]], device='cuda:0', grad_fn=<AddmmBackward>)"
      ]
     },
     "execution_count": 32,
     "metadata": {},
     "output_type": "execute_result"
    }
   ],
   "source": [
    "output"
   ]
  },
  {
   "cell_type": "code",
   "execution_count": 33,
   "metadata": {},
   "outputs": [
    {
     "data": {
      "text/plain": [
       "tensor([0., 0., 0., 1., 0., 1., 2., 0.], device='cuda:0')"
      ]
     },
     "execution_count": 33,
     "metadata": {},
     "output_type": "execute_result"
    }
   ],
   "source": [
    "targets"
   ]
  },
  {
   "cell_type": "code",
   "execution_count": 46,
   "metadata": {},
   "outputs": [
    {
     "data": {
      "text/plain": [
       "[0, 0, 2, 2, 2, 0, 1, 1, 1, 0, 0, 1, 2, 0, 2, 1, 0, 2, 1, 2]"
      ]
     },
     "execution_count": 46,
     "metadata": {},
     "output_type": "execute_result"
    }
   ],
   "source": [
    "torch.argmax(model.forward(X_test_t.to(device)), dim=1).tolist()"
   ]
  },
  {
   "cell_type": "code",
   "execution_count": 47,
   "metadata": {},
   "outputs": [
    {
     "data": {
      "text/plain": [
       "tensor([0, 0, 2, 2, 2, 0, 1, 1, 1, 0, 0, 1, 2, 0, 2, 1, 0, 2, 1, 2])"
      ]
     },
     "execution_count": 47,
     "metadata": {},
     "output_type": "execute_result"
    }
   ],
   "source": [
    "y_test_t"
   ]
  },
  {
   "cell_type": "code",
   "execution_count": 48,
   "metadata": {},
   "outputs": [
    {
     "data": {
      "text/plain": [
       "torch.Size([100])"
      ]
     },
     "execution_count": 48,
     "metadata": {},
     "output_type": "execute_result"
    }
   ],
   "source": [
    "input1 = torch.randn(100, 128)\n",
    "input2 = torch.randn(100, 128)\n",
    "output = F.cosine_similarity(input1, input2)\n",
    "output.shape"
   ]
  },
  {
   "cell_type": "code",
   "execution_count": 49,
   "metadata": {},
   "outputs": [
    {
     "data": {
      "text/plain": [
       "tensor(-0.0939)"
      ]
     },
     "execution_count": 49,
     "metadata": {},
     "output_type": "execute_result"
    }
   ],
   "source": [
    "output[1]"
   ]
  }
 ],
 "metadata": {
  "kernelspec": {
   "display_name": "PyTorch",
   "language": "python",
   "name": "pytorch"
  },
  "language_info": {
   "codemirror_mode": {
    "name": "ipython",
    "version": 3
   },
   "file_extension": ".py",
   "mimetype": "text/x-python",
   "name": "python",
   "nbconvert_exporter": "python",
   "pygments_lexer": "ipython3",
   "version": "3.7.5"
  }
 },
 "nbformat": 4,
 "nbformat_minor": 4
}
