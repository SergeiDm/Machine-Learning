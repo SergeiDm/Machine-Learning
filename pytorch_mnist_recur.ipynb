{
 "cells": [
  {
   "cell_type": "code",
   "execution_count": 1,
   "metadata": {},
   "outputs": [],
   "source": [
    "import matplotlib.pyplot as plt\n",
    "import numpy as np\n",
    "import pandas as pd\n",
    "import torch\n",
    "import torch.nn.functional as F\n",
    "\n",
    "from torch import nn, optim\n",
    "from torch.utils.data import Dataset, DataLoader\n",
    "from torchvision import datasets, transforms\n",
    "\n",
    "%matplotlib inline\n",
    "\n",
    "BS_TEST = 32\n",
    "BS_TRAIN = 32\n"
   ]
  },
  {
   "cell_type": "code",
   "execution_count": 43,
   "metadata": {},
   "outputs": [
    {
     "data": {
      "text/plain": [
       "'1.3.1'"
      ]
     },
     "execution_count": 43,
     "metadata": {},
     "output_type": "execute_result"
    }
   ],
   "source": [
    "torch.__version__"
   ]
  },
  {
   "cell_type": "code",
   "execution_count": 2,
   "metadata": {},
   "outputs": [],
   "source": [
    "transform_ds = transforms.Compose([transforms.ToTensor()])\n",
    "\n",
    "train_ds = datasets.MNIST(root=\"data\", train=True, download=True, transform=transform_ds)\n",
    "test_ds = datasets.MNIST(root=\"data\", train=False, download=True, transform=transform_ds)\n"
   ]
  },
  {
   "cell_type": "code",
   "execution_count": 29,
   "metadata": {},
   "outputs": [
    {
     "data": {
      "text/plain": [
       "<matplotlib.image.AxesImage at 0x1c8c7fc23c8>"
      ]
     },
     "execution_count": 29,
     "metadata": {},
     "output_type": "execute_result"
    },
    {
     "data": {
      "image/png": "[encoded data removed]",
      "text/plain": [
       "<Figure size 432x288 with 1 Axes>"
      ]
     },
     "metadata": {
      "needs_background": "light"
     },
     "output_type": "display_data"
    }
   ],
   "source": [
    "plt.imshow(train_ds.train_data[0].numpy())"
   ]
  },
  {
   "cell_type": "code",
   "execution_count": 3,
   "metadata": {},
   "outputs": [],
   "source": [
    "train_loader = DataLoader(train_ds, batch_size=BS_TRAIN, shuffle=True)\n",
    "test_loader = DataLoader(test_ds, batch_size=BS_TEST, shuffle=True)\n"
   ]
  },
  {
   "cell_type": "code",
   "execution_count": 5,
   "metadata": {},
   "outputs": [],
   "source": [
    "device = torch.device(\"cuda\" if torch.cuda.is_available() else \"cpu\")\n"
   ]
  },
  {
   "cell_type": "code",
   "execution_count": 6,
   "metadata": {},
   "outputs": [
    {
     "name": "stdout",
     "output_type": "stream",
     "text": [
      "RNNClassifier(\n",
      "  (lstm): LSTM(28, 64, batch_first=True)\n",
      "  (fc): Linear(in_features=64, out_features=10, bias=True)\n",
      ")\n"
     ]
    }
   ],
   "source": [
    "class RNNClassifier(nn.Module):\n",
    "    def __init__(self, input_size, hidden_dim, output_size):\n",
    "        super(RNNClassifier, self).__init__()\n",
    "        \n",
    "        self.input_size = input_size\n",
    "        self.hidden_dim = hidden_dim\n",
    "        self.output_size = output_size\n",
    "        \n",
    "        self.lstm = nn.LSTM(input_size=self.input_size, hidden_size=self.hidden_dim,\n",
    "                            num_layers=1, batch_first=True)\n",
    "        self.fc = nn.Linear(self.hidden_dim, self.output_size)\n",
    "    \n",
    "    def forward(self, x):\n",
    "        x = x.view(-1, 28, 28)\n",
    "        x, hidden = self.lstm(x)\n",
    "        x = self.fc(x[:, -1, :])\n",
    "        return x\n",
    "\n",
    "model = RNNClassifier(input_size=28, hidden_dim=64, output_size=10)\n",
    "print(model)\n",
    "model.to(device)\n",
    "criterion = nn.CrossEntropyLoss()\n",
    "optimizer = optim.Adam(model.parameters(), lr=1e-3)\n",
    "        "
   ]
  },
  {
   "cell_type": "code",
   "execution_count": 8,
   "metadata": {},
   "outputs": [
    {
     "name": "stdout",
     "output_type": "stream",
     "text": [
      "Epoch 1 | train loss: 0.035190 | train acc: 0.989250 | test loss: 0.055184 | test acc: 0.981800\n",
      "Epoch 2 | train loss: 0.031121 | train acc: 0.990633 | test loss: 0.060272 | test acc: 0.980600\n",
      "Epoch 3 | train loss: 0.028349 | train acc: 0.991267 | test loss: 0.051763 | test acc: 0.985700\n",
      "Epoch 4 | train loss: 0.026538 | train acc: 0.991500 | test loss: 0.048901 | test acc: 0.985400\n",
      "Epoch 5 | train loss: 0.024026 | train acc: 0.992450 | test loss: 0.047161 | test acc: 0.985600\n",
      "Epoch 6 | train loss: 0.024023 | train acc: 0.992617 | test loss: 0.052146 | test acc: 0.985400\n",
      "Epoch 7 | train loss: 0.020740 | train acc: 0.993567 | test loss: 0.046786 | test acc: 0.986800\n",
      "Epoch 8 | train loss: 0.018853 | train acc: 0.994450 | test loss: 0.045113 | test acc: 0.987200\n",
      "Epoch 9 | train loss: 0.019052 | train acc: 0.993933 | test loss: 0.054181 | test acc: 0.984100\n",
      "Epoch 10 | train loss: 0.016594 | train acc: 0.994833 | test loss: 0.049949 | test acc: 0.986400\n",
      "Epoch 11 | train loss: 0.016302 | train acc: 0.995000 | test loss: 0.049017 | test acc: 0.986300\n",
      "Epoch 12 | train loss: 0.016606 | train acc: 0.995167 | test loss: 0.040148 | test acc: 0.988000\n",
      "Epoch 13 | train loss: 0.015477 | train acc: 0.995050 | test loss: 0.043798 | test acc: 0.987200\n",
      "Epoch 14 | train loss: 0.014283 | train acc: 0.995600 | test loss: 0.044158 | test acc: 0.987500\n",
      "Epoch 15 | train loss: 0.012473 | train acc: 0.996017 | test loss: 0.046689 | test acc: 0.987200\n",
      "Epoch 16 | train loss: 0.012069 | train acc: 0.995983 | test loss: 0.056587 | test acc: 0.986000\n",
      "Epoch 17 | train loss: 0.013695 | train acc: 0.995650 | test loss: 0.043497 | test acc: 0.988700\n",
      "Epoch 18 | train loss: 0.010329 | train acc: 0.996750 | test loss: 0.048196 | test acc: 0.987900\n",
      "Epoch 19 | train loss: 0.011775 | train acc: 0.996050 | test loss: 0.047225 | test acc: 0.987500\n",
      "Epoch 20 | train loss: 0.009087 | train acc: 0.997267 | test loss: 0.048843 | test acc: 0.987800\n",
      "Epoch 21 | train loss: 0.009896 | train acc: 0.996983 | test loss: 0.049922 | test acc: 0.986100\n",
      "Epoch 22 | train loss: 0.009411 | train acc: 0.997217 | test loss: 0.065446 | test acc: 0.984800\n",
      "Epoch 23 | train loss: 0.011768 | train acc: 0.996450 | test loss: 0.050315 | test acc: 0.987200\n",
      "Epoch 24 | train loss: 0.009299 | train acc: 0.997183 | test loss: 0.048319 | test acc: 0.986800\n",
      "Epoch 25 | train loss: 0.009109 | train acc: 0.997100 | test loss: 0.046387 | test acc: 0.987900\n"
     ]
    }
   ],
   "source": [
    "EPOCHS = 25\n",
    "\n",
    "for epoch in range(EPOCHS):\n",
    "    model.train()\n",
    "    train_loss = 0\n",
    "    train_accuracy = 0\n",
    "    for samples, labels in train_loader:\n",
    "        samples, labels = samples.to(device), labels.to(device)\n",
    "        optimizer.zero_grad()\n",
    "        output = model.forward(samples)\n",
    "        loss = criterion(output, labels)\n",
    "        train_loss += loss.item() * len(samples)\n",
    "        train_accuracy += sum(torch.max(output, dim=1)[1] == labels).item()\n",
    "        loss.backward()\n",
    "        optimizer.step()\n",
    "    else:\n",
    "        train_loss /= len(train_ds) \n",
    "        train_accuracy /= len(train_ds)\n",
    "    \n",
    "    model.eval()\n",
    "    test_loss = 0\n",
    "    test_accuracy = 0\n",
    "    with torch.no_grad():\n",
    "        for samples, labels in test_loader:\n",
    "            samples, labels = samples.to(device), labels.to(device)\n",
    "            output = model.forward(samples)\n",
    "            loss = criterion(output, labels)\n",
    "            test_loss += loss.item() * len(samples)\n",
    "            test_accuracy += sum(torch.max(output, dim=1)[1] == labels).item()\n",
    "        else:\n",
    "            test_loss /= len(test_ds) \n",
    "            test_accuracy /= len(test_ds)\n",
    "    \n",
    "    print(f\"Epoch {epoch + 1} | \"\n",
    "          f\"train loss: {train_loss:.6f} | train acc: {train_accuracy:.6f} | \"\n",
    "          f\"test loss: {test_loss:.6f} | test acc: {test_accuracy:.6f}\")\n",
    "        \n"
   ]
  },
  {
   "cell_type": "code",
   "execution_count": null,
   "metadata": {},
   "outputs": [],
   "source": []
  }
 ],
 "metadata": {
  "kernelspec": {
   "display_name": "Python 3",
   "language": "python",
   "name": "python3"
  },
  "language_info": {
   "codemirror_mode": {
    "name": "ipython",
    "version": 3
   },
   "file_extension": ".py",
   "mimetype": "text/x-python",
   "name": "python",
   "nbconvert_exporter": "python",
   "pygments_lexer": "ipython3",
   "version": "3.6.5"
  }
 },
 "nbformat": 4,
 "nbformat_minor": 4
}
