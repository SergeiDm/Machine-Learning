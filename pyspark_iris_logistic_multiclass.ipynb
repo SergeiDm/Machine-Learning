{
 "cells": [
  {
   "cell_type": "code",
   "execution_count": 53,
   "metadata": {},
   "outputs": [],
   "source": [
    "import findspark; findspark.init()\n",
    "\n",
    "from pyspark.ml.classification import LogisticRegression\n",
    "from pyspark.ml.feature import StringIndexer, VectorAssembler\n",
    "from pyspark.ml.evaluation import MulticlassClassificationEvaluator\n",
    "from pyspark.sql import SparkSession\n",
    "from pyspark.sql.types import StructField, StructType\n",
    "from pyspark.sql.types import DoubleType, StringType\n"
   ]
  },
  {
   "cell_type": "code",
   "execution_count": 4,
   "metadata": {},
   "outputs": [
    {
     "data": {
      "text/plain": [
       "'3.0.0-preview2'"
      ]
     },
     "execution_count": 4,
     "metadata": {},
     "output_type": "execute_result"
    }
   ],
   "source": [
    "spark = SparkSession.builder \\\n",
    "                    .master('local[*]') \\\n",
    "                    .appName('Iris_multiclass') \\\n",
    "                    .getOrCreate()\n",
    "sc = spark.sparkContext\n",
    "sc.version"
   ]
  },
  {
   "cell_type": "code",
   "execution_count": 27,
   "metadata": {},
   "outputs": [
    {
     "name": "stdout",
     "output_type": "stream",
     "text": [
      "+------------+-----------+------------+-----------+-----------+\n",
      "|sepal_length|sepal_width|petal_length|petal_width|class      |\n",
      "+------------+-----------+------------+-----------+-----------+\n",
      "|5.1         |3.5        |1.4         |0.2        |Iris-setosa|\n",
      "|4.9         |3.0        |1.4         |0.2        |Iris-setosa|\n",
      "|4.7         |3.2        |1.3         |0.2        |Iris-setosa|\n",
      "|4.6         |3.1        |1.5         |0.2        |Iris-setosa|\n",
      "|5.0         |3.6        |1.4         |0.2        |Iris-setosa|\n",
      "+------------+-----------+------------+-----------+-----------+\n",
      "only showing top 5 rows\n",
      "\n"
     ]
    }
   ],
   "source": [
    "# Read Iris Data\n",
    "path = r\"C:\\Users\\se.vi.dmitriev\\Downloads\\DS Materials\\scripts\\iris.data\"\n",
    "schema = StructType([\n",
    "    StructField('sepal_length', DoubleType(), True),\n",
    "    StructField('sepal_width', DoubleType(), True),\n",
    "    StructField('petal_length', DoubleType(), True),\n",
    "    StructField('petal_width', DoubleType(), True),\n",
    "    StructField('class', StringType(), True)\n",
    "])\n",
    "data = spark.read.csv(path, schema=schema)\n",
    "data.show(5, truncate=False)\n"
   ]
  },
  {
   "cell_type": "code",
   "execution_count": 28,
   "metadata": {},
   "outputs": [
    {
     "name": "stdout",
     "output_type": "stream",
     "text": [
      "root\n",
      " |-- sepal_length: double (nullable = true)\n",
      " |-- sepal_width: double (nullable = true)\n",
      " |-- petal_length: double (nullable = true)\n",
      " |-- petal_width: double (nullable = true)\n",
      " |-- class: string (nullable = true)\n",
      "\n"
     ]
    }
   ],
   "source": [
    "data.printSchema()"
   ]
  },
  {
   "cell_type": "code",
   "execution_count": 30,
   "metadata": {},
   "outputs": [
    {
     "name": "stdout",
     "output_type": "stream",
     "text": [
      "+-------+------------------+-------------------+------------------+------------------+--------------+\n",
      "|summary|      sepal_length|        sepal_width|      petal_length|       petal_width|         class|\n",
      "+-------+------------------+-------------------+------------------+------------------+--------------+\n",
      "|  count|               150|                150|               150|               150|           150|\n",
      "|   mean| 5.843333333333335| 3.0540000000000007|3.7586666666666693|1.1986666666666672|          null|\n",
      "| stddev|0.8280661279778637|0.43359431136217375| 1.764420419952262|0.7631607417008414|          null|\n",
      "|    min|               4.3|                2.0|               1.0|               0.1|   Iris-setosa|\n",
      "|    max|               7.9|                4.4|               6.9|               2.5|Iris-virginica|\n",
      "+-------+------------------+-------------------+------------------+------------------+--------------+\n",
      "\n"
     ]
    }
   ],
   "source": [
    "data.describe().show()"
   ]
  },
  {
   "cell_type": "code",
   "execution_count": 37,
   "metadata": {},
   "outputs": [
    {
     "name": "stdout",
     "output_type": "stream",
     "text": [
      "+------------+-----------+------------+-----------+-----------+-----------+\n",
      "|sepal_length|sepal_width|petal_length|petal_width|class      |class_label|\n",
      "+------------+-----------+------------+-----------+-----------+-----------+\n",
      "|5.1         |3.5        |1.4         |0.2        |Iris-setosa|0.0        |\n",
      "|4.9         |3.0        |1.4         |0.2        |Iris-setosa|0.0        |\n",
      "|4.7         |3.2        |1.3         |0.2        |Iris-setosa|0.0        |\n",
      "|4.6         |3.1        |1.5         |0.2        |Iris-setosa|0.0        |\n",
      "|5.0         |3.6        |1.4         |0.2        |Iris-setosa|0.0        |\n",
      "|5.4         |3.9        |1.7         |0.4        |Iris-setosa|0.0        |\n",
      "|4.6         |3.4        |1.4         |0.3        |Iris-setosa|0.0        |\n",
      "|5.0         |3.4        |1.5         |0.2        |Iris-setosa|0.0        |\n",
      "|4.4         |2.9        |1.4         |0.2        |Iris-setosa|0.0        |\n",
      "|4.9         |3.1        |1.5         |0.1        |Iris-setosa|0.0        |\n",
      "+------------+-----------+------------+-----------+-----------+-----------+\n",
      "only showing top 10 rows\n",
      "\n"
     ]
    }
   ],
   "source": [
    "# Create StringIndexer\n",
    "labelIndexer = StringIndexer(inputCol='class', outputCol='class_label')\n",
    "data_labeled = labelIndexer.fit(data).transform(data)\n",
    "data_labeled.show(10, truncate=False)"
   ]
  },
  {
   "cell_type": "code",
   "execution_count": 43,
   "metadata": {},
   "outputs": [
    {
     "name": "stdout",
     "output_type": "stream",
     "text": [
      "+------------+-----------+------------+-----------+-----------+-----------+-----------------+\n",
      "|sepal_length|sepal_width|petal_length|petal_width|class      |class_label|features         |\n",
      "+------------+-----------+------------+-----------+-----------+-----------+-----------------+\n",
      "|5.1         |3.5        |1.4         |0.2        |Iris-setosa|0.0        |[5.1,3.5,1.4,0.2]|\n",
      "|4.9         |3.0        |1.4         |0.2        |Iris-setosa|0.0        |[4.9,3.0,1.4,0.2]|\n",
      "|4.7         |3.2        |1.3         |0.2        |Iris-setosa|0.0        |[4.7,3.2,1.3,0.2]|\n",
      "|4.6         |3.1        |1.5         |0.2        |Iris-setosa|0.0        |[4.6,3.1,1.5,0.2]|\n",
      "|5.0         |3.6        |1.4         |0.2        |Iris-setosa|0.0        |[5.0,3.6,1.4,0.2]|\n",
      "|5.4         |3.9        |1.7         |0.4        |Iris-setosa|0.0        |[5.4,3.9,1.7,0.4]|\n",
      "|4.6         |3.4        |1.4         |0.3        |Iris-setosa|0.0        |[4.6,3.4,1.4,0.3]|\n",
      "|5.0         |3.4        |1.5         |0.2        |Iris-setosa|0.0        |[5.0,3.4,1.5,0.2]|\n",
      "|4.4         |2.9        |1.4         |0.2        |Iris-setosa|0.0        |[4.4,2.9,1.4,0.2]|\n",
      "|4.9         |3.1        |1.5         |0.1        |Iris-setosa|0.0        |[4.9,3.1,1.5,0.1]|\n",
      "+------------+-----------+------------+-----------+-----------+-----------+-----------------+\n",
      "only showing top 10 rows\n",
      "\n"
     ]
    }
   ],
   "source": [
    "# Create VectorAssembler\n",
    "data_featured = VectorAssembler(inputCols=['sepal_length', 'sepal_width', 'petal_length', 'petal_width'], outputCol='features').transform(data_labeled)\n",
    "data_featured.show(10, truncate=False)"
   ]
  },
  {
   "cell_type": "code",
   "execution_count": 47,
   "metadata": {},
   "outputs": [
    {
     "name": "stdout",
     "output_type": "stream",
     "text": [
      "0.7825612318100821\n",
      "-0.41944620026002677\n",
      "0.9490425448523336\n",
      "0.9564638238016178\n"
     ]
    }
   ],
   "source": [
    "# Estimate correlation between features and class label \n",
    "print(data_featured.corr('sepal_length', 'class_label'))\n",
    "print(data_featured.corr('sepal_width', 'class_label'))\n",
    "print(data_featured.corr('petal_length', 'class_label'))\n",
    "print(data_featured.corr('petal_width', 'class_label'))"
   ]
  },
  {
   "cell_type": "code",
   "execution_count": 48,
   "metadata": {},
   "outputs": [],
   "source": [
    "# Train, test split\n",
    "data_featured_train, data_featured_test = data_featured.randomSplit([0.8, 0.2], seed=1234)"
   ]
  },
  {
   "cell_type": "code",
   "execution_count": 52,
   "metadata": {},
   "outputs": [
    {
     "name": "stdout",
     "output_type": "stream",
     "text": [
      "+------------+-----------+------------+-----------+-----------+----------+\n",
      "|sepal_length|sepal_width|petal_length|petal_width|class_label|prediction|\n",
      "+------------+-----------+------------+-----------+-----------+----------+\n",
      "|4.4         |2.9        |1.4         |0.2        |0.0        |0.0       |\n",
      "|4.5         |2.3        |1.3         |0.3        |0.0        |1.0       |\n",
      "|4.9         |3.1        |1.5         |0.1        |0.0        |0.0       |\n",
      "|5.0         |3.0        |1.6         |0.2        |0.0        |0.0       |\n",
      "|5.0         |3.2        |1.2         |0.2        |0.0        |0.0       |\n",
      "|5.0         |3.3        |1.4         |0.2        |0.0        |0.0       |\n",
      "|5.0         |3.4        |1.5         |0.2        |0.0        |0.0       |\n",
      "|5.1         |3.5        |1.4         |0.3        |0.0        |0.0       |\n",
      "|5.3         |3.7        |1.5         |0.2        |0.0        |0.0       |\n",
      "|5.4         |3.4        |1.5         |0.4        |0.0        |0.0       |\n",
      "|5.5         |2.3        |4.0         |1.3        |1.0        |1.0       |\n",
      "|5.5         |2.6        |4.4         |1.2        |1.0        |1.0       |\n",
      "|5.5         |3.5        |1.3         |0.2        |0.0        |0.0       |\n",
      "|5.5         |4.2        |1.4         |0.2        |0.0        |0.0       |\n",
      "|5.6         |3.0        |4.1         |1.3        |1.0        |1.0       |\n",
      "|5.7         |2.6        |3.5         |1.0        |1.0        |1.0       |\n",
      "|5.7         |3.8        |1.7         |0.3        |0.0        |0.0       |\n",
      "|5.7         |4.4        |1.5         |0.4        |0.0        |0.0       |\n",
      "|5.8         |2.7        |5.1         |1.9        |2.0        |2.0       |\n",
      "|6.0         |2.2        |5.0         |1.5        |2.0        |2.0       |\n",
      "+------------+-----------+------------+-----------+-----------+----------+\n",
      "only showing top 20 rows\n",
      "\n"
     ]
    }
   ],
   "source": [
    "# Create logistic Classifier, train and make predictions\n",
    "lg_clf = LogisticRegression(featuresCol='features', labelCol='class_label')\n",
    "model = lg_clf.fit(data_featured_train)\n",
    "predictions = model.transform(data_featured_test)\n",
    "predictions.select('sepal_length', 'sepal_width', 'petal_length', 'petal_width', 'class_label', 'prediction').show(20, truncate=False)"
   ]
  },
  {
   "cell_type": "code",
   "execution_count": 51,
   "metadata": {},
   "outputs": [
    {
     "name": "stdout",
     "output_type": "stream",
     "text": [
      "root\n",
      " |-- sepal_length: double (nullable = true)\n",
      " |-- sepal_width: double (nullable = true)\n",
      " |-- petal_length: double (nullable = true)\n",
      " |-- petal_width: double (nullable = true)\n",
      " |-- class: string (nullable = true)\n",
      " |-- class_label: double (nullable = false)\n",
      " |-- features: vector (nullable = true)\n",
      " |-- rawPrediction: vector (nullable = true)\n",
      " |-- probability: vector (nullable = true)\n",
      " |-- prediction: double (nullable = false)\n",
      "\n"
     ]
    }
   ],
   "source": [
    "predictions.printSchema()"
   ]
  },
  {
   "cell_type": "code",
   "execution_count": 55,
   "metadata": {},
   "outputs": [
    {
     "data": {
      "text/plain": [
       "0.972972972972973"
      ]
     },
     "execution_count": 55,
     "metadata": {},
     "output_type": "execute_result"
    }
   ],
   "source": [
    "# Evaluate results\n",
    "evaluator = MulticlassClassificationEvaluator(predictionCol='prediction', labelCol='class_label', metricName='accuracy')\n",
    "evaluator.evaluate(predictions)"
   ]
  },
  {
   "cell_type": "code",
   "execution_count": 57,
   "metadata": {},
   "outputs": [
    {
     "name": "stdout",
     "output_type": "stream",
     "text": [
      "+-----------+----------+-----+\n",
      "|class_label|prediction|count|\n",
      "+-----------+----------+-----+\n",
      "|        0.0|       0.0|   13|\n",
      "|        0.0|       1.0|    1|\n",
      "|        1.0|       1.0|   12|\n",
      "|        2.0|       2.0|   11|\n",
      "+-----------+----------+-----+\n",
      "\n"
     ]
    }
   ],
   "source": [
    "# Get confusion matrix\n",
    "predictions.groupby('class_label', 'prediction').count().show()"
   ]
  },
  {
   "cell_type": "code",
   "execution_count": null,
   "metadata": {},
   "outputs": [],
   "source": []
  }
 ],
 "metadata": {
  "kernelspec": {
   "display_name": "ML",
   "language": "python",
   "name": "ml"
  },
  "language_info": {
   "codemirror_mode": {
    "name": "ipython",
    "version": 3
   },
   "file_extension": ".py",
   "mimetype": "text/x-python",
   "name": "python",
   "nbconvert_exporter": "python",
   "pygments_lexer": "ipython3",
   "version": "3.7.5"
  }
 },
 "nbformat": 4,
 "nbformat_minor": 4
}
