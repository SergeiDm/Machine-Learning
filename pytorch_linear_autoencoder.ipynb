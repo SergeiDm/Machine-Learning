{
 "cells": [
  {
   "cell_type": "code",
   "execution_count": 27,
   "metadata": {},
   "outputs": [],
   "source": [
    "import matplotlib.pyplot as plt\n",
    "import numpy as np\n",
    "import pandas as pd\n",
    "import torch\n",
    "import torch.nn.functional as F\n",
    "\n",
    "from torch import nn, optim\n",
    "from torch.utils.data import DataLoader, TensorDataset\n",
    "from torchvision import datasets, transforms\n",
    "\n",
    "%matplotlib inline"
   ]
  },
  {
   "cell_type": "code",
   "execution_count": 61,
   "metadata": {},
   "outputs": [],
   "source": [
    "seed = 1234\n",
    "np.random.seed(seed)\n",
    "torch.manual_seed(seed)\n",
    "\n",
    "transform_ds = transforms.Compose([transforms.ToTensor()])\n",
    "\n",
    "train_ds = datasets.MNIST(root=\"data\", train=True, download=True, transform=transform_ds)\n",
    "test_ds = datasets.MNIST(root=\"data\", train=False, download=True, transform=transform_ds)"
   ]
  },
  {
   "cell_type": "code",
   "execution_count": 62,
   "metadata": {},
   "outputs": [
    {
     "data": {
      "text/plain": [
       "<matplotlib.image.AxesImage at 0x154a4b68508>"
      ]
     },
     "execution_count": 62,
     "metadata": {},
     "output_type": "execute_result"
    },
    {
     "data": {
      "image/png": "[encoded data removed]",
      "text/plain": [
       "<Figure size 432x288 with 1 Axes>"
      ]
     },
     "metadata": {
      "needs_background": "light"
     },
     "output_type": "display_data"
    }
   ],
   "source": [
    "plt.imshow(train_ds.data[0].numpy())"
   ]
  },
  {
   "cell_type": "code",
   "execution_count": 63,
   "metadata": {},
   "outputs": [
    {
     "data": {
      "text/plain": [
       "torch.Size([32, 1, 28, 28])"
      ]
     },
     "execution_count": 63,
     "metadata": {},
     "output_type": "execute_result"
    }
   ],
   "source": [
    "train_loader = DataLoader(train_ds, batch_size=32, shuffle=True)\n",
    "test_loader = DataLoader(test_ds, batch_size=32, shuffle=True)\n",
    "\n",
    "# Check size\n",
    "d = iter(train_loader).next()\n",
    "d[0].shape"
   ]
  },
  {
   "cell_type": "code",
   "execution_count": 96,
   "metadata": {},
   "outputs": [],
   "source": [
    "# Declare Network\n",
    "class LinearAutoencoder(nn.Module):\n",
    "    \n",
    "    def __init__(self) -> None:\n",
    "        super(LinearAutoencoder, self).__init__()\n",
    "        self.linear1 = nn.Linear(784, 320)\n",
    "        self.linear2 = nn.Linear(320, 64)\n",
    "        self.linear3 = nn.Linear(64, 320)\n",
    "        self.linear4 = nn.Linear(320, 784)\n",
    "        \n",
    "    def forward(self, x: torch.Tensor) -> torch.Tensor:\n",
    "        #x = x.view(-1, 784)\n",
    "        x = F.relu(self.linear1(x))\n",
    "        x = F.relu(self.linear2(x))\n",
    "        x = F.relu(self.linear3(x))\n",
    "        x = torch.sigmoid(self.linear4(x))\n",
    "        return x\n",
    "\n",
    "device = torch.device(\"cuda\" if torch.cuda.is_available() else \"cpu\")\n",
    "model = LinearAutoencoder().to(device)\n",
    "criterion = nn.MSELoss(reduction='sum')\n",
    "optimizer = optim.Adam(model.parameters(), lr=1e-3)\n",
    "scheduler = optim.lr_scheduler.ExponentialLR(optimizer=optimizer, gamma=0.8)\n"
   ]
  },
  {
   "cell_type": "code",
   "execution_count": 97,
   "metadata": {},
   "outputs": [
    {
     "name": "stdout",
     "output_type": "stream",
     "text": [
      "Epoch: 1 | Train loss: 17.480166 | Test loss: 8.291100\n",
      "Epoch: 2 | Train loss: 7.185260 | Test loss: 6.107260\n",
      "Epoch: 3 | Train loss: 5.646713 | Test loss: 5.116842\n",
      "Epoch: 4 | Train loss: 4.892870 | Test loss: 4.608519\n",
      "Epoch: 5 | Train loss: 4.456796 | Test loss: 4.362172\n",
      "Epoch: 6 | Train loss: 4.172776 | Test loss: 4.060395\n",
      "Epoch: 7 | Train loss: 3.980330 | Test loss: 3.936950\n",
      "Epoch: 8 | Train loss: 3.835231 | Test loss: 3.797913\n",
      "Epoch: 9 | Train loss: 3.728770 | Test loss: 3.729015\n",
      "Epoch: 10 | Train loss: 3.645793 | Test loss: 3.675801\n",
      "Epoch: 11 | Train loss: 3.581123 | Test loss: 3.617840\n",
      "Epoch: 12 | Train loss: 3.529260 | Test loss: 3.575839\n",
      "Epoch: 13 | Train loss: 3.489502 | Test loss: 3.537868\n",
      "Epoch: 14 | Train loss: 3.457226 | Test loss: 3.508524\n",
      "Epoch: 15 | Train loss: 3.432127 | Test loss: 3.488966\n",
      "Epoch: 16 | Train loss: 3.411711 | Test loss: 3.478065\n",
      "Epoch: 17 | Train loss: 3.394687 | Test loss: 3.466264\n",
      "Epoch: 18 | Train loss: 3.381745 | Test loss: 3.455535\n",
      "Epoch: 19 | Train loss: 3.371203 | Test loss: 3.449814\n",
      "Epoch: 20 | Train loss: 3.362881 | Test loss: 3.446271\n",
      "Epoch: 21 | Train loss: 3.355876 | Test loss: 3.437805\n",
      "Epoch: 22 | Train loss: 3.350417 | Test loss: 3.433059\n",
      "Epoch: 23 | Train loss: 3.345875 | Test loss: 3.431684\n",
      "Epoch: 24 | Train loss: 3.342165 | Test loss: 3.428614\n",
      "Epoch: 25 | Train loss: 3.339395 | Test loss: 3.426403\n",
      "Epoch: 26 | Train loss: 3.336997 | Test loss: 3.424918\n",
      "Epoch: 27 | Train loss: 3.335155 | Test loss: 3.422389\n",
      "Epoch: 28 | Train loss: 3.333634 | Test loss: 3.423363\n",
      "Epoch: 29 | Train loss: 3.332380 | Test loss: 3.421316\n",
      "Epoch: 30 | Train loss: 3.331416 | Test loss: 3.420683\n"
     ]
    }
   ],
   "source": [
    "# Train Network\n",
    "epochs = 30\n",
    "\n",
    "for epoch in range(epochs):\n",
    "    model.train()\n",
    "    train_loss = 0\n",
    "    for inputs, _ in train_loader:\n",
    "        inputs = inputs.view(-1, 784).to(device)\n",
    "        optimizer.zero_grad()\n",
    "        output = model.forward(inputs)\n",
    "        loss = criterion(output, inputs)\n",
    "        train_loss += loss.item()\n",
    "        loss.backward()\n",
    "        optimizer.step()\n",
    "    else:\n",
    "        train_loss /= len(train_loader.dataset)\n",
    "    \n",
    "    model.eval()\n",
    "    test_loss = 0\n",
    "    with torch.no_grad():\n",
    "        test_loss = 0\n",
    "        for inputs, _ in test_loader:\n",
    "            inputs = inputs.view(-1, 784).to(device)\n",
    "            output = model.forward(inputs)\n",
    "            loss = criterion(output, inputs)\n",
    "            test_loss += loss.item()\n",
    "        else:\n",
    "            test_loss /= len(test_loader.dataset)\n",
    "    \n",
    "    scheduler.step()\n",
    "    \n",
    "    print(f\"Epoch: {epoch+1} | Train loss: {train_loss:.6f} | Test loss: {test_loss:.6f}\")\n"
   ]
  },
  {
   "cell_type": "code",
   "execution_count": 80,
   "metadata": {},
   "outputs": [],
   "source": [
    "indexes = np.random.randint(0, len(test_ds), size=10)"
   ]
  },
  {
   "cell_type": "code",
   "execution_count": 98,
   "metadata": {},
   "outputs": [
    {
     "data": {
      "image/png": "[encoded data removed]",
      "text/plain": [
       "<Figure size 1080x360 with 20 Axes>"
      ]
     },
     "metadata": {
      "needs_background": "light"
     },
     "output_type": "display_data"
    }
   ],
   "source": [
    "# Checking result\n",
    "model.eval()\n",
    "fig, ax = plt.subplots(nrows=2, ncols=10, figsize=(15, 5), sharex=True, sharey=True)\n",
    "for idx, item in enumerate(indexes):\n",
    "    picture = train_ds.data[item]\n",
    "    ax[0][idx].imshow(picture.numpy(), cmap='gray')\n",
    "    result = model.forward(picture.view(-1, 784).to(device=device, dtype=torch.float))\n",
    "    ax[1][idx].imshow(result.view(28, 28).cpu().detach().numpy(), cmap='gray')\n",
    "    ax[0][idx].get_xaxis().set_visible(False)\n",
    "    ax[0][idx].get_yaxis().set_visible(False)\n",
    "    ax[1][idx].get_xaxis().set_visible(False)\n",
    "    ax[1][idx].get_yaxis().set_visible(False)\n",
    "\n",
    "plt.tight_layout()"
   ]
  },
  {
   "cell_type": "code",
   "execution_count": null,
   "metadata": {},
   "outputs": [],
   "source": []
  }
 ],
 "metadata": {
  "kernelspec": {
   "display_name": "PyTorch",
   "language": "python",
   "name": "pytorch"
  },
  "language_info": {
   "codemirror_mode": {
    "name": "ipython",
    "version": 3
   },
   "file_extension": ".py",
   "mimetype": "text/x-python",
   "name": "python",
   "nbconvert_exporter": "python",
   "pygments_lexer": "ipython3",
   "version": "3.7.5"
  }
 },
 "nbformat": 4,
 "nbformat_minor": 4
}
